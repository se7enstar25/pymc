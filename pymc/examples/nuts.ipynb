{
 "metadata": {
  "name": "nuts"
 },
 "nbformat": 3,
 "nbformat_minor": 0,
 "worksheets": [
  {
   "cells": [
    {
     "cell_type": "code",
     "collapsed": false,
     "input": [
      "from numpy import * \n",
      "from numpy.random import * \n",
      "\n",
      "\n",
      "\n",
      "def bernoulli(p):\n",
      "    return uniform(0, 1) < p\n",
      "\n",
      "def L(x): \n",
      "    return -.5*x**2\n",
      "def dL(x):\n",
      "    return -x\n",
      "\n",
      "e = .05\n",
      "Emax = 1000.\n",
      "\n",
      "def Leapfrog(q, r, s):\n",
      "\n",
      "    r1 = r + (s/2)*dL(q)\n",
      "    q1 = q + s * r1\n",
      "    r1 = r1 + (s/2)*dL(q1)\n",
      "    return q1, r1\n",
      "    \n",
      "        \n",
      "def step(qm1):\n",
      "    r0 = normal([0])\n",
      "    u = uniform(0, exp(L(qm1) - .5* r0.dot(r0) ))\n",
      "\n",
      "    qn = qm1\n",
      "    qp = qm1\n",
      "    rn = r0\n",
      "    rp = r0\n",
      "    j = 0\n",
      "    qm = qm1\n",
      "    n = 1\n",
      "    s = 1\n",
      "    while s == 1:\n",
      "        vj = bernoulli(.5) * 2 - 1\n",
      "        if vj == -1:\n",
      "            qn , rn , _, _, qprime , nprime , sprime = BuildTree(qn , rn , u, vj , j)\n",
      "        else:\n",
      "            _, _, qp , rp , qprime , nprime , sprime = BuildTree(qp , rp , u, vj , j)\n",
      "\n",
      "        if sprime == 1:\n",
      "            if bernoulli(min(1, nprime*1.0/n)):\n",
      "                qm = qprime \n",
      "                #print \"BT accept \" + str(qm)\n",
      "            else: \n",
      "                #print \"BT reject \" + str(qm)\n",
      "    \n",
      "                pass\n",
      "        n=n+nprime\n",
      "        s = sprime * ((qp - qn ).dot(rn) >= 0) * ((qp - qn ).dot(rp) >= 0)\n",
      "        j = j + 1\n",
      "        \n",
      "    return qm\n",
      "\n",
      "def BuildTree(q, r, u, v, j):\n",
      "    if j == 0:\n",
      "        #Base case\u2014take one leapfrog step in the direction v.\n",
      "        qprime , rprime = Leapfrog(q, r, v*e)\n",
      "        nprime = (u <= exp(L(qprime ) - .5*rprime.dot(rprime)))*1\n",
      "\n",
      "        sprime = (u < exp(Emax + L(qprime) - .5*rprime.dot(rprime)))\n",
      "\n",
      "        return qprime , rprime , qprime , rprime , qprime , nprime , sprime \n",
      "    else:\n",
      "        #Recursion\u2014implicitly build the left and right subtrees.\n",
      "        qn , rn , qp , rp , qprime , nprime , sprime = BuildTree(q, r, u, v, j - 1)\n",
      "        if sprime == 1:\n",
      "            if v == -1:\n",
      "                qn , rn , _, _, qprime2 , nprime2 , sprime2 = BuildTree(qn , rn , u, v, j - 1)\n",
      "            else:\n",
      "                _, _, qp , rp , qprime2 , nprime2 , sprime2 = BuildTree(qp , rp , u, v, j - 1)\n",
      "\n",
      "            if bernoulli(nprime2*1.0/(nprime +nprime2)):\n",
      "                qprime = qprime2 \n",
      "                #print \"BT accept \" + str(qprime)\n",
      "            else: \n",
      "                #print \"BT reject \" + str(qprime)\n",
      "\n",
      "                pass\n",
      "            sprime = sprime2 *((qp - qn ).dot(rn) >= 0)* ((qp - qn ).dot(rp) >= 0)\n",
      "            nprime = nprime + nprime2\n",
      "\n",
      "        return qn , rn , qp , rp , qprime , nprime , sprime \n",
      "\n",
      "    "
     ],
     "language": "python",
     "metadata": {},
     "outputs": [],
     "prompt_number": 3
    },
    {
     "cell_type": "code",
     "collapsed": false,
     "input": [
      "samples = []\n",
      "q = np.array([0.])\n",
      "for i in range(2000):\n",
      "    samples.append(q)\n",
      "    q = step(q)\n",
      "\n",
      "print std(samples)\n",
      "plot(samples)"
     ],
     "language": "python",
     "metadata": {},
     "outputs": [],
     "prompt_number": "*"
    },
    {
     "cell_type": "code",
     "collapsed": false,
     "input": [
      "numpy.random.seed(1)\n",
      "q = np.array([0.])\n",
      "print step(q)\n"
     ],
     "language": "python",
     "metadata": {},
     "outputs": [
      {
       "output_type": "stream",
       "stream": "stdout",
       "text": [
        "[1] [1]\n",
        "[1] [1]\n",
        "[1] [1]\n",
        "[2] [2]\n",
        "[1] [1]\n",
        "[2] [2]\n",
        "[1] [1]\n",
        "[1] [1]\n",
        "[2] [2]\n",
        "[1] [1]\n",
        "[1] [1]\n",
        "[2] [2]\n",
        "[2] [2]\n",
        "[1] [1]\n",
        "[2] [2]\n",
        "[1] [1]\n",
        "[1] [1]\n",
        "[2] [2]\n",
        "[1] [1]\n",
        "[2] [2]\n",
        "[4] [4]\n",
        "[8] [8]\n",
        "[1] [1]\n",
        "[2] [2]\n",
        "[2] [2]\n",
        "[4] [4]\n",
        "[ 0.63281002]\n"
       ]
      }
     ],
     "prompt_number": 3
    },
    {
     "cell_type": "code",
     "collapsed": false,
     "input": [
      "plot(d,'.')\n",
      "plot(g,'.')"
     ],
     "language": "python",
     "metadata": {},
     "outputs": [
      {
       "output_type": "pyout",
       "prompt_number": 4,
       "text": [
        "[<matplotlib.lines.Line2D at 0x94d56ac>]"
       ]
      },
      {
       "output_type": "display_data",
       "png": "[encoded data removed]"
      }
     ],
     "prompt_number": 4
    },
    {
     "cell_type": "code",
     "collapsed": false,
     "input": [
      "True + True"
     ],
     "language": "python",
     "metadata": {},
     "outputs": [
      {
       "output_type": "pyout",
       "prompt_number": 12,
       "text": [
        "2"
       ]
      }
     ],
     "prompt_number": 12
    },
    {
     "cell_type": "code",
     "collapsed": false,
     "input": [],
     "language": "python",
     "metadata": {},
     "outputs": []
    }
   ],
   "metadata": {}
  }
 ]
}