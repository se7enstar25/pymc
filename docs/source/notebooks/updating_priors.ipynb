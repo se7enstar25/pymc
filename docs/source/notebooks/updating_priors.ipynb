{
 "cells": [
  {
   "cell_type": "markdown",
   "metadata": {},
   "source": [
    "# Updating priors"
   ]
  },
  {
   "cell_type": "markdown",
   "metadata": {},
   "source": [
    "In this notebook, I will show how it is possible to update the priors as new data becomes available. The example is a slightly modified version of the linear regression in the [Getting started with PyMC3](https://github.com/pymc-devs/pymc3/blob/master/docs/source/notebooks/getting_started.ipynb) notebook."
   ]
  },
  {
   "cell_type": "code",
   "execution_count": null,
   "metadata": {
    "collapsed": true,
    "deletable": true,
    "editable": true
   },
   "outputs": [],
   "source": [
    "import matplotlib.pyplot as plt\n",
    "import matplotlib as mpl\n",
    "from pymc3 import Model, Normal, Slice\n",
    "from pymc3 import sample\n",
    "from pymc3 import traceplot\n",
    "from pymc3.distributions import Continuous\n",
    "from theano import as_op\n",
    "import theano.tensor as tt\n",
    "import numpy as np\n",
    "from scipy import stats\n",
    "\n",
    "%matplotlib inline"
   ]
  },
  {
   "cell_type": "markdown",
   "metadata": {},
   "source": [
    "## Generating data"
   ]
  },
  {
   "cell_type": "code",
   "execution_count": null,
   "metadata": {
    "collapsed": false
   },
   "outputs": [],
   "source": [
    "# Initialize random number generator\n",
    "np.random.seed(123)\n",
    "\n",
    "# True parameter values\n",
    "alpha_true, beta0_true, beta1_true = 5, 7, 13\n",
    "\n",
    "# Size of dataset\n",
    "size = 100\n",
    "\n",
    "# Predictor variable\n",
    "X1 = np.random.randn(size)\n",
    "X2 = np.random.randn(size) * 0.2\n",
    "\n",
    "# Simulate outcome variable\n",
    "Y = alpha_true + beta0_true * X1 + beta1_true * X2 + np.random.randn(size)"
   ]
  },
  {
   "cell_type": "markdown",
   "metadata": {},
   "source": [
    "## Model specification"
   ]
  },
  {
   "cell_type": "markdown",
   "metadata": {},
   "source": [
    "Our initial beliefs about the parameters are quite informative (sd=1) and a bit off the true values."
   ]
  },
  {
   "cell_type": "code",
   "execution_count": null,
   "metadata": {
    "collapsed": false,
    "deletable": true,
    "editable": true
   },
   "outputs": [],
   "source": [
    "basic_model = Model()\n",
    "\n",
    "with basic_model:\n",
    "    \n",
    "    # Priors for unknown model parameters\n",
    "    alpha = Normal('alpha', mu=0, sd=1)\n",
    "    beta0 = Normal('beta0', mu=12, sd=1)\n",
    "    beta1 = Normal('beta1', mu=18, sd=1)\n",
    "    \n",
    "    # Expected value of outcome\n",
    "    mu = alpha + beta0 * X1 + beta1 * X2\n",
    "    \n",
    "    # Likelihood (sampling distribution) of observations\n",
    "    Y_obs = Normal('Y_obs', mu=mu, sd=1, observed=Y)\n",
    "    \n",
    "    # draw 1000 posterior samples\n",
    "    trace = sample(1000)"
   ]
  },
  {
   "cell_type": "code",
   "execution_count": null,
   "metadata": {
    "collapsed": false
   },
   "outputs": [],
   "source": [
    "traceplot(trace)"
   ]
  },
  {
   "cell_type": "markdown",
   "metadata": {},
   "source": [
    "In order to update our beliefs about the parameters, we use the posterior distributions, which will be used as the prior distributions for the next inference. The data used for each inference iteration has to be independent from the previous iterations, otherwise the same (possibly wrong) belief is injected over and over in the system, misleading the inference. By ensuring the data is independent, the system should converge to the true parameter values.\n",
    "\n",
    "Because we draw samples from the posterior distribution (shown on the right in the figure above), we need to estimate their probability density (shown on the left in the figure above). Kernel density estimation (KDE) is a way to achieve this, and we will use this technique here. In any case, it is an empirical distribution that cannot be expressed analytically. Fortunately PyMC3 provides a way to built custom distributions. We just need to inherit the *Continuous* class and provide our own *logp* method. The code below does just that."
   ]
  },
  {
   "cell_type": "code",
   "execution_count": null,
   "metadata": {
    "collapsed": true
   },
   "outputs": [],
   "source": [
    "def from_posterior(param, samples):\n",
    "\n",
    "    class From_posterior(Continuous):\n",
    "        def __init__(self, *args, **kwargs):\n",
    "            self.from_posterior_logp = _from_posterior_logp()\n",
    "            super(From_posterior, self).__init__(*args, **kwargs)\n",
    "        def logp(self, value):\n",
    "            return self.from_posterior_logp(value)\n",
    "\n",
    "    class From_posterior_logp:\n",
    "        def __init__(self, samples):\n",
    "            smin, smax = np.min(samples), np.max(samples)\n",
    "            self.x = np.linspace(smin, smax, 100)\n",
    "            self.y = stats.gaussian_kde(samples)(self.x)\n",
    "            #self.y /= np.sum(self.y)\n",
    "        def from_posterior_logp(self, value):\n",
    "            return np.array(np.log(np.interp(value, self.x, self.y, left=0, right=0)))\n",
    "    \n",
    "    from_posterior_logp = From_posterior_logp(samples)\n",
    "\n",
    "    def _from_posterior_logp():\n",
    "        @as_op(itypes=[tt.dscalar], otypes=[tt.dscalar])\n",
    "        def logp(value):\n",
    "            return from_posterior_logp.from_posterior_logp(value)\n",
    "        return logp\n",
    "\n",
    "    return From_posterior(param, testval=np.median(samples))"
   ]
  },
  {
   "cell_type": "markdown",
   "metadata": {},
   "source": [
    "Now we just need to generate more data and build our Bayesian model so that the prior distributions for the current iteration are the posterior distributions from the previous iteration. We save the posterior samples for each iteration so that we can plot their distribution and see it changing from one iteration to the next (first iterations are plotted in yellow, last iterations are plotted in red)."
   ]
  },
  {
   "cell_type": "code",
   "execution_count": null,
   "metadata": {
    "collapsed": true
   },
   "outputs": [],
   "source": [
    "update_i = 0\n",
    "traces = [trace]"
   ]
  },
  {
   "cell_type": "code",
   "execution_count": null,
   "metadata": {
    "collapsed": false
   },
   "outputs": [],
   "source": [
    "for _ in range(10):\n",
    "\n",
    "    # generate more data\n",
    "    X1 = np.random.randn(size)\n",
    "    X2 = np.random.randn(size) * 0.2\n",
    "    Y = alpha_true + beta0_true * X1 + beta1_true * X2 + np.random.randn(size)\n",
    "\n",
    "    model = Model()\n",
    "    with model:\n",
    "        burnin = int(len(trace) / 5)\n",
    "        # Priors for unknown model parameters\n",
    "        alpha = from_posterior('alpha', trace['alpha'][burnin:])\n",
    "        beta0 = from_posterior('beta0', trace['beta0'][burnin:])\n",
    "        beta1 = from_posterior('beta1', trace['beta1'][burnin:])\n",
    "\n",
    "        # Expected value of outcome\n",
    "        mu = alpha + beta0 * X1 + beta1 * X2\n",
    "\n",
    "        # Likelihood (sampling distribution) of observations\n",
    "        Y_obs = Normal('Y_obs', mu=mu, sd=1, observed=Y)\n",
    "        \n",
    "        step = Slice([alpha, beta0, beta1])\n",
    "        \n",
    "        # draw 1000 posterior samples\n",
    "        trace = sample(1000, step=step)\n",
    "        traces.append(trace)\n",
    "        \n",
    "    update_i += 1"
   ]
  },
  {
   "cell_type": "code",
   "execution_count": null,
   "metadata": {
    "collapsed": false
   },
   "outputs": [],
   "source": [
    "cmap = mpl.cm.autumn\n",
    "for param in ['alpha', 'beta0', 'beta1']:\n",
    "    plt.figure(figsize=(8, 2))\n",
    "    for update_i, trace in enumerate(traces):\n",
    "        samples = trace[param][burnin:]\n",
    "        smin, smax = np.min(samples), np.max(samples)\n",
    "        x = np.linspace(smin, smax, 100)\n",
    "        y = stats.gaussian_kde(samples)(x)\n",
    "        plt.plot(x, y, color=cmap(1 - update_i / len(traces)))\n",
    "    plt.axvline({'alpha': alpha_true, 'beta0': beta0_true, 'beta1': beta1_true}[param], c='k')\n",
    "    plt.ylabel('Frequency')\n",
    "    plt.title(param)\n",
    "    plt.show()"
   ]
  },
  {
   "cell_type": "markdown",
   "metadata": {},
   "source": [
    "You can re-execute the last two cells to generate more updates.\n",
    "\n",
    "What is interesting to note is that the posterior distributions for our parameters tend to get centered on their true value (vertical lines), and the distribution gets thiner and thiner. This means that we get more confident each time, and the (false) belief we had at the beginning gets flushed away by the new data we incorporate."
   ]
  }
 ],
 "metadata": {
  "anaconda-cloud": {},
  "kernelspec": {
   "display_name": "Python [default]",
   "language": "python",
   "name": "python3"
  },
  "language_info": {
   "codemirror_mode": {
    "name": "ipython",
    "version": 3
   },
   "file_extension": ".py",
   "mimetype": "text/x-python",
   "name": "python",
   "nbconvert_exporter": "python",
   "pygments_lexer": "ipython3",
   "version": "3.5.2"
  }
 },
 "nbformat": 4,
 "nbformat_minor": 2
}
