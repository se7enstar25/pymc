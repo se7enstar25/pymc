{
 "cells": [
  {
   "cell_type": "markdown",
   "metadata": {},
   "source": [
    "# Sequential Monte Carlo with two gaussians\n",
    "\n",
    "Sampling from $n$-dimensional distributions with multiple peaks with a standard Metropolis-Hastings algorithm can be difficult, if not impossible, as the Markov chain often gets stuck in either of the minima.\n",
    "\n",
    "This problem can be avoided by running many (`n_chains`) Markov chains in parallel for (`n_steps`) steps. To speed this process up we do not sample right away from the posterior distribution, but rather from an intermediate distribution that is similar to the previous distribution. Once the sampling for all the chains is finished, the algorithm enters a 'transitional stage'.\n",
    "\n",
    "In this stage the similarity between the intermediate distributions is evaluated by a tempering parameter (`beta`), which is automatically determined from the sampling results (coefficient of variation - COV) from the previous intermediate distribution. If the COV is high the cooling is slow, resulting in small steps in `beta` and vice versa.\n",
    "Also based on the parameter distributions the `MultivariateProposal` is updated and new seed points for the following Markov chains are determined. The end points of the Markov chains with the highest likelihoods are chosen as new seed-points for the Markov chains of the next sampling stage.\n",
    "\n",
    "So the sampling of the intermediate distribution is repeated until `beta` > 1, which means that the posterior distribution is reached."
   ]
  },
  {
   "cell_type": "code",
   "execution_count": 1,
   "metadata": {},
   "outputs": [],
   "source": [
    "import pymc3 as pm\n",
    "import numpy as np\n",
    "from pymc3.step_methods import smc\n",
    "import theano.tensor as tt\n",
    "from matplotlib import pyplot as plt\n",
    "from tempfile import mkdtemp\n",
    "import shutil\n",
    "%matplotlib inline\n",
    "\n",
    "test_folder = mkdtemp(prefix='ATMIP_TEST')"
   ]
  },
  {
   "cell_type": "markdown",
   "metadata": {},
   "source": [
    "The number of Markov chains and the number of steps each Markov chain is sampling has to be defined, as well as the `tune_interval` and the number of processors to be used in the parallel sampling. In this very simple example using only one processor is faster than forking the interpreter. However, if the calculation cost of the model increases it becomes more efficient to use many processors."
   ]
  },
  {
   "cell_type": "code",
   "execution_count": 2,
   "metadata": {},
   "outputs": [],
   "source": [
    "n_chains = 500\n",
    "n_steps = 100\n",
    "tune_interval = 25\n",
    "n_jobs = 1"
   ]
  },
  {
   "cell_type": "markdown",
   "metadata": {},
   "source": [
    "Define the number of dimensions for the multivariate gaussians, their weights and the covariance matrix. "
   ]
  },
  {
   "cell_type": "code",
   "execution_count": 3,
   "metadata": {},
   "outputs": [],
   "source": [
    "n = 4\n",
    "\n",
    "mu1 = np.ones(n) * (1. / 2)\n",
    "mu2 = -mu1\n",
    "\n",
    "stdev = 0.1\n",
    "sigma = np.power(stdev, 2) * np.eye(n)\n",
    "isigma = np.linalg.inv(sigma)\n",
    "dsigma = np.linalg.det(sigma)\n",
    "\n",
    "w1 = 0.1\n",
    "w2 = (1 - w1)"
   ]
  },
  {
   "cell_type": "markdown",
   "metadata": {},
   "source": [
    "The PyMC3 model.  Note that we are making two gaussians, where one has `w1` (90%) of the mass:"
   ]
  },
  {
   "cell_type": "code",
   "execution_count": 5,
   "metadata": {},
   "outputs": [],
   "source": [
    "def two_gaussians(x):\n",
    "    log_like1 = - 0.5 * n * tt.log(2 * np.pi) \\\n",
    "                - 0.5 * tt.log(dsigma) \\\n",
    "                - 0.5 * (x - mu1).T.dot(isigma).dot(x - mu1)\n",
    "    log_like2 = - 0.5 * n * tt.log(2 * np.pi) \\\n",
    "                - 0.5 * tt.log(dsigma) \\\n",
    "                - 0.5 * (x - mu2).T.dot(isigma).dot(x - mu2)\n",
    "    return tt.log(w1 * tt.exp(log_like1) + w2 * tt.exp(log_like2))\n",
    "\n",
    "\n",
    "with pm.Model() as ATMIP_test:\n",
    "    X = pm.Uniform('X',\n",
    "                   shape=n,\n",
    "                   lower=-2. * np.ones_like(mu1),\n",
    "                   upper=2. * np.ones_like(mu1),\n",
    "                   testval=-1. * np.ones_like(mu1),\n",
    "                   transform=None)\n",
    "    like = pm.Deterministic('like', two_gaussians(X))\n",
    "    llk = pm.Potential('llk', like)"
   ]
  },
  {
   "cell_type": "markdown",
   "metadata": {},
   "source": [
    "Note: In contrast to other pymc3 samplers here we have to define a random variable `like` that contains the model likelihood. The likelihood has to be stored in the sampling traces along with the model parameter samples, in order to determine the coefficient of variation [COV] in each transition stage."
   ]
  },
  {
   "cell_type": "markdown",
   "metadata": {},
   "source": [
    "Now the sampler is initialised dependent on the previous specifications:"
   ]
  },
  {
   "cell_type": "code",
   "execution_count": 6,
   "metadata": {},
   "outputs": [
    {
     "name": "stderr",
     "output_type": "stream",
     "text": [
      "/Users/fonnescj/Repos/pymc3/pymc3/step_methods/smc.py:138: UserWarning: Warning: SMC is an experimental step method, and not yet recommended for use in PyMC3!\n",
      "  warnings.warn(EXPERIMENTAL_WARNING)\n"
     ]
    }
   ],
   "source": [
    "with ATMIP_test:\n",
    "    step = smc.SMC(\n",
    "        n_chains=n_chains, tune_interval=tune_interval,\n",
    "        likelihood_name=ATMIP_test.deterministics[0].name)"
   ]
  },
  {
   "cell_type": "markdown",
   "metadata": {},
   "source": [
    "Finally, the sampling is executed:"
   ]
  },
  {
   "cell_type": "code",
   "execution_count": 7,
   "metadata": {},
   "outputs": [
    {
     "name": "stderr",
     "output_type": "stream",
     "text": [
      "/Users/fonnescj/Repos/pymc3/pymc3/step_methods/smc.py:485: UserWarning: Warning: SMC is an experimental step method, and not yet recommended for use in PyMC3!\n",
      "  warnings.warn(EXPERIMENTAL_WARNING)\n"
     ]
    },
    {
     "ename": "TypeError",
     "evalue": "unsupported operand type(s) for -: 'str' and 'int'",
     "output_type": "error",
     "traceback": [
      "\u001b[0;31m---------------------------------------------------------------------------\u001b[0m",
      "\u001b[0;31mTypeError\u001b[0m                                 Traceback (most recent call last)",
      "\u001b[0;32m<ipython-input-7-c5f19f1ce5a2>\u001b[0m in \u001b[0;36m<module>\u001b[0;34m()\u001b[0m\n\u001b[1;32m      7\u001b[0m     \u001b[0mhomepath\u001b[0m\u001b[0;34m=\u001b[0m\u001b[0mtest_folder\u001b[0m\u001b[0;34m,\u001b[0m\u001b[0;34m\u001b[0m\u001b[0m\n\u001b[1;32m      8\u001b[0m     \u001b[0mmodel\u001b[0m\u001b[0;34m=\u001b[0m\u001b[0mATMIP_test\u001b[0m\u001b[0;34m,\u001b[0m\u001b[0;34m\u001b[0m\u001b[0m\n\u001b[0;32m----> 9\u001b[0;31m     rm_flag=True)\n\u001b[0m",
      "\u001b[0;32m/Users/fonnescj/Repos/pymc3/pymc3/step_methods/smc.py\u001b[0m in \u001b[0;36mATMIP_sample\u001b[0;34m(n_steps, step, start, homepath, chain, stage, n_jobs, tune, progressbar, model, random_seed, rm_flag)\u001b[0m\n\u001b[1;32m    521\u001b[0m         \u001b[0mdraws\u001b[0m \u001b[0;34m=\u001b[0m \u001b[0;36m1\u001b[0m\u001b[0;34m\u001b[0m\u001b[0m\n\u001b[1;32m    522\u001b[0m     \u001b[0;32melse\u001b[0m\u001b[0;34m:\u001b[0m\u001b[0;34m\u001b[0m\u001b[0m\n\u001b[0;32m--> 523\u001b[0;31m         \u001b[0mstep\u001b[0m \u001b[0;34m=\u001b[0m \u001b[0mstage_handler\u001b[0m\u001b[0;34m.\u001b[0m\u001b[0mload_atmip_params\u001b[0m\u001b[0;34m(\u001b[0m\u001b[0mstage\u001b[0m\u001b[0;34m,\u001b[0m \u001b[0mmodel\u001b[0m\u001b[0;34m=\u001b[0m\u001b[0mmodel\u001b[0m\u001b[0;34m)\u001b[0m\u001b[0;34m\u001b[0m\u001b[0m\n\u001b[0m\u001b[1;32m    524\u001b[0m         \u001b[0mdraws\u001b[0m \u001b[0;34m=\u001b[0m \u001b[0mstep\u001b[0m\u001b[0;34m.\u001b[0m\u001b[0mn_steps\u001b[0m\u001b[0;34m\u001b[0m\u001b[0m\n\u001b[1;32m    525\u001b[0m \u001b[0;34m\u001b[0m\u001b[0m\n",
      "\u001b[0;32m/Users/fonnescj/Repos/pymc3/pymc3/backends/smc_text.py\u001b[0m in \u001b[0;36mload_atmip_params\u001b[0;34m(self, stage_number, model)\u001b[0m\n\u001b[1;32m    195\u001b[0m             \u001b[0mprev\u001b[0m \u001b[0;34m=\u001b[0m \u001b[0mself\u001b[0m\u001b[0;34m.\u001b[0m\u001b[0mhighest_sampled_stage\u001b[0m\u001b[0;34m(\u001b[0m\u001b[0;34m)\u001b[0m\u001b[0;34m\u001b[0m\u001b[0m\n\u001b[1;32m    196\u001b[0m         \u001b[0;32melse\u001b[0m\u001b[0;34m:\u001b[0m\u001b[0;34m\u001b[0m\u001b[0m\n\u001b[0;32m--> 197\u001b[0;31m             \u001b[0mprev\u001b[0m \u001b[0;34m=\u001b[0m \u001b[0mstage_number\u001b[0m \u001b[0;34m-\u001b[0m \u001b[0;36m1\u001b[0m\u001b[0;34m\u001b[0m\u001b[0m\n\u001b[0m\u001b[1;32m    198\u001b[0m         \u001b[0mpm\u001b[0m\u001b[0;34m.\u001b[0m\u001b[0m_log\u001b[0m\u001b[0;34m.\u001b[0m\u001b[0minfo\u001b[0m\u001b[0;34m(\u001b[0m\u001b[0;34m'Loading parameters from completed stage {}'\u001b[0m\u001b[0;34m.\u001b[0m\u001b[0mformat\u001b[0m\u001b[0;34m(\u001b[0m\u001b[0mprev\u001b[0m\u001b[0;34m)\u001b[0m\u001b[0;34m)\u001b[0m\u001b[0;34m\u001b[0m\u001b[0m\n\u001b[1;32m    199\u001b[0m \u001b[0;34m\u001b[0m\u001b[0m\n",
      "\u001b[0;31mTypeError\u001b[0m: unsupported operand type(s) for -: 'str' and 'int'"
     ]
    }
   ],
   "source": [
    "mtrace = smc.ATMIP_sample(\n",
    "    n_steps=n_steps,\n",
    "    step=step,\n",
    "    n_jobs=n_jobs,\n",
    "    progressbar=False,\n",
    "    stage='0',\n",
    "    homepath=test_folder,\n",
    "    model=ATMIP_test,\n",
    "    rm_flag=True)"
   ]
  },
  {
   "cell_type": "markdown",
   "metadata": {},
   "source": [
    "Note: Complex models run for a long time and might stop for some reason during the sampling. In order to restart the sampling in the stage when the sampler stopped, set the stage argument to the right stage number (\"`stage='4'`\"). The `rm_flag` determines whether existing results are deleted - there is NO additional warning, so the user should pay attention to that one! "
   ]
  },
  {
   "cell_type": "markdown",
   "metadata": {},
   "source": [
    "Plotting the results using the traceplot:"
   ]
  },
  {
   "cell_type": "code",
   "execution_count": null,
   "metadata": {},
   "outputs": [],
   "source": [
    "pm.traceplot(mtrace, combined=True);"
   ]
  },
  {
   "cell_type": "markdown",
   "metadata": {},
   "source": [
    "Finally, we delete the sampling result folder. This folder may occupy significant disc-space (Gigabytes), depending on the number of sampling parameters for complex models. So we advice the user to check in advance if there is enough space on the disc."
   ]
  },
  {
   "cell_type": "code",
   "execution_count": null,
   "metadata": {},
   "outputs": [],
   "source": [
    "shutil.rmtree(test_folder)"
   ]
  }
 ],
 "metadata": {
  "kernelspec": {
   "display_name": "Python 3",
   "language": "python",
   "name": "python3"
  },
  "language_info": {
   "codemirror_mode": {
    "name": "ipython",
    "version": 3
   },
   "file_extension": ".py",
   "mimetype": "text/x-python",
   "name": "python",
   "nbconvert_exporter": "python",
   "pygments_lexer": "ipython3",
   "version": "3.6.1"
  }
 },
 "nbformat": 4,
 "nbformat_minor": 1
}
