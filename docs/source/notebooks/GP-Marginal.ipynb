{
 "cells": [
  {
   "cell_type": "markdown",
   "metadata": {},
   "source": [
    "#### `gp.Marginal`\n",
    "\n",
    "Commonly, a function is observed with additive Gaussian noise.  Since multivariate normals are self-conjugate, we can marginalize out the latent function $f(x)$.  Calling the `marginal_likelihood` method creates a PyMC3 random variable that represents \n",
    "  $$\n",
    "    p(y \\mid x) = \\int p(y \\mid f) \\, p(f \\mid X) df  \\,.\n",
    "  $$ \n",
    "  Calling `conditional` produces $\\mathbf{f_*}$ (or optionally $\\mathbf{y}_*)$, which includes the Gaussian noise).  Since $f(x)$ has been marginalized out, a `prior` method doesn't make sense and is not implemented for `gp.Marginal`.  \n",
    "  \n",
    "Similarly to `gp.Latent`, a marginal GP is specified by\n",
    "  \n",
    "    gp = pm.gp.Marginal(mean_func, cov_func)\n",
    "  \n",
    "  The marginal likelihood, $p(y \\mid X)$ is \n",
    "  \n",
    "    ym = gp.marginal_likelihood(\"ym\", n_points, X, y, noise)\n",
    "    \n",
    "  the conditional distribution is\n",
    "  \n",
    "    f_pred = gp.conditional(\"f_pred\", n_pred, X_new)\n",
    "  \n",
    "  \n",
    "Any number of `gp.*` objects can also be added together using the `+` operator, i.e., `gp3 = gp1 + gp2` (the sum of two GPs is also a GP).  This allows the users to construct composite GP priors for functions that are themselves sums of functions.  Consider the function $f(x_1, x_2) = g(x_1) + h(x_2)$.  By placing GP priors on $g(x_1)$ and $h(x_2)$, we can separate the effects due to $x_1$ and $x_2$ on $f$."
   ]
  },
  {
   "cell_type": "markdown",
   "metadata": {},
   "source": [
    "# Example: `gp.Marginal`\n",
    "\n",
    "There is a more efficient way to model the last example.  Most GP introductions or tutorials describe the scenario we just covered -- regression with IID Gaussian noise.  This is the most common GP model that people use, but it's really a special case.  When the noise is Gaussian there is no need to explicitly include $\\mathbf{f}_x$ as latent variables because it can be integrated out analytically.  \n",
    "\n",
    "As mentioned before, the product of the GP prior probability distribution with a normal likelihood is also normal.  It's called the *marginal likelihood*.  If we including the prior on the hyperparameters of the covariance function, we can write the *marginal posterior* as\n",
    "\n",
    "$$\n",
    "p(y \\mid x, \\theta)p(\\theta) = \\int p(y \\mid f, x, \\theta) \\, p(f \\mid x, \\theta) \\,\n",
    "                                    p(\\theta) df\n",
    "$$\n",
    "\n",
    "Taking the log,\n",
    "\n",
    "$$\n",
    "\\log p(y \\mid x, \\theta) \\, p(\\theta) = \n",
    "  -\\frac{1}{2} \\mathbf{y}^{T} (K_{xx} + \\sigma^2 I)^{-1} \\mathbf{y}\n",
    "  - \\frac{1}{2}|K_{xx} + \\sigma^2 I|\n",
    "  - \\frac{n}{2}\\log (2 \\pi) + \\log p(\\theta)\n",
    "$$\n",
    "\n",
    "The first term penalizes lack of fit, the second term penalizes model complexity via the determinant of $K_{xx}$.  The third term is just a constant.  The final term on the right is the log-prior of the covariance function hyperparameters.    \n",
    "\n",
    "The code to specify this equivalent model using `gp.Marginal` is a little bit different that before.  The `gp.marginal_likelihood` subsumes both the GP prior and the Normal likelihood of the observed data, `y`.  Also, since we are using the marginal likelihood, it is possible to use `find_MAP` to quickly get the value at the mode of the covariance function hyperparameters.  "
   ]
  },
  {
   "cell_type": "code",
   "execution_count": 8,
   "metadata": {
    "ExecuteTime": {
     "end_time": "2017-08-07T22:36:09.665276Z",
     "start_time": "2017-08-07T22:36:08.715453Z"
    },
    "collapsed": true
   },
   "outputs": [],
   "source": [
    "import sys\n",
    "sys.path.insert(0, \"/home/bill/pymc3/\")\n",
    "import pymc3 as pm\n",
    "import numpy as np\n",
    "\n",
    "import matplotlib.pyplot as plt\n",
    "%matplotlib inline"
   ]
  },
  {
   "cell_type": "code",
   "execution_count": 9,
   "metadata": {
    "ExecuteTime": {
     "end_time": "2017-08-07T22:36:12.438967Z",
     "start_time": "2017-08-07T22:36:10.471349Z"
    }
   },
   "outputs": [
    {
     "data": {
      "image/png": "[encoded data removed]",
      "text/plain": [
       "<matplotlib.figure.Figure at 0x7f4d6d7bf240>"
      ]
     },
     "metadata": {},
     "output_type": "display_data"
    }
   ],
   "source": [
    "# set the seed\n",
    "np.random.seed(1)\n",
    "\n",
    "n = 100 # The number of data points\n",
    "X = np.linspace(0, 10, n)[:, None] # The inputs to the GP, they must be arranged as a column vector\n",
    "\n",
    "# Define the true covariance function and its parameters\n",
    "ℓ_true = 1.0\n",
    "η_true = 3.0\n",
    "cov_func = η_true**2 * pm.gp.cov.Matern52(1, ℓ_true)\n",
    "\n",
    "# A mean function that is zero everywhere\n",
    "mean_func = pm.gp.mean.Zero()\n",
    "\n",
    "# The latent function values are one sample from a multivariate normal\n",
    "# Note that we have to call `eval()` because PyMC3 built on top of Theano\n",
    "f_true = np.random.multivariate_normal(mean_func(X).eval(), \n",
    "                                       cov_func(X).eval() + 1e-8*np.eye(n), 1).flatten()\n",
    "\n",
    "# The observed data is the latent function plus a small amount of IID Gaussian noise\n",
    "# The standard deviation of the noise is `sigma`\n",
    "σ_true = 2.0\n",
    "y = f_true + σ_true * np.random.randn(n)\n",
    "\n",
    "## Plot the data and the unobserved latent function\n",
    "plt.plot(X, f_true, \"dodgerblue\", lw=3, label=\"True f\");\n",
    "plt.plot(X, y, 'ok', ms=3, alpha=0.5, label=\"Data\");\n",
    "plt.xlabel(\"X\"); plt.ylabel(\"The true f(x)\"); plt.legend();"
   ]
  },
  {
   "cell_type": "code",
   "execution_count": 10,
   "metadata": {
    "ExecuteTime": {
     "end_time": "2017-08-07T22:36:19.497557Z",
     "start_time": "2017-08-07T22:36:12.704102Z"
    }
   },
   "outputs": [
    {
     "name": "stderr",
     "output_type": "stream",
     "text": [
      "lp = -229.66, ||grad|| = 0.0013279:   0%|          | 99/50000 [00:00<06:33, 126.76it/s]\n"
     ]
    }
   ],
   "source": [
    "with pm.Model() as model:\n",
    "    ℓ = pm.Gamma(\"ℓ\", alpha=2, beta=1)\n",
    "    η = pm.HalfCauchy(\"η\", beta=5)\n",
    "    \n",
    "    cov = η**2 * pm.gp.cov.Matern52(1, ℓ)\n",
    "    gp = pm.gp.Marginal(cov_func=cov)\n",
    "     \n",
    "    σ = pm.HalfCauchy(\"σ\", beta=5)\n",
    "    y_ = gp.marginal_likelihood(\"y\", n_points=n, X=X, y=y, noise=σ)\n",
    "    \n",
    "    mp = pm.find_MAP()#method=\"L-BFGS-B\")"
   ]
  },
  {
   "cell_type": "code",
   "execution_count": 11,
   "metadata": {
    "ExecuteTime": {
     "end_time": "2017-08-07T22:36:19.510894Z",
     "start_time": "2017-08-07T22:36:19.499157Z"
    }
   },
   "outputs": [
    {
     "data": {
      "text/html": [
       "<div>\n",
       "<style>\n",
       "    .dataframe thead tr:only-child th {\n",
       "        text-align: right;\n",
       "    }\n",
       "\n",
       "    .dataframe thead th {\n",
       "        text-align: left;\n",
       "    }\n",
       "\n",
       "    .dataframe tbody tr th {\n",
       "        vertical-align: top;\n",
       "    }\n",
       "</style>\n",
       "<table border=\"1\" class=\"dataframe\">\n",
       "  <thead>\n",
       "    <tr style=\"text-align: right;\">\n",
       "      <th></th>\n",
       "      <th>Parameter</th>\n",
       "      <th>True value</th>\n",
       "      <th>Value at MAP</th>\n",
       "    </tr>\n",
       "  </thead>\n",
       "  <tbody>\n",
       "    <tr>\n",
       "      <th>0</th>\n",
       "      <td>ℓ</td>\n",
       "      <td>1.0</td>\n",
       "      <td>1.109897</td>\n",
       "    </tr>\n",
       "    <tr>\n",
       "      <th>1</th>\n",
       "      <td>η</td>\n",
       "      <td>3.0</td>\n",
       "      <td>3.911457</td>\n",
       "    </tr>\n",
       "    <tr>\n",
       "      <th>2</th>\n",
       "      <td>σ</td>\n",
       "      <td>2.0</td>\n",
       "      <td>1.916388</td>\n",
       "    </tr>\n",
       "  </tbody>\n",
       "</table>\n",
       "</div>"
      ],
      "text/plain": [
       "  Parameter  True value  Value at MAP\n",
       "0         ℓ         1.0      1.109897\n",
       "1         η         3.0      3.911457\n",
       "2         σ         2.0      1.916388"
      ]
     },
     "execution_count": 11,
     "metadata": {},
     "output_type": "execute_result"
    }
   ],
   "source": [
    "# collect the results into a pandas dataframe to display\n",
    "# \"mp\" stands for marginal posterior\n",
    "pd.DataFrame({\"Parameter\": [\"ℓ\", \"η\", \"σ\"], \n",
    "              \"Value at MAP\": [float(mp[\"ℓ\"]), float(mp[\"η\"]), float(mp[\"σ\"])],\n",
    "              \"True value\": [ℓ_true, η_true, σ_true]})"
   ]
  },
  {
   "cell_type": "code",
   "execution_count": 3,
   "metadata": {
    "ExecuteTime": {
     "end_time": "2017-08-07T22:21:25.503967Z",
     "start_time": "2017-08-07T22:21:25.484397Z"
    }
   },
   "outputs": [
    {
     "ename": "NameError",
     "evalue": "name 'model' is not defined",
     "output_type": "error",
     "traceback": [
      "\u001b[0;31m---------------------------------------------------------------------------\u001b[0m",
      "\u001b[0;31mNameError\u001b[0m                                 Traceback (most recent call last)",
      "\u001b[0;32m<ipython-input-3-ed7f287c436d>\u001b[0m in \u001b[0;36m<module>\u001b[0;34m()\u001b[0m\n\u001b[1;32m      5\u001b[0m \u001b[0;34m\u001b[0m\u001b[0m\n\u001b[1;32m      6\u001b[0m \u001b[0;31m# add the GP conditional to the model, given the new X values\u001b[0m\u001b[0;34m\u001b[0m\u001b[0;34m\u001b[0m\u001b[0m\n\u001b[0;32m----> 7\u001b[0;31m \u001b[0;32mwith\u001b[0m \u001b[0mmodel\u001b[0m\u001b[0;34m:\u001b[0m\u001b[0;34m\u001b[0m\u001b[0m\n\u001b[0m\u001b[1;32m      8\u001b[0m     \u001b[0mf_pred\u001b[0m \u001b[0;34m=\u001b[0m \u001b[0mgp\u001b[0m\u001b[0;34m.\u001b[0m\u001b[0mconditional\u001b[0m\u001b[0;34m(\u001b[0m\u001b[0;34m\"f_pred\"\u001b[0m\u001b[0;34m,\u001b[0m \u001b[0mn_new\u001b[0m\u001b[0;34m,\u001b[0m \u001b[0mX_new\u001b[0m\u001b[0;34m)\u001b[0m\u001b[0;34m\u001b[0m\u001b[0m\n\u001b[1;32m      9\u001b[0m \u001b[0;34m\u001b[0m\u001b[0m\n",
      "\u001b[0;31mNameError\u001b[0m: name 'model' is not defined"
     ]
    }
   ],
   "source": [
    "# new values from x=0 to x=20\n",
    "n_new = 500\n",
    "X_new = np.linspace(0, 20, n_new)[:,None]\n",
    "\n",
    "# add the GP conditional to the model, given the new X values\n",
    "with model:\n",
    "    f_pred = gp.conditional(\"f_pred\", n_new, X_new)\n",
    "\n",
    "# To use the MAP values, you can just replace the trace with a length-1 list with `mp`\n",
    "with model:\n",
    "    pred_samples = pm.sample_ppc([mp], vars=[f_pred], samples=1000)"
   ]
  },
  {
   "cell_type": "code",
   "execution_count": 4,
   "metadata": {
    "ExecuteTime": {
     "end_time": "2017-08-07T22:21:37.134512Z",
     "start_time": "2017-08-07T22:21:35.791302Z"
    }
   },
   "outputs": [
    {
     "ename": "NameError",
     "evalue": "name 'plot_gp' is not defined",
     "output_type": "error",
     "traceback": [
      "\u001b[0;31m---------------------------------------------------------------------------\u001b[0m",
      "\u001b[0;31mNameError\u001b[0m                                 Traceback (most recent call last)",
      "\u001b[0;32m<ipython-input-4-4f5ca56973a3>\u001b[0m in \u001b[0;36m<module>\u001b[0;34m()\u001b[0m\n\u001b[1;32m      1\u001b[0m \u001b[0mfig\u001b[0m \u001b[0;34m=\u001b[0m \u001b[0mplt\u001b[0m\u001b[0;34m.\u001b[0m\u001b[0mfigure\u001b[0m\u001b[0;34m(\u001b[0m\u001b[0mfigsize\u001b[0m\u001b[0;34m=\u001b[0m\u001b[0;34m(\u001b[0m\u001b[0;36m12\u001b[0m\u001b[0;34m,\u001b[0m\u001b[0;36m5\u001b[0m\u001b[0;34m)\u001b[0m\u001b[0;34m)\u001b[0m\u001b[0;34m;\u001b[0m \u001b[0max\u001b[0m \u001b[0;34m=\u001b[0m \u001b[0mfig\u001b[0m\u001b[0;34m.\u001b[0m\u001b[0mgca\u001b[0m\u001b[0;34m(\u001b[0m\u001b[0;34m)\u001b[0m\u001b[0;34m\u001b[0m\u001b[0m\n\u001b[0;32m----> 2\u001b[0;31m \u001b[0mplot_gp\u001b[0m\u001b[0;34m(\u001b[0m\u001b[0max\u001b[0m\u001b[0;34m,\u001b[0m \u001b[0mX_new\u001b[0m\u001b[0;34m.\u001b[0m\u001b[0mflatten\u001b[0m\u001b[0;34m(\u001b[0m\u001b[0;34m)\u001b[0m\u001b[0;34m,\u001b[0m \u001b[0mpred_samples\u001b[0m\u001b[0;34m[\u001b[0m\u001b[0;34m\"f_pred\"\u001b[0m\u001b[0;34m]\u001b[0m\u001b[0;34m.\u001b[0m\u001b[0mT\u001b[0m\u001b[0;34m)\u001b[0m\u001b[0;34m;\u001b[0m\u001b[0;34m\u001b[0m\u001b[0m\n\u001b[0m\u001b[1;32m      3\u001b[0m \u001b[0mplt\u001b[0m\u001b[0;34m.\u001b[0m\u001b[0mplot\u001b[0m\u001b[0;34m(\u001b[0m\u001b[0mX\u001b[0m\u001b[0;34m,\u001b[0m \u001b[0mf_true\u001b[0m\u001b[0;34m,\u001b[0m \u001b[0;34m\"dodgerblue\"\u001b[0m\u001b[0;34m,\u001b[0m \u001b[0mlw\u001b[0m\u001b[0;34m=\u001b[0m\u001b[0;36m3\u001b[0m\u001b[0;34m,\u001b[0m \u001b[0mlabel\u001b[0m\u001b[0;34m=\u001b[0m\u001b[0;34m\"True f\"\u001b[0m\u001b[0;34m)\u001b[0m\u001b[0;34m;\u001b[0m\u001b[0;34m\u001b[0m\u001b[0m\n\u001b[1;32m      4\u001b[0m \u001b[0mplt\u001b[0m\u001b[0;34m.\u001b[0m\u001b[0mplot\u001b[0m\u001b[0;34m(\u001b[0m\u001b[0mX\u001b[0m\u001b[0;34m,\u001b[0m \u001b[0my\u001b[0m\u001b[0;34m,\u001b[0m \u001b[0;34m'ok'\u001b[0m\u001b[0;34m,\u001b[0m \u001b[0mms\u001b[0m\u001b[0;34m=\u001b[0m\u001b[0;36m3\u001b[0m\u001b[0;34m,\u001b[0m \u001b[0malpha\u001b[0m\u001b[0;34m=\u001b[0m\u001b[0;36m0.5\u001b[0m\u001b[0;34m,\u001b[0m \u001b[0mlabel\u001b[0m\u001b[0;34m=\u001b[0m\u001b[0;34m\"Observed data\"\u001b[0m\u001b[0;34m)\u001b[0m\u001b[0;34m;\u001b[0m\u001b[0;34m\u001b[0m\u001b[0m\n\u001b[1;32m      5\u001b[0m \u001b[0mplt\u001b[0m\u001b[0;34m.\u001b[0m\u001b[0mxlabel\u001b[0m\u001b[0;34m(\u001b[0m\u001b[0;34m\"X\"\u001b[0m\u001b[0;34m)\u001b[0m\u001b[0;34m;\u001b[0m \u001b[0mplt\u001b[0m\u001b[0;34m.\u001b[0m\u001b[0mylabel\u001b[0m\u001b[0;34m(\u001b[0m\u001b[0;34m\"True f(x)\"\u001b[0m\u001b[0;34m)\u001b[0m\u001b[0;34m;\u001b[0m \u001b[0mplt\u001b[0m\u001b[0;34m.\u001b[0m\u001b[0mylim\u001b[0m\u001b[0;34m(\u001b[0m\u001b[0;34m[\u001b[0m\u001b[0;34m-\u001b[0m\u001b[0;36m13\u001b[0m\u001b[0;34m,\u001b[0m\u001b[0;36m13\u001b[0m\u001b[0;34m]\u001b[0m\u001b[0;34m)\u001b[0m\u001b[0;34m;\u001b[0m\u001b[0;34m\u001b[0m\u001b[0m\n",
      "\u001b[0;31mNameError\u001b[0m: name 'plot_gp' is not defined"
     ]
    }
   ],
   "source": [
    "fig = plt.figure(figsize=(12,5)); ax = fig.gca()\n",
    "plot_gp(ax, X_new.flatten(), pred_samples[\"f_pred\"].T);\n",
    "plt.plot(X, f_true, \"dodgerblue\", lw=3, label=\"True f\");\n",
    "plt.plot(X, y, 'ok', ms=3, alpha=0.5, label=\"Observed data\");\n",
    "plt.xlabel(\"X\"); plt.ylabel(\"True f(x)\"); plt.ylim([-13,13]); \n",
    "plt.title(\"Conditional distribution of f_*, given f and theta\"); plt.legend();"
   ]
  },
  {
   "cell_type": "markdown",
   "metadata": {},
   "source": [
    "The prediction also matches the results from `gp.Latent` very closely.  What about predicting new data points?  Here we only predicted $f_*$, not $f_*$ + noise, which is what we actually observe.\n",
    "\n",
    "The `conditional` method of `gp.Marginal` contains the flag `pred_noise` whose default value is `False`.  To draw from the *posterior predictive* distribution, we simply set this flag to `True`. "
   ]
  },
  {
   "cell_type": "code",
   "execution_count": 5,
   "metadata": {
    "ExecuteTime": {
     "end_time": "2017-08-07T22:22:12.861504Z",
     "start_time": "2017-08-07T22:22:12.846163Z"
    }
   },
   "outputs": [
    {
     "ename": "NameError",
     "evalue": "name 'model' is not defined",
     "output_type": "error",
     "traceback": [
      "\u001b[0;31m---------------------------------------------------------------------------\u001b[0m",
      "\u001b[0;31mNameError\u001b[0m                                 Traceback (most recent call last)",
      "\u001b[0;32m<ipython-input-5-62d47b5c7f92>\u001b[0m in \u001b[0;36m<module>\u001b[0;34m()\u001b[0m\n\u001b[0;32m----> 1\u001b[0;31m \u001b[0;32mwith\u001b[0m \u001b[0mmodel\u001b[0m\u001b[0;34m:\u001b[0m\u001b[0;34m\u001b[0m\u001b[0m\n\u001b[0m\u001b[1;32m      2\u001b[0m     \u001b[0my_pred\u001b[0m \u001b[0;34m=\u001b[0m \u001b[0mgp\u001b[0m\u001b[0;34m.\u001b[0m\u001b[0mconditional\u001b[0m\u001b[0;34m(\u001b[0m\u001b[0;34m\"y_pred\"\u001b[0m\u001b[0;34m,\u001b[0m \u001b[0mn_new\u001b[0m\u001b[0;34m,\u001b[0m \u001b[0mX_new\u001b[0m\u001b[0;34m,\u001b[0m \u001b[0mpred_noise\u001b[0m\u001b[0;34m=\u001b[0m\u001b[0;32mTrue\u001b[0m\u001b[0;34m)\u001b[0m\u001b[0;34m\u001b[0m\u001b[0m\n\u001b[1;32m      3\u001b[0m     \u001b[0my_samples\u001b[0m \u001b[0;34m=\u001b[0m \u001b[0mpm\u001b[0m\u001b[0;34m.\u001b[0m\u001b[0msample_ppc\u001b[0m\u001b[0;34m(\u001b[0m\u001b[0;34m[\u001b[0m\u001b[0mmp\u001b[0m\u001b[0;34m]\u001b[0m\u001b[0;34m,\u001b[0m \u001b[0mvars\u001b[0m\u001b[0;34m=\u001b[0m\u001b[0;34m[\u001b[0m\u001b[0my_pred\u001b[0m\u001b[0;34m]\u001b[0m\u001b[0;34m,\u001b[0m \u001b[0msamples\u001b[0m\u001b[0;34m=\u001b[0m\u001b[0;36m1000\u001b[0m\u001b[0;34m)\u001b[0m\u001b[0;34m\u001b[0m\u001b[0m\n",
      "\u001b[0;31mNameError\u001b[0m: name 'model' is not defined"
     ]
    }
   ],
   "source": [
    "with model:\n",
    "    y_pred = gp.conditional(\"y_pred\", n_new, X_new, pred_noise=True)\n",
    "    y_samples = pm.sample_ppc([mp], vars=[y_pred], samples=1000)"
   ]
  },
  {
   "cell_type": "code",
   "execution_count": 6,
   "metadata": {
    "ExecuteTime": {
     "end_time": "2017-08-07T22:22:21.332241Z",
     "start_time": "2017-08-07T22:22:21.129675Z"
    }
   },
   "outputs": [
    {
     "ename": "NameError",
     "evalue": "name 'plot_gp' is not defined",
     "output_type": "error",
     "traceback": [
      "\u001b[0;31m---------------------------------------------------------------------------\u001b[0m",
      "\u001b[0;31mNameError\u001b[0m                                 Traceback (most recent call last)",
      "\u001b[0;32m<ipython-input-6-57b74e9bb99b>\u001b[0m in \u001b[0;36m<module>\u001b[0;34m()\u001b[0m\n\u001b[1;32m      2\u001b[0m \u001b[0;34m\u001b[0m\u001b[0m\n\u001b[1;32m      3\u001b[0m \u001b[0;31m# posterior predictive distribution\u001b[0m\u001b[0;34m\u001b[0m\u001b[0;34m\u001b[0m\u001b[0m\n\u001b[0;32m----> 4\u001b[0;31m \u001b[0mplot_gp\u001b[0m\u001b[0;34m(\u001b[0m\u001b[0max\u001b[0m\u001b[0;34m,\u001b[0m \u001b[0mX_new\u001b[0m\u001b[0;34m.\u001b[0m\u001b[0mflatten\u001b[0m\u001b[0;34m(\u001b[0m\u001b[0;34m)\u001b[0m\u001b[0;34m,\u001b[0m \u001b[0my_samples\u001b[0m\u001b[0;34m[\u001b[0m\u001b[0;34m\"y_pred\"\u001b[0m\u001b[0;34m]\u001b[0m\u001b[0;34m.\u001b[0m\u001b[0mT\u001b[0m\u001b[0;34m,\u001b[0m \u001b[0;32mFalse\u001b[0m\u001b[0;34m,\u001b[0m \u001b[0;34m\"bone_r\"\u001b[0m\u001b[0;34m)\u001b[0m\u001b[0;34m;\u001b[0m\u001b[0;34m\u001b[0m\u001b[0m\n\u001b[0m\u001b[1;32m      5\u001b[0m \u001b[0;34m\u001b[0m\u001b[0m\n\u001b[1;32m      6\u001b[0m \u001b[0;34m\"\"\"INSTEAD PLOT 1 SAMPLE FROM PP DIST AS DOTS\"\"\"\u001b[0m\u001b[0;34m\u001b[0m\u001b[0m\n",
      "\u001b[0;31mNameError\u001b[0m: name 'plot_gp' is not defined"
     ]
    }
   ],
   "source": [
    "fig = plt.figure(figsize=(12,5)); ax = fig.gca()\n",
    "\n",
    "# posterior predictive distribution\n",
    "plot_gp(ax, X_new.flatten(), y_samples[\"y_pred\"].T, False, \"bone_r\");\n",
    "\n",
    "\"\"\"INSTEAD PLOT 1 SAMPLE FROM PP DIST AS DOTS\"\"\"\n",
    "# overlay a scatter of random points from the posterior predictive distribution\n",
    "plt.plot(X_new, y_samples[\"y_pred\"][12, :].T, \"co\", ms=2);\n",
    "\n",
    "# plot original data and true function\n",
    "plt.plot(X, y, 'ok', ms=3, alpha=1.0, label=\"Observed data\");\n",
    "plt.plot(X, f_true, \"dodgerblue\", lw=3, label=\"True f\");\n",
    "\n",
    "plt.xlabel(\"X\"); plt.ylabel(\"True f(x)\"); \n",
    "plt.title(\"Posterior predictive distribution, y_*\"); plt.legend();"
   ]
  },
  {
   "cell_type": "code",
   "execution_count": 7,
   "metadata": {
    "ExecuteTime": {
     "end_time": "2017-08-07T22:22:33.216443Z",
     "start_time": "2017-08-07T22:22:33.210493Z"
    }
   },
   "outputs": [
    {
     "ename": "SyntaxError",
     "evalue": "invalid syntax (<ipython-input-7-fbdb368603b9>, line 1)",
     "output_type": "error",
     "traceback": [
      "\u001b[0;36m  File \u001b[0;32m\"<ipython-input-7-fbdb368603b9>\"\u001b[0;36m, line \u001b[0;32m1\u001b[0m\n\u001b[0;31m    Notice that the posterior predictive density and speckling of samples is wider than the conditional distribution of the noiseless function, and reflects the actual distribution of the data, which is marked as black dots.\u001b[0m\n\u001b[0m              ^\u001b[0m\n\u001b[0;31mSyntaxError\u001b[0m\u001b[0;31m:\u001b[0m invalid syntax\n"
     ]
    }
   ],
   "source": [
    "Notice that the posterior predictive density and speckling of samples is wider than the conditional distribution of the noiseless function, and reflects the actual distribution of the data, which is marked as black dots.  "
   ]
  },
  {
   "cell_type": "code",
   "execution_count": null,
   "metadata": {
    "collapsed": true
   },
   "outputs": [],
   "source": []
  }
 ],
 "metadata": {
  "anaconda-cloud": {},
  "kernelspec": {
   "display_name": "Python [default]",
   "language": "python",
   "name": "python3"
  },
  "language_info": {
   "codemirror_mode": {
    "name": "ipython",
    "version": 3
   },
   "file_extension": ".py",
   "mimetype": "text/x-python",
   "name": "python",
   "nbconvert_exporter": "python",
   "pygments_lexer": "ipython3",
   "version": "3.5.3"
  }
 },
 "nbformat": 4,
 "nbformat_minor": 2
}
