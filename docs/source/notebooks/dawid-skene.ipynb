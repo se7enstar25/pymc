{
 "cells": [
  {
   "cell_type": "markdown",
   "metadata": {},
   "source": [
    "# The Dawid-Skene model with priors"
   ]
  },
  {
   "cell_type": "markdown",
   "metadata": {},
   "source": [
    "The Dawid-Skene model (1979) is perhaps one of the first models to discover true item states/effects from multiple noisy measurements. Since then, there have been multiple models that improve over the basic model. This notebook covers the Dawid-Skene model which has been enhanced with priors.\n",
    "\n",
    "The model follows implementation in Rebecca J. Passonneau, Bob Carpenter, \"The Benefits of a Model of Annotation\", TACL, 2014.\n",
    "\n",
    "## Introduction\n",
    "In healthcare, a number of patients can receive potentially noisy judgments from several professionals. In computer science, work items of different difficulty get labeled by multiple annotators of different skill. In this notebook we will attempt to recover true work item labels from noisy annotator input.\n",
    "\n",
    "The primary goal is to recover the true item states. The secondary goal is to estimate various additional factors of potential interest. We will use probabilistic programming approach in attempt to solve the problem."
   ]
  },
  {
   "cell_type": "code",
   "execution_count": 1,
   "metadata": {
    "collapsed": true
   },
   "outputs": [],
   "source": [
    "%matplotlib inline\n",
    "\n",
    "import pymc3 as pm\n",
    "import numpy as np\n",
    "import matplotlib.pyplot as plt\n",
    "\n",
    "from sklearn.metrics import confusion_matrix"
   ]
  },
  {
   "cell_type": "markdown",
   "metadata": {},
   "source": [
    "## Data\n",
    "Load also the data matrix with following dimensions: work items, annotators, categories. The data for this notebook has been taken from https://github.com/abhishekmalali/questioning-strategy-classification/tree/master/data\n",
    "\n",
    "Note: The data in this notebook is organized in matrix where each work item gets exactly one response for each work item. This is often not possible in practice. The discussed model accepts triplets of data: (work item, annotator, response) which relaxes the constraint to have all observations."
   ]
  },
  {
   "cell_type": "code",
   "execution_count": 2,
   "metadata": {
    "collapsed": true
   },
   "outputs": [],
   "source": [
    "data_file = '../../../pymc3/examples/data/extrahard_MC_500_5_4.npz.npy'\n",
    "truth_file = '../../../pymc3/examples/data/extrahard_MC_500_5_4_reference_classes.npy'\n",
    "\n",
    "data = np.load( data_file )\n",
    "z_true = np.load( truth_file )\n",
    "\n",
    "I = data.shape[0]               # number of items\n",
    "J = data.shape[1]               # number of annotators\n",
    "K = data.shape[2]               # number of classes\n",
    "N = I * J"
   ]
  },
  {
   "cell_type": "markdown",
   "metadata": {},
   "source": [
    "Let's create the necessary data structures. In particular, we will convert the data cube into triplet format. One data point with index n allows to access the following information: jj[n] as annotator ID, providing his/her vote y[n] for item ii[n].\n",
    "\n",
    "At the same time, we compute the majority vote estimate. This will serve both as a baseline and as initialization for our model."
   ]
  },
  {
   "cell_type": "code",
   "execution_count": 3,
   "metadata": {
    "collapsed": true
   },
   "outputs": [],
   "source": [
    "# create data triplets\n",
    "jj = list()  # annotator IDs\n",
    "ii = list()  # item IDs\n",
    "y = list()   # response\n",
    "\n",
    "# initialize true category with majority votes\n",
    "z_init = np.zeros( I, dtype=np.int64 )\n",
    "\n",
    "# create data triplets\n",
    "for i in range( I ):\n",
    "    ks = list()\n",
    "    for j in range( J ):\n",
    "        dat = data[ i, j, : ]\n",
    "        k = np.where( dat == 1 )[0][0]\n",
    "        ks.append( k )\n",
    "        ii.append( i )\n",
    "        jj.append( j )\n",
    "        y.append( k )\n",
    "\n",
    "    # getting maj vote for work item i (dealing with numpy casts)\n",
    "    z_init[ i ] = np.bincount( np.array( ks ) ).argmax()"
   ]
  },
  {
   "cell_type": "markdown",
   "metadata": {},
   "source": [
    "Comparing true item labels and majority vote estimated labels one by one is tedious. Computing accuracy gives a single performance metric but does not reveal where the mistakes are made (e.g. which categories tend to be confused) and by how much. A confusion matrix with majority vote estimates will serve as our baseline:"
   ]
  },
  {
   "cell_type": "code",
   "execution_count": 4,
   "metadata": {
    "collapsed": false
   },
   "outputs": [
    {
     "name": "stdout",
     "output_type": "stream",
     "text": [
      "Majority vote estimate of true category:\n",
      " [[120   2   1   2]\n",
      " [  5 116   4   0]\n",
      " [  4   6 113   2]\n",
      " [  4   3   3 115]]\n"
     ]
    }
   ],
   "source": [
    "confMat = confusion_matrix( z_true, z_init )\n",
    "print( \"Majority vote estimate of true category:\\n\" , confMat )"
   ]
  },
  {
   "cell_type": "markdown",
   "metadata": {},
   "source": [
    "## Model\n",
    "With the data loaded and baseline set, we can now start building the Dawid-Skene model. We will start by setting the top level priors: class prevalence and annotator-specific confusion matrices. The two priors are of secondary interest.\n",
    "\n",
    "The class prevalence prior tells the proportion of categories in the data. Since we are completely ignorant about category proportions, it is meaningful to set a flat distribution.\n",
    "\n",
    "The annotator-specific confusion matrices will \"describe\" every annotator. Notably, a confusion matrix for an annotator j tells us which categories the annotator is expert (very high value on diagonal) and where his expertise is limited (relatively small value on diagonal and relatively big values off-diagonal). We will initialize confusion matrices with uniform values with slightly dominant diagonal -- our annotators are expected to provide meaningful labels."
   ]
  },
  {
   "cell_type": "code",
   "execution_count": 5,
   "metadata": {
    "collapsed": true
   },
   "outputs": [],
   "source": [
    "# class prevalence (flat prior)\n",
    "alpha = np.ones( K )\n",
    "\n",
    "# individual annotator confusion matrices - dominant diagonal\n",
    "beta = np.ones( (K,K) ) + np.diag( np.ones(K) )"
   ]
  },
  {
   "cell_type": "markdown",
   "metadata": {},
   "source": [
    "Now, the interesting part -- the definition of the model.\n",
    "\n",
    "First, we will need two random variables to encode class prevalence (pi) and annotator confusion matrices (theta). The two random variables can be naturally modeled with Dirichlet.\n",
    "\n",
    "Second, we will define a variable for the true/hidden category for each work item. The Categorical distribution fits well our purpose to model a work item with K possible states.\n",
    "\n",
    "Finally, a special variable for observed data brings together all random variables. This is the variable (Categorical) where the data is injected. The parametrization of the variable needs to be explained: the observation y[n] is generated according to Categorical distribution by worker y[n] for item ii[n], where the true label is z[ ii[n] ].\n",
    "\n",
    "The following block will build the model only but won't do any inference."
   ]
  },
  {
   "cell_type": "code",
   "execution_count": 6,
   "metadata": {
    "collapsed": true
   },
   "outputs": [],
   "source": [
    "model = pm.Model()\n",
    "\n",
    "with model:\n",
    "    pi = pm.Dirichlet( 'pi', a=alpha, shape=K )\n",
    "    theta = pm.Dirichlet( 'theta', a=beta, shape=(J,K,K) )\n",
    "    z = pm.Categorical( 'z', p=pi, shape=I, testval=z_init )\n",
    "    y_obs = pm.Categorical( 'y_obs', p=theta[ jj, z[ ii ] ], observed=y )"
   ]
  },
  {
   "cell_type": "markdown",
   "metadata": {},
   "source": [
    "With model defined, we also need to set up the inference machinery. The variables of interest (pi, theta and z) will be divided in two groups: continuous (pi,theta) and discrete (z). The step methods are different: Metropolis or NUTS for former and CategoricalGibbsMetropolis for latter.\n",
    "\n",
    "Note: Running the following block will perform inference for our variables of interest and store results in the trace variable. The trace variable will contain a wealth of information that will be useful to perfom diagnostics and get posteriors for our three hidden variables -- class prevalence, annotator confusion matrices and true categories for all work items."
   ]
  },
  {
   "cell_type": "code",
   "execution_count": 7,
   "metadata": {
    "collapsed": false
   },
   "outputs": [
    {
     "name": "stderr",
     "output_type": "stream",
     "text": [
      "100%|██████████████████████████████████████████████████████████████████████████████| 5000/5000 [16:49<00:00,  5.27it/s]\n"
     ]
    }
   ],
   "source": [
    "with model:\n",
    "    step1 = pm.Metropolis( vars=[pi,theta] )\n",
    "    step2 = pm.CategoricalGibbsMetropolis( vars=[z] )\n",
    "    trace = pm.sample( 5000, step=[step1, step2], progressbar=True )"
   ]
  },
  {
   "cell_type": "markdown",
   "metadata": {},
   "source": [
    "## Results\n",
    "\n",
    "Let's get a global overview of the trace. On the left side of the figure, posterior distributions; on the right - individual samples. The samples subplots should show \"uniform band of noise\" as the sampler locks around the true variable state. It is important to not see any jumps, switches or steady increase/decrease.\n",
    "\n",
    "Besides the class prevalence variable (\"pi\"), the categories and theta posteriors, the plots are of little utility. We will explore other variables in other form."
   ]
  },
  {
   "cell_type": "code",
   "execution_count": 9,
   "metadata": {
    "collapsed": false
   },
   "outputs": [
    {
     "data": {
      "text/plain": [
       "array([[<matplotlib.axes._subplots.AxesSubplot object at 0x00000229DE3EBCC0>,\n",
       "        <matplotlib.axes._subplots.AxesSubplot object at 0x00000229DDE9CDA0>]], dtype=object)"
      ]
     },
     "execution_count": 9,
     "metadata": {},
     "output_type": "execute_result"
    },
    {
     "data": {
      "image/png": "[encoded data removed]",
      "text/plain": [
       "<matplotlib.figure.Figure at 0x229de368c50>"
      ]
     },
     "metadata": {},
     "output_type": "display_data"
    }
   ],
   "source": [
    "pm.traceplot( trace, varnames=['pi'] )"
   ]
  },
  {
   "cell_type": "markdown",
   "metadata": {},
   "source": [
    "We will take 1000 last samples from posterior for random variable (\"z\"). The majority vote from 1000 samples will give us our estimate of true item labels."
   ]
  },
  {
   "cell_type": "code",
   "execution_count": 10,
   "metadata": {
    "collapsed": true
   },
   "outputs": [],
   "source": [
    "z = trace['z'][-1000:,:]\n",
    "\n",
    "z_hat = np.zeros( I )\n",
    "for i in range( I ):\n",
    "    z_hat[ i ] = np.bincount( z[:,i] ).argmax()"
   ]
  },
  {
   "cell_type": "markdown",
   "metadata": {},
   "source": [
    "The confusion matrix tells us how good our estimate is with respect to the ground truth. Compare it to the baseline: a better estimate has less off diagonal values (and more on main diagonal)."
   ]
  },
  {
   "cell_type": "code",
   "execution_count": 11,
   "metadata": {
    "collapsed": false
   },
   "outputs": [
    {
     "name": "stdout",
     "output_type": "stream",
     "text": [
      "Dawid-Skene estimate of true category:\n",
      " [[122   1   1   1]\n",
      " [  2 118   3   2]\n",
      " [  3   1 118   3]\n",
      " [  4   1   1 119]]\n"
     ]
    }
   ],
   "source": [
    "confMat = confusion_matrix( z_true, z_hat )\n",
    "print( \"Dawid-Skene estimate of true category:\\n\", confMat )"
   ]
  },
  {
   "cell_type": "markdown",
   "metadata": {
    "collapsed": true
   },
   "source": [
    "Finally, let's plot the confusion matrices of annotators. Notice the dominant diagonal nature of matrices -- measure of annotator performance. Compare the first annotator (j=0) and the last one (j=4)."
   ]
  },
  {
   "cell_type": "code",
   "execution_count": 18,
   "metadata": {
    "collapsed": false
   },
   "outputs": [
    {
     "name": "stdout",
     "output_type": "stream",
     "text": [
      "Annotator j=0\n",
      "[[  8.71e-01   4.00e-02   4.69e-02   4.17e-02]\n",
      " [  1.13e-02   9.26e-01   1.56e-02   4.69e-02]\n",
      " [  5.82e-02   3.62e-02   8.65e-01   4.01e-02]\n",
      " [  4.53e-02   1.33e-02   7.79e-04   9.41e-01]]\n",
      "Annotator j=1\n",
      "[[ 0.66  0.13  0.08  0.14]\n",
      " [ 0.11  0.69  0.12  0.08]\n",
      " [ 0.11  0.13  0.62  0.15]\n",
      " [ 0.08  0.13  0.15  0.65]]\n",
      "Annotator j=2\n",
      "[[ 0.62  0.17  0.15  0.07]\n",
      " [ 0.1   0.58  0.18  0.14]\n",
      " [ 0.2   0.02  0.57  0.2 ]\n",
      " [ 0.1   0.14  0.16  0.6 ]]\n",
      "Annotator j=3\n",
      "[[ 0.68  0.17  0.05  0.1 ]\n",
      " [ 0.09  0.7   0.11  0.1 ]\n",
      " [ 0.1   0.16  0.68  0.07]\n",
      " [ 0.09  0.09  0.08  0.73]]\n",
      "Annotator j=4\n",
      "[[ 0.55  0.14  0.09  0.21]\n",
      " [ 0.18  0.51  0.19  0.12]\n",
      " [ 0.11  0.1   0.58  0.21]\n",
      " [ 0.25  0.23  0.1   0.42]]\n"
     ]
    }
   ],
   "source": [
    "np.set_printoptions(precision=2)\n",
    "for j in range( J ):\n",
    "    print( \"Annotator j=\" + str(j) )\n",
    "    Cj = trace['theta'][-1,j]\n",
    "    print( Cj )"
   ]
  }
 ],
 "metadata": {
  "kernelspec": {
   "display_name": "Python 3",
   "language": "python",
   "name": "python3"
  },
  "language_info": {
   "codemirror_mode": {
    "name": "ipython",
    "version": 3
   },
   "file_extension": ".py",
   "mimetype": "text/x-python",
   "name": "python",
   "nbconvert_exporter": "python",
   "pygments_lexer": "ipython3",
   "version": "3.5.2"
  }
 },
 "nbformat": 4,
 "nbformat_minor": 2
}
