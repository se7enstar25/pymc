{
 "cells": [
  {
   "cell_type": "markdown",
   "metadata": {
    "pycharm": {
     "name": "#%% md\n"
    }
   },
   "source": [
    "(dimensionality)=\n",
    "# Distribution Dimensionality\n",
    "PyMC provides a number of ways to specify the dimensionality of its distributions. This document provides an overview, and offers some user tips.\n",
    "\n",
    "## Glossary\n",
    "In this document we'll be using the term dimensionality to refer to the idea of dimensions. Each of the terms below has a specific\n",
    "semantic and computational definition in PyMC.  While we share them here they will make much more sense when viewed in the examples below.\n",
    "\n",
    "+ *Support dimensions* → The core dimensionality of a distribution\n",
    "+ *Batch dimensions* → Extra dimensions beyond the support dimensionality of a distribution\n",
    "+ *Implicit dimensions* → Dimensions that follow from the values or shapes of the distribution parameters\n",
    "+ *Explicit dimensions* → Dimensions that are explicitly defined by one of the following arguments:\n",
    "    + *Shape* → Number of draws from a distribution\n",
    "    + *Dims* → An array of dimension names\n",
    "+ *Coords* → A dictionary mapping dimension names to coordinate values"
   ]
  },
  {
   "cell_type": "code",
   "execution_count": 1,
   "metadata": {
    "pycharm": {
     "name": "#%%\n"
    }
   },
   "outputs": [],
   "source": [
    "import pymc as pm\n",
    "import numpy as np\n",
    "import aesara.tensor as at"
   ]
  },
  {
   "cell_type": "markdown",
   "metadata": {
    "pycharm": {
     "name": "#%% md\n"
    }
   },
   "source": [
    "## Univariate distribution example\n",
    "We can start with the simplest case, a single Normal distribution. We use `.dist` to specify one outside of a PyMC Model."
   ]
  },
  {
   "cell_type": "code",
   "execution_count": 2,
   "metadata": {
    "pycharm": {
     "name": "#%%\n"
    }
   },
   "outputs": [],
   "source": [
    "normal_dist = pm.Normal.dist()"
   ]
  },
  {
   "cell_type": "markdown",
   "metadata": {
    "pycharm": {
     "name": "#%% md\n"
    }
   },
   "source": [
    "We can then use the {func}`~pymc.draw` function to take a random draw from that distribution."
   ]
  },
  {
   "cell_type": "code",
   "execution_count": 3,
   "metadata": {
    "pycharm": {
     "name": "#%%\n"
    }
   },
   "outputs": [
    {
     "data": {
      "text/plain": [
       "(array(-2.62065421), 0)"
      ]
     },
     "execution_count": 3,
     "metadata": {},
     "output_type": "execute_result"
    }
   ],
   "source": [
    "normal_draw = pm.draw(normal_dist)\n",
    "normal_draw, normal_draw.ndim"
   ]
  },
  {
   "cell_type": "markdown",
   "metadata": {
    "pycharm": {
     "name": "#%% md\n"
    }
   },
   "source": [
    "In this case we end up with a single scalar value. This means that a Normal distribution has a scalar support dimensionality, as the smallest random draw you can take is a scalar which has a dimension of zero. The support dimensionality of every distribution is hard-coded as a property."
   ]
  },
  {
   "cell_type": "code",
   "execution_count": 4,
   "metadata": {
    "pycharm": {
     "name": "#%%\n"
    }
   },
   "outputs": [
    {
     "data": {
      "text/plain": [
       "0"
      ]
     },
     "execution_count": 4,
     "metadata": {},
     "output_type": "execute_result"
    }
   ],
   "source": [
    "normal_dist.owner.op.ndim_supp"
   ]
  },
  {
   "cell_type": "markdown",
   "metadata": {
    "pycharm": {
     "name": "#%% md\n"
    }
   },
   "source": [
    "### Explicit batch dimensions"
   ]
  },
  {
   "cell_type": "markdown",
   "metadata": {
    "pycharm": {
     "name": "#%% md\n"
    }
   },
   "source": [
    "If one needs more than a single draw, a natural tendency would be to create multiple copies of the same variable and stack them together."
   ]
  },
  {
   "cell_type": "code",
   "execution_count": 5,
   "metadata": {
    "pycharm": {
     "name": "#%%\n"
    }
   },
   "outputs": [
    {
     "data": {
      "text/plain": [
       "array([-0.06684535,  1.29471918, -0.12572735])"
      ]
     },
     "execution_count": 5,
     "metadata": {},
     "output_type": "execute_result"
    }
   ],
   "source": [
    "normal_dists = pm.math.stack([pm.Normal.dist() for _ in range(3)])\n",
    "pm.draw(normal_dists)"
   ]
  },
  {
   "cell_type": "markdown",
   "metadata": {
    "pycharm": {
     "name": "#%% md\n"
    }
   },
   "source": [
    "More simply, one can create a *batch* of independent draws from the same distribution family by using the shape argument."
   ]
  },
  {
   "cell_type": "code",
   "execution_count": 6,
   "metadata": {
    "pycharm": {
     "name": "#%%\n"
    }
   },
   "outputs": [
    {
     "data": {
      "text/plain": [
       "array([ 1.10453926,  0.93416091, -0.27578331])"
      ]
     },
     "execution_count": 6,
     "metadata": {},
     "output_type": "execute_result"
    }
   ],
   "source": [
    "normal_dists = pm.Normal.dist(shape=(3,))\n",
    "pm.draw(normal_dists)"
   ]
  },
  {
   "cell_type": "code",
   "execution_count": 7,
   "metadata": {},
   "outputs": [
    {
     "data": {
      "text/plain": [
       "array([[ 1.17265064,  0.42953598, -0.28644594],\n",
       "       [ 1.1532523 , -1.42009449,  1.75785042],\n",
       "       [ 1.27788459,  0.24717247, -0.05186768],\n",
       "       [ 0.63788917,  1.40202128, -0.02625937]])"
      ]
     },
     "execution_count": 7,
     "metadata": {},
     "output_type": "execute_result"
    }
   ],
   "source": [
    "normal_dists = pm.Normal.dist(shape=(4, 3))\n",
    "pm.draw(normal_dists)"
   ]
  },
  {
   "cell_type": "markdown",
   "metadata": {
    "pycharm": {
     "name": "#%% md\n"
    }
   },
   "source": [
    "Not only is this more succint, but it produces much more efficient vectorized code. We rarely use the stack approach in PyMC, unless we need to combine draws from distinct distribution families."
   ]
  },
  {
   "cell_type": "markdown",
   "metadata": {
    "pycharm": {
     "name": "#%% md\n"
    }
   },
   "source": [
    "### Implicit batch dimensions"
   ]
  },
  {
   "cell_type": "markdown",
   "metadata": {
    "pycharm": {
     "name": "#%% md\n"
    }
   },
   "source": [
    "It is also possible to create a batch of draws by passing parameters with higher dimensions, without having to specify shape."
   ]
  },
  {
   "cell_type": "code",
   "execution_count": 8,
   "metadata": {
    "pycharm": {
     "name": "#%%\n"
    }
   },
   "outputs": [
    {
     "data": {
      "text/plain": [
       "array([ 0.20526339, -1.31902695,  0.46685689])"
      ]
     },
     "execution_count": 8,
     "metadata": {},
     "output_type": "execute_result"
    }
   ],
   "source": [
    "normal_dists = pm.Normal.dist(mu=np.array([0, 0, 0]), sigma=np.array([1, 1, 1]))\n",
    "pm.draw(normal_dists)"
   ]
  },
  {
   "cell_type": "markdown",
   "metadata": {
    "pycharm": {
     "name": "#%% md\n"
    }
   },
   "source": [
    "This is equivalent to the previous example with explicit shape, and we could have passed it explicitly here. Because we did not, we refer to these batch dimensions as being *implicit*.\n",
    "\n",
    "Where this becomes very useful is when we want the parameters to vary across batch dimensions."
   ]
  },
  {
   "cell_type": "code",
   "execution_count": 9,
   "metadata": {
    "pycharm": {
     "name": "#%%\n"
    }
   },
   "outputs": [
    {
     "data": {
      "text/plain": [
       "array([  0.99993126,   9.99984543, 100.00003259])"
      ]
     },
     "execution_count": 9,
     "metadata": {},
     "output_type": "execute_result"
    }
   ],
   "source": [
    "pm.draw(pm.Normal.dist(mu=[1, 10, 100], sigma=0.0001))"
   ]
  },
  {
   "cell_type": "markdown",
   "metadata": {
    "pycharm": {
     "name": "#%% md\n"
    }
   },
   "source": [
    "When the parameters don't have the same shapes, they are broacasted, in a similar way to how NumPy works. In this case `sigma` was broadcasted to match the shape of `mu`."
   ]
  },
  {
   "cell_type": "code",
   "execution_count": 10,
   "metadata": {
    "pycharm": {
     "name": "#%%\n"
    }
   },
   "outputs": [
    {
     "data": {
      "text/plain": [
       "[array([  1,  10, 100]), array([0.0001, 0.0001, 0.0001])]"
      ]
     },
     "execution_count": 10,
     "metadata": {},
     "output_type": "execute_result"
    }
   ],
   "source": [
    "np.broadcast_arrays([1, 10, 100], 0.0001)"
   ]
  },
  {
   "cell_type": "markdown",
   "metadata": {},
   "source": [
    "It's important to understand how NumPy {ref}`broadcasting <numpy:_basics.broadcasting>` works. When you do something that is not valid, you will easily encounter this sort of errors:"
   ]
  },
  {
   "cell_type": "code",
   "execution_count": 11,
   "metadata": {},
   "outputs": [
    {
     "name": "stdout",
     "output_type": "stream",
     "text": [
      "shape mismatch: objects cannot be broadcast to a single shape.  Mismatch is between arg 0 with shape (3,) and arg 1 with shape (2,).\n",
      "Apply node that caused the error: normal_rv{0, (0, 0), floatX, True}(RandomGeneratorSharedVariable(<Generator(PCG64) at 0x7F284D96BE60>), TensorConstant{[]}, TensorConstant{11}, TensorConstant{[  1  10 100]}, TensorConstant{(2,) of 0.1})\n",
      "Toposort index: 0\n",
      "Inputs types: [RandomGeneratorType, TensorType(int64, (0,)), TensorType(int64, ()), TensorType(int64, (3,)), TensorType(float64, (2,))]\n",
      "Inputs shapes: ['No shapes', (0,), (), (3,), (2,)]\n",
      "Inputs strides: ['No strides', (8,), (), (8,), (8,)]\n",
      "Inputs values: [Generator(PCG64) at 0x7F284D96BE60, array([], dtype=int64), array(11), array([  1,  10, 100]), array([0.1, 0.1])]\n",
      "Outputs clients: [['output'], ['output']]\n",
      "\n",
      "HINT: Re-running with most Aesara optimizations disabled could provide a back-trace showing when this node was created. This can be done by setting the Aesara flag 'optimizer=fast_compile'. If that does not work, Aesara optimizations can be disabled with 'optimizer=None'.\n",
      "HINT: Use the Aesara flag `exception_verbosity=high` for a debug print-out and storage map footprint of this Apply node.\n"
     ]
    }
   ],
   "source": [
    "try:\n",
    "    # shapes of (3,) and (2,) can't be broadcasted together\n",
    "    pm.draw(pm.Normal.dist(mu=[1, 10, 100], sigma=[0.1, 0.1]))\n",
    "except ValueError as error:\n",
    "    print(error)"
   ]
  },
  {
   "cell_type": "markdown",
   "metadata": {},
   "source": [
    "### Combining implicit and explicit batch dimensions"
   ]
  },
  {
   "cell_type": "markdown",
   "metadata": {},
   "source": [
    "You can combine explicit shape dimensions with implicit batch dimensions. As mentioned above, they can provide the same information."
   ]
  },
  {
   "cell_type": "code",
   "execution_count": 12,
   "metadata": {},
   "outputs": [
    {
     "data": {
      "text/plain": [
       "array([0.01360448, 0.11874881, 2.71238628])"
      ]
     },
     "execution_count": 12,
     "metadata": {},
     "output_type": "execute_result"
    }
   ],
   "source": [
    "normal_dists = pm.Normal.dist(mu=np.array([0, 1, 2]), sigma=1, shape=(3,))\n",
    "pm.draw(normal_dists)"
   ]
  },
  {
   "cell_type": "markdown",
   "metadata": {},
   "source": [
    "But shape can also be used to extend beyond any implicit batch dimensions."
   ]
  },
  {
   "cell_type": "code",
   "execution_count": 13,
   "metadata": {},
   "outputs": [
    {
     "data": {
      "text/plain": [
       "array([[-0.22475842,  1.1818126 ,  1.59941035],\n",
       "       [-1.18278597,  1.75896918,  1.87504772],\n",
       "       [-1.48208843,  0.00341356,  0.66390724],\n",
       "       [-1.55003988,  2.83424746,  2.49958085]])"
      ]
     },
     "execution_count": 13,
     "metadata": {},
     "output_type": "execute_result"
    }
   ],
   "source": [
    "normal_dists = pm.Normal.dist(mu=np.array([0, 1, 2]), sigma=1, shape=(4, 3))\n",
    "pm.draw(normal_dists)"
   ]
  },
  {
   "cell_type": "markdown",
   "metadata": {},
   "source": [
    "Note that, due to broadcasting rules, explicit batch dimensions must always \"go on the left\" of any implicit dimensions. So in the previous example `shape=(4, 3)` is valid, but `shape=(3, 4)` is not, because the `mu` parameter can be broadcasted to the first shape but not to the second."
   ]
  },
  {
   "cell_type": "code",
   "execution_count": 14,
   "metadata": {
    "scrolled": true
   },
   "outputs": [
    {
     "name": "stdout",
     "output_type": "stream",
     "text": [
      "shape mismatch: objects cannot be broadcast to a single shape.  Mismatch is between arg 0 with shape (3, 4) and arg 1 with shape (3,).\n",
      "Apply node that caused the error: normal_rv{0, (0, 0), floatX, True}(RandomGeneratorSharedVariable(<Generator(PCG64) at 0x7F284D6B83C0>), TensorConstant{[3 4]}, TensorConstant{11}, TensorConstant{[0 1 2]}, TensorConstant{1.0})\n",
      "Toposort index: 0\n",
      "Inputs types: [RandomGeneratorType, TensorType(int64, (2,)), TensorType(int64, ()), TensorType(int64, (3,)), TensorType(float64, ())]\n",
      "Inputs shapes: ['No shapes', (2,), (), (3,), ()]\n",
      "Inputs strides: ['No strides', (8,), (), (8,), ()]\n",
      "Inputs values: [Generator(PCG64) at 0x7F284D6B83C0, array([3, 4]), array(11), array([0, 1, 2]), array(1.)]\n",
      "Outputs clients: [['output'], ['output']]\n",
      "\n",
      "HINT: Re-running with most Aesara optimizations disabled could provide a back-trace showing when this node was created. This can be done by setting the Aesara flag 'optimizer=fast_compile'. If that does not work, Aesara optimizations can be disabled with 'optimizer=None'.\n",
      "HINT: Use the Aesara flag `exception_verbosity=high` for a debug print-out and storage map footprint of this Apply node.\n"
     ]
    }
   ],
   "source": [
    "try:\n",
    "    pm.draw(pm.Normal.dist(mu=np.array([0, 1, 2]), sigma=1, shape=(3, 4)))\n",
    "except ValueError as error:\n",
    "    print(error)"
   ]
  },
  {
   "cell_type": "markdown",
   "metadata": {},
   "source": [
    "If you needed the Normal variables to have `shape=(4, 3)`, you can transpose it after defining it."
   ]
  },
  {
   "cell_type": "code",
   "execution_count": 15,
   "metadata": {},
   "outputs": [
    {
     "data": {
      "text/plain": [
       "array([[-1.17503239, -1.35392578,  0.9645284 ,  1.36791229],\n",
       "       [ 0.7740332 ,  1.89822562,  1.94041417,  2.0301242 ],\n",
       "       [ 1.98223723,  3.10563644,  3.03044539, -0.71757045]])"
      ]
     },
     "execution_count": 15,
     "metadata": {},
     "output_type": "execute_result"
    }
   ],
   "source": [
    "transposed_normals = pm.Normal.dist(mu=np.array([0, 1, 2]), sigma=1, shape=(4, 3)).T\n",
    "pm.draw(transposed_normals)"
   ]
  },
  {
   "cell_type": "markdown",
   "metadata": {},
   "source": [
    ":::{tip} It's important not to confuse dimensions set in the definition of a distribution versus those set in downstream manipulations like transposition, indexing or broadcasting. When sampling with PyMC (be it via forward sampling or MCMC), the random draws will always emanate from the distribution shape. Notice how in the following example, a different number of \"random\" draws were actually taken, despite the two variables having the same final shape. :::"
   ]
  },
  {
   "cell_type": "code",
   "execution_count": 16,
   "metadata": {},
   "outputs": [],
   "source": [
    "vector_normals = pm.Normal.dist(size=(3,))\n",
    "broadcasted_normal = at.broadcast_to(pm.Normal.dist(), (3,))"
   ]
  },
  {
   "cell_type": "code",
   "execution_count": 17,
   "metadata": {},
   "outputs": [
    {
     "data": {
      "text/plain": [
       "(array([-1.79527244,  0.59187417, -0.12458178]),\n",
       " array([-0.34580396, -0.34580396, -0.34580396]))"
      ]
     },
     "execution_count": 17,
     "metadata": {},
     "output_type": "execute_result"
    }
   ],
   "source": [
    "pm.draw(vector_normals), pm.draw(broadcasted_normal)"
   ]
  },
  {
   "cell_type": "markdown",
   "metadata": {
    "pycharm": {
     "name": "#%% md\n"
    }
   },
   "source": [
    "## Multivariate distribution example"
   ]
  },
  {
   "cell_type": "markdown",
   "metadata": {
    "pycharm": {
     "name": "#%% md\n"
    }
   },
   "source": [
    "Some distributions by definition return more than one value when evaluated. This may be a vector of values or a matrix or an arbitrary multidimensional tensor. An example is the Multivariate Normal, which always returns a vector (an array with one dimension)."
   ]
  },
  {
   "cell_type": "code",
   "execution_count": 18,
   "metadata": {
    "pycharm": {
     "name": "#%%\n"
    }
   },
   "outputs": [
    {
     "data": {
      "text/plain": [
       "(array([ 0.23006493, -0.51221089,  1.15872558]), 1)"
      ]
     },
     "execution_count": 18,
     "metadata": {},
     "output_type": "execute_result"
    }
   ],
   "source": [
    "mvnormal_dist = pm.MvNormal.dist(mu=np.ones(3), cov=np.eye(3))\n",
    "mvnormal_draw = pm.draw(mvnormal_dist)\n",
    "mvnormal_draw, mvnormal_draw.ndim"
   ]
  },
  {
   "cell_type": "markdown",
   "metadata": {
    "pycharm": {
     "name": "#%% md\n"
    }
   },
   "source": [
    "As with any distribution, the support dimensionality is specified as a fixed property"
   ]
  },
  {
   "cell_type": "code",
   "execution_count": 19,
   "metadata": {
    "pycharm": {
     "name": "#%%\n"
    }
   },
   "outputs": [
    {
     "data": {
      "text/plain": [
       "1"
      ]
     },
     "execution_count": 19,
     "metadata": {},
     "output_type": "execute_result"
    }
   ],
   "source": [
    "mvnormal_dist.owner.op.ndim_supp"
   ]
  },
  {
   "cell_type": "markdown",
   "metadata": {
    "pycharm": {
     "name": "#%% md\n"
    }
   },
   "source": [
    "Even if you specify a MvNormal with a single dimension, you get back a vector!"
   ]
  },
  {
   "cell_type": "code",
   "execution_count": 20,
   "metadata": {
    "pycharm": {
     "name": "#%%\n"
    }
   },
   "outputs": [
    {
     "data": {
      "text/plain": [
       "(array([1.56344461]), 1)"
      ]
     },
     "execution_count": 20,
     "metadata": {},
     "output_type": "execute_result"
    }
   ],
   "source": [
    "smallest_mvnormal_dist = pm.MvNormal.dist(mu=[1], cov=[[1]])\n",
    "smallest_mvnormal_draw = pm.draw(smallest_mvnormal_dist)\n",
    "smallest_mvnormal_draw, smallest_mvnormal_draw.ndim"
   ]
  },
  {
   "cell_type": "markdown",
   "metadata": {
    "pycharm": {
     "name": "#%% md\n"
    }
   },
   "source": [
    "### Implicit support dimensions"
   ]
  },
  {
   "cell_type": "markdown",
   "metadata": {
    "pycharm": {
     "name": "#%% md\n"
    }
   },
   "source": [
    "In the MvNormal examples we just saw, the support dimension was actually implicit. Nowhere did we specify we wanted a vector of 3 or 1 draws. This was inferred from the shape of `mu` and `cov`. As such, we refer to it as being an *implicit support dimension*. We could be a bit more explicit by using shape."
   ]
  },
  {
   "cell_type": "code",
   "execution_count": 21,
   "metadata": {
    "pycharm": {
     "name": "#%%\n"
    }
   },
   "outputs": [
    {
     "data": {
      "text/plain": [
       "array([3])"
      ]
     },
     "execution_count": 21,
     "metadata": {},
     "output_type": "execute_result"
    }
   ],
   "source": [
    "explicit_mvnormal = pm.MvNormal.dist(mu=np.ones(3), cov=np.eye(3), shape=(3,))\n",
    "explicit_mvnormal.shape.eval()"
   ]
  },
  {
   "cell_type": "markdown",
   "metadata": {},
   "source": [
    ":::{warning} However, note that at the time of writing shape is simply ignored for support dimensions. It serves merely as a \"type-hint\" for labeling the expected dimensions. :::"
   ]
  },
  {
   "cell_type": "code",
   "execution_count": 22,
   "metadata": {},
   "outputs": [
    {
     "data": {
      "text/plain": [
       "array([3])"
      ]
     },
     "execution_count": 22,
     "metadata": {},
     "output_type": "execute_result"
    }
   ],
   "source": [
    "ignored_shape_mvnormal = pm.MvNormal.dist(mu=np.ones(3), cov=np.eye(3), shape=(4,))\n",
    "explicit_mvnormal.shape.eval()"
   ]
  },
  {
   "cell_type": "markdown",
   "metadata": {
    "pycharm": {
     "name": "#%% md\n"
    }
   },
   "source": [
    "### Explicit batch dimensions"
   ]
  },
  {
   "cell_type": "markdown",
   "metadata": {
    "pycharm": {
     "name": "#%% md\n"
    }
   },
   "source": [
    "As with univariate distributions, we can add explicit batched dimensions. We will use another vector distribution to illustrate this: the Multinomial. The following snippet defines a matrix of five independent Multinomial distributions, each of which is a vector of size 3."
   ]
  },
  {
   "cell_type": "code",
   "execution_count": 23,
   "metadata": {
    "pycharm": {
     "name": "#%%\n"
    }
   },
   "outputs": [
    {
     "data": {
      "text/plain": [
       "array([[0, 2, 3],\n",
       "       [1, 2, 2],\n",
       "       [0, 0, 5],\n",
       "       [0, 2, 3],\n",
       "       [0, 2, 3]])"
      ]
     },
     "execution_count": 23,
     "metadata": {},
     "output_type": "execute_result"
    }
   ],
   "source": [
    "pm.draw(pm.Multinomial.dist(n=5, p=[0.1, 0.3, 0.6], shape=(5, 3)))"
   ]
  },
  {
   "cell_type": "markdown",
   "metadata": {
    "pycharm": {
     "name": "#%% md\n"
    }
   },
   "source": [
    ":::{warning} Again, note that shape has no effect on the support dimensionality :::"
   ]
  },
  {
   "cell_type": "code",
   "execution_count": 24,
   "metadata": {},
   "outputs": [
    {
     "data": {
      "text/plain": [
       "array([[0, 1, 4],\n",
       "       [3, 1, 1],\n",
       "       [1, 0, 4],\n",
       "       [0, 2, 3],\n",
       "       [1, 0, 4]])"
      ]
     },
     "execution_count": 24,
     "metadata": {},
     "output_type": "execute_result"
    }
   ],
   "source": [
    "pm.draw(pm.Multinomial.dist(n=5, p=[0.1, 0.3, 0.6], shape=(5, 4)))"
   ]
  },
  {
   "cell_type": "markdown",
   "metadata": {},
   "source": [
    "For the same reason, you must always define explicit batched dimensions \"to the left\" of the support dimension. The following will not behave as expected."
   ]
  },
  {
   "cell_type": "code",
   "execution_count": 25,
   "metadata": {},
   "outputs": [
    {
     "data": {
      "text/plain": [
       "array([[0, 3, 2],\n",
       "       [0, 3, 2],\n",
       "       [0, 0, 5]])"
      ]
     },
     "execution_count": 25,
     "metadata": {},
     "output_type": "execute_result"
    }
   ],
   "source": [
    "pm.draw(pm.Multinomial.dist(n=5, p=[0.1, 0.3, 0.6], shape=(3, 5)))"
   ]
  },
  {
   "cell_type": "markdown",
   "metadata": {},
   "source": [
    "If you needed the Multinomial variables to have `shape=(3, 5)` you can transpose it after defining it."
   ]
  },
  {
   "cell_type": "code",
   "execution_count": 26,
   "metadata": {},
   "outputs": [
    {
     "data": {
      "text/plain": [
       "array([[1, 0, 0, 0, 0],\n",
       "       [3, 2, 1, 2, 2],\n",
       "       [1, 3, 4, 3, 3]])"
      ]
     },
     "execution_count": 26,
     "metadata": {},
     "output_type": "execute_result"
    }
   ],
   "source": [
    "transposed_multinomials = pm.Multinomial.dist(n=5, p=[0.1, 0.3, 0.6], shape=(5, 3)).T\n",
    "pm.draw(transposed_multinomials)"
   ]
  },
  {
   "cell_type": "markdown",
   "metadata": {
    "pycharm": {
     "name": "#%% md\n"
    }
   },
   "source": [
    "### Implicit batch dimensions"
   ]
  },
  {
   "cell_type": "markdown",
   "metadata": {
    "pycharm": {
     "name": "#%% md\n"
    }
   },
   "source": [
    "As with univariate distributions, we can use different parameters for each batched dimension"
   ]
  },
  {
   "cell_type": "code",
   "execution_count": 27,
   "metadata": {
    "pycharm": {
     "name": "#%%\n"
    }
   },
   "outputs": [
    {
     "data": {
      "text/plain": [
       "array([[0, 1, 4],\n",
       "       [0, 5, 5]])"
      ]
     },
     "execution_count": 27,
     "metadata": {},
     "output_type": "execute_result"
    }
   ],
   "source": [
    "multinomial_dist = pm.Multinomial.dist(n=[5, 10], p=[0.1, 0.3, 0.6])\n",
    "pm.draw(multinomial_dist)"
   ]
  },
  {
   "cell_type": "markdown",
   "metadata": {
    "pycharm": {
     "name": "#%% md\n"
    }
   },
   "source": [
    "Which is equivalent to the more verbose"
   ]
  },
  {
   "cell_type": "code",
   "execution_count": 28,
   "metadata": {
    "pycharm": {
     "name": "#%%\n"
    }
   },
   "outputs": [
    {
     "data": {
      "text/plain": [
       "array([[1, 1, 3],\n",
       "       [1, 0, 9]])"
      ]
     },
     "execution_count": 28,
     "metadata": {},
     "output_type": "execute_result"
    }
   ],
   "source": [
    "pm.draw(pm.Multinomial.dist(n=[5, 10], p=[[0.1, 0.3, 0.6], [0.1, 0.3, 0.6]]))"
   ]
  },
  {
   "cell_type": "markdown",
   "metadata": {
    "pycharm": {
     "name": "#%% md\n"
    }
   },
   "source": [
    "If you are familiar with NumPy broadcasting rules you may be curious of how does PyMC make this work. Naive broadcasting wouldn't work here"
   ]
  },
  {
   "cell_type": "code",
   "execution_count": 29,
   "metadata": {
    "pycharm": {
     "name": "#%%\n"
    }
   },
   "outputs": [
    {
     "name": "stdout",
     "output_type": "stream",
     "text": [
      "shape mismatch: objects cannot be broadcast to a single shape.  Mismatch is between arg 0 with shape (2,) and arg 1 with shape (3,).\n"
     ]
    }
   ],
   "source": [
    "try:\n",
    "    np.broadcast_arrays([5, 10], [0.1, 0.3, 0.6])\n",
    "except ValueError as exc:\n",
    "    print(exc)"
   ]
  },
  {
   "cell_type": "markdown",
   "metadata": {},
   "source": [
    "To understand what is going on, we need to introduce the concept of parameter core dimensions. The core dimensions of a distribution's parameter are the minimum number of dimensions the parameters need to have in order to define a distribution. In the Multinomial distribution, `n` must at least be an scalar integer, but `p` must be at least a vector that represents the probability of having an outcome on each category. So, for the Multinomial distribution, `n` has 0 core dimensions, and `p` has 1 core dimension. \n",
    "\n",
    "So if we have a vector of two `n`, we should actually broadcast the vector of `p` into a matrix with two such vectors, and pair each `n` with each broadcasted row of `p`. This works exactly like `np.vectorize`."
   ]
  },
  {
   "cell_type": "code",
   "execution_count": 30,
   "metadata": {
    "pycharm": {
     "name": "#%%\n"
    }
   },
   "outputs": [
    {
     "name": "stdout",
     "output_type": "stream",
     "text": [
      ">> 5 [0.1 0.3 0.6]\n",
      ">> 10 [0.1 0.3 0.6]\n"
     ]
    },
    {
     "data": {
      "text/plain": [
       "array([[1, 1, 3],\n",
       "       [3, 3, 4]])"
      ]
     },
     "execution_count": 30,
     "metadata": {},
     "output_type": "execute_result"
    }
   ],
   "source": [
    "def core_multinomial(n, p):\n",
    "    print(\">>\", n, p)\n",
    "    return pm.draw(pm.Multinomial.dist(n, p))\n",
    "\n",
    "\n",
    "vectorized_multinomial = np.vectorize(core_multinomial, signature=\"(),(p)->(p)\")\n",
    "vectorized_multinomial([5, 10], [0.1, 0.3, 0.6])"
   ]
  },
  {
   "cell_type": "markdown",
   "metadata": {
    "pycharm": {
     "name": "#%% md\n"
    }
   },
   "source": [
    "The core dimensionality of each distribution parameter is also hard-coded as a property of each distribution"
   ]
  },
  {
   "cell_type": "code",
   "execution_count": 31,
   "metadata": {
    "pycharm": {
     "name": "#%%\n"
    }
   },
   "outputs": [
    {
     "data": {
      "text/plain": [
       "(0, 1)"
      ]
     },
     "execution_count": 31,
     "metadata": {},
     "output_type": "execute_result"
    }
   ],
   "source": [
    "multinomial_dist.owner.op.ndims_params"
   ]
  },
  {
   "cell_type": "markdown",
   "metadata": {},
   "source": [
    "Implicit batch dimensions must still respect broadcasting rules. The following example is not valid because `n` has batched dimensions of `shape=(2,)` and `p` has batched dimensions of `shape=(3,)` which cannot be broadcasted together."
   ]
  },
  {
   "cell_type": "code",
   "execution_count": 32,
   "metadata": {},
   "outputs": [
    {
     "name": "stdout",
     "output_type": "stream",
     "text": [
      "operands could not be broadcast together with remapped shapes [original->remapped]: (2,)  and requested shape (3,)\n",
      "Apply node that caused the error: multinomial_rv{1, (0, 1), int64, True}(RandomGeneratorSharedVariable(<Generator(PCG64) at 0x7F28450E1540>), TensorConstant{[]}, TensorConstant{4}, TensorConstant{[ 5 10]}, TensorConstant{[[0.1 0.3 .. 0.3 0.6]]})\n",
      "Toposort index: 0\n",
      "Inputs types: [RandomGeneratorType, TensorType(int64, (0,)), TensorType(int64, ()), TensorType(int64, (2,)), TensorType(float64, (3, 3))]\n",
      "Inputs shapes: ['No shapes', (0,), (), (2,), (3, 3)]\n",
      "Inputs strides: ['No strides', (8,), (), (8,), (24, 8)]\n",
      "Inputs values: [Generator(PCG64) at 0x7F28450E1540, array([], dtype=int64), array(4), array([ 5, 10]), 'not shown']\n",
      "Outputs clients: [['output'], ['output']]\n",
      "\n",
      "HINT: Re-running with most Aesara optimizations disabled could provide a back-trace showing when this node was created. This can be done by setting the Aesara flag 'optimizer=fast_compile'. If that does not work, Aesara optimizations can be disabled with 'optimizer=None'.\n",
      "HINT: Use the Aesara flag `exception_verbosity=high` for a debug print-out and storage map footprint of this Apply node.\n"
     ]
    }
   ],
   "source": [
    "try:\n",
    "    pm.draw(pm.Multinomial.dist(n=[5, 10], p=[[0.1, 0.3, 0.6], [0.1, 0.3, 0.6], [0.1, 0.3, 0.6]]))\n",
    "except ValueError as error:\n",
    "    print(error)"
   ]
  },
  {
   "cell_type": "markdown",
   "metadata": {
    "pycharm": {
     "name": "#%% md\n"
    }
   },
   "source": [
    "### Combining implicit and explicit batch dimensions"
   ]
  },
  {
   "cell_type": "markdown",
   "metadata": {
    "pycharm": {
     "name": "#%% md\n"
    }
   },
   "source": [
    "You can and should combine implicit dimensions from multidimensional parameters with explicit shape information, which is easier to reason about."
   ]
  },
  {
   "cell_type": "code",
   "execution_count": 33,
   "metadata": {
    "pycharm": {
     "name": "#%%\n"
    }
   },
   "outputs": [
    {
     "data": {
      "text/plain": [
       "array([[0, 2, 3],\n",
       "       [1, 2, 7]])"
      ]
     },
     "execution_count": 33,
     "metadata": {},
     "output_type": "execute_result"
    }
   ],
   "source": [
    "pm.draw(pm.Multinomial.dist(n=[5, 10], p=[0.1, 0.3, 0.6], shape=(2, 3)))"
   ]
  },
  {
   "cell_type": "markdown",
   "metadata": {},
   "source": [
    "Explicit batch dimensions can still extend beyond any implicit batch dimensions. Again, due to how broadcasting works, explicit batch dimensions must always \"go on the left\". The following case is invalid, because `n` has batched dimensions of `shape=(2,)`, which cannot be broadcasted to the explicit batch dimensions of `shape=(2, 4)`."
   ]
  },
  {
   "cell_type": "code",
   "execution_count": 34,
   "metadata": {},
   "outputs": [
    {
     "name": "stdout",
     "output_type": "stream",
     "text": [
      "shape mismatch: objects cannot be broadcast to a single shape\n",
      "Apply node that caused the error: multinomial_rv{1, (0, 1), int64, True}(RandomGeneratorSharedVariable(<Generator(PCG64) at 0x7F284503D7E0>), TensorConstant{[2 4]}, TensorConstant{4}, TensorConstant{[ 5 10]}, TensorConstant{[0.1 0.3 0.6]})\n",
      "Toposort index: 0\n",
      "Inputs types: [RandomGeneratorType, TensorType(int64, (2,)), TensorType(int64, ()), TensorType(int64, (2,)), TensorType(float64, (3,))]\n",
      "Inputs shapes: ['No shapes', (2,), (), (2,), (3,)]\n",
      "Inputs strides: ['No strides', (8,), (), (8,), (8,)]\n",
      "Inputs values: [Generator(PCG64) at 0x7F284503D7E0, array([2, 4]), array(4), array([ 5, 10]), array([0.1, 0.3, 0.6])]\n",
      "Outputs clients: [['output'], ['output']]\n",
      "\n",
      "HINT: Re-running with most Aesara optimizations disabled could provide a back-trace showing when this node was created. This can be done by setting the Aesara flag 'optimizer=fast_compile'. If that does not work, Aesara optimizations can be disabled with 'optimizer=None'.\n",
      "HINT: Use the Aesara flag `exception_verbosity=high` for a debug print-out and storage map footprint of this Apply node.\n"
     ]
    }
   ],
   "source": [
    "try:\n",
    "    pm.draw(pm.Multinomial.dist(n=[5, 10], p=[0.1, 0.3, 0.6], shape=(2, 4, 3)))\n",
    "except ValueError as error:\n",
    "    print(error)"
   ]
  },
  {
   "cell_type": "markdown",
   "metadata": {
    "pycharm": {
     "name": "#%% md\n"
    }
   },
   "source": [
    "## Inspecting dimensionality with a model graph"
   ]
  },
  {
   "cell_type": "markdown",
   "metadata": {},
   "source": [
    "More often than not distributions are used inside a PyMC model, and as such there are tools that facilitate reasoning about distributions shapes in that context."
   ]
  },
  {
   "cell_type": "code",
   "execution_count": 35,
   "metadata": {
    "pycharm": {
     "name": "#%%\n"
    }
   },
   "outputs": [
    {
     "name": "stdout",
     "output_type": "stream",
     "text": [
      "          x: shape=(3,)\n",
      "sigma_log__: shape=()\n",
      "      sigma: shape=()\n",
      "          y: shape=(3,)\n"
     ]
    }
   ],
   "source": [
    "with pm.Model() as pmodel:\n",
    "    mu = pm.Normal(\"x\", mu=0, size=(3))\n",
    "    sigma = pm.HalfNormal(\"sigma\")\n",
    "    y = pm.Normal(\"y\", mu=mu, sigma=sigma)\n",
    "\n",
    "for rv, shape in pmodel.eval_rv_shapes().items():\n",
    "    print(f\"{rv:>11}: shape={shape}\")"
   ]
  },
  {
   "cell_type": "markdown",
   "metadata": {
    "pycharm": {
     "name": "#%% md\n"
    }
   },
   "source": [
    "An even more powerful tool to understand and debug dimensionality in PyMC is the {func}`~pymc.model_to_graphviz` function. Rather than inspecting array outputs we can instead read the Graphviz output to understand the dimensionality of the variables."
   ]
  },
  {
   "cell_type": "code",
   "execution_count": 36,
   "metadata": {
    "pycharm": {
     "name": "#%%\n"
    }
   },
   "outputs": [
    {
     "data": {
      "image/svg+xml": [
       "<?xml version=\"1.0\" encoding=\"UTF-8\" standalone=\"no\"?>\n",
       "<!DOCTYPE svg PUBLIC \"-//W3C//DTD SVG 1.1//EN\"\n",
       " \"http://www.w3.org/Graphics/SVG/1.1/DTD/svg11.dtd\">\n",
       "<!-- Generated by graphviz version 2.43.0 (0)\n",
       " -->\n",
       "<!-- Title: %3 Pages: 1 -->\n",
       "<svg width=\"282pt\" height=\"249pt\"\n",
       " viewBox=\"0.00 0.00 281.71 248.91\" xmlns=\"http://www.w3.org/2000/svg\" xmlns:xlink=\"http://www.w3.org/1999/xlink\">\n",
       "<g id=\"graph0\" class=\"graph\" transform=\"scale(1 1) rotate(0) translate(4 244.91)\">\n",
       "<title>%3</title>\n",
       "<polygon fill=\"white\" stroke=\"transparent\" points=\"-4,4 -4,-244.91 277.71,-244.91 277.71,4 -4,4\"/>\n",
       "<g id=\"clust1\" class=\"cluster\">\n",
       "<title>cluster3</title>\n",
       "<path fill=\"none\" stroke=\"black\" d=\"M20,-8C20,-8 110,-8 110,-8 116,-8 122,-14 122,-20 122,-20 122,-220.91 122,-220.91 122,-226.91 116,-232.91 110,-232.91 110,-232.91 20,-232.91 20,-232.91 14,-232.91 8,-226.91 8,-220.91 8,-220.91 8,-20 8,-20 8,-14 14,-8 20,-8\"/>\n",
       "<text text-anchor=\"middle\" x=\"109\" y=\"-15.8\" font-family=\"Times,serif\" font-size=\"14.00\">3</text>\n",
       "</g>\n",
       "<!-- y -->\n",
       "<g id=\"node1\" class=\"node\">\n",
       "<title>y</title>\n",
       "<ellipse fill=\"none\" stroke=\"black\" cx=\"65\" cy=\"-76.48\" rx=\"49.49\" ry=\"37.45\"/>\n",
       "<text text-anchor=\"middle\" x=\"65\" y=\"-87.78\" font-family=\"Times,serif\" font-size=\"14.00\">y</text>\n",
       "<text text-anchor=\"middle\" x=\"65\" y=\"-72.78\" font-family=\"Times,serif\" font-size=\"14.00\">~</text>\n",
       "<text text-anchor=\"middle\" x=\"65\" y=\"-57.78\" font-family=\"Times,serif\" font-size=\"14.00\">Normal</text>\n",
       "</g>\n",
       "<!-- x -->\n",
       "<g id=\"node2\" class=\"node\">\n",
       "<title>x</title>\n",
       "<ellipse fill=\"none\" stroke=\"black\" cx=\"65\" cy=\"-187.43\" rx=\"49.49\" ry=\"37.45\"/>\n",
       "<text text-anchor=\"middle\" x=\"65\" y=\"-198.73\" font-family=\"Times,serif\" font-size=\"14.00\">x</text>\n",
       "<text text-anchor=\"middle\" x=\"65\" y=\"-183.73\" font-family=\"Times,serif\" font-size=\"14.00\">~</text>\n",
       "<text text-anchor=\"middle\" x=\"65\" y=\"-168.73\" font-family=\"Times,serif\" font-size=\"14.00\">Normal</text>\n",
       "</g>\n",
       "<!-- x&#45;&gt;y -->\n",
       "<g id=\"edge2\" class=\"edge\">\n",
       "<title>x&#45;&gt;y</title>\n",
       "<path fill=\"none\" stroke=\"black\" d=\"M65,-149.85C65,-141.67 65,-132.89 65,-124.37\"/>\n",
       "<polygon fill=\"black\" stroke=\"black\" points=\"68.5,-124.15 65,-114.15 61.5,-124.15 68.5,-124.15\"/>\n",
       "</g>\n",
       "<!-- sigma -->\n",
       "<g id=\"node3\" class=\"node\">\n",
       "<title>sigma</title>\n",
       "<ellipse fill=\"none\" stroke=\"black\" cx=\"203\" cy=\"-187.43\" rx=\"70.92\" ry=\"37.45\"/>\n",
       "<text text-anchor=\"middle\" x=\"203\" y=\"-198.73\" font-family=\"Times,serif\" font-size=\"14.00\">sigma</text>\n",
       "<text text-anchor=\"middle\" x=\"203\" y=\"-183.73\" font-family=\"Times,serif\" font-size=\"14.00\">~</text>\n",
       "<text text-anchor=\"middle\" x=\"203\" y=\"-168.73\" font-family=\"Times,serif\" font-size=\"14.00\">HalfNormal</text>\n",
       "</g>\n",
       "<!-- sigma&#45;&gt;y -->\n",
       "<g id=\"edge1\" class=\"edge\">\n",
       "<title>sigma&#45;&gt;y</title>\n",
       "<path fill=\"none\" stroke=\"black\" d=\"M164.19,-155.79C146.36,-141.71 125.17,-124.98 106.96,-110.61\"/>\n",
       "<polygon fill=\"black\" stroke=\"black\" points=\"108.85,-107.63 98.83,-104.19 104.51,-113.13 108.85,-107.63\"/>\n",
       "</g>\n",
       "</g>\n",
       "</svg>\n"
      ],
      "text/plain": [
       "<graphviz.graphs.Digraph at 0x7f28450d2f80>"
      ]
     },
     "execution_count": 36,
     "metadata": {},
     "output_type": "execute_result"
    }
   ],
   "source": [
    "pm.model_to_graphviz(pmodel)"
   ]
  },
  {
   "cell_type": "markdown",
   "metadata": {
    "pycharm": {
     "name": "#%% md\n"
    }
   },
   "source": [
    "In the example above the number on the bottom left of each box (or plate) indicates the dimensionality of the distributions within. If a distribution is outside of any box with a number, it has a scalar shape.\n",
    "\n",
    "Let's use this tool to review implicit and explicit dimensions:"
   ]
  },
  {
   "cell_type": "code",
   "execution_count": 37,
   "metadata": {
    "pycharm": {
     "name": "#%%\n"
    }
   },
   "outputs": [
    {
     "data": {
      "image/svg+xml": [
       "<?xml version=\"1.0\" encoding=\"UTF-8\" standalone=\"no\"?>\n",
       "<!DOCTYPE svg PUBLIC \"-//W3C//DTD SVG 1.1//EN\"\n",
       " \"http://www.w3.org/Graphics/SVG/1.1/DTD/svg11.dtd\">\n",
       "<!-- Generated by graphviz version 2.43.0 (0)\n",
       " -->\n",
       "<!-- Title: %3 Pages: 1 -->\n",
       "<svg width=\"618pt\" height=\"138pt\"\n",
       " viewBox=\"0.00 0.00 617.92 137.95\" xmlns=\"http://www.w3.org/2000/svg\" xmlns:xlink=\"http://www.w3.org/1999/xlink\">\n",
       "<g id=\"graph0\" class=\"graph\" transform=\"scale(1 1) rotate(0) translate(4 133.95)\">\n",
       "<title>%3</title>\n",
       "<polygon fill=\"white\" stroke=\"transparent\" points=\"-4,4 -4,-133.95 613.92,-133.95 613.92,4 -4,4\"/>\n",
       "<g id=\"clust1\" class=\"cluster\">\n",
       "<title>cluster3</title>\n",
       "<path fill=\"none\" stroke=\"black\" d=\"M205.92,-8C205.92,-8 383.92,-8 383.92,-8 389.92,-8 395.92,-14 395.92,-20 395.92,-20 395.92,-109.95 395.92,-109.95 395.92,-115.95 389.92,-121.95 383.92,-121.95 383.92,-121.95 205.92,-121.95 205.92,-121.95 199.92,-121.95 193.92,-115.95 193.92,-109.95 193.92,-109.95 193.92,-20 193.92,-20 193.92,-14 199.92,-8 205.92,-8\"/>\n",
       "<text text-anchor=\"middle\" x=\"382.92\" y=\"-15.8\" font-family=\"Times,serif\" font-size=\"14.00\">3</text>\n",
       "</g>\n",
       "<g id=\"clust2\" class=\"cluster\">\n",
       "<title>cluster4</title>\n",
       "<path fill=\"none\" stroke=\"black\" d=\"M415.92,-8C415.92,-8 589.92,-8 589.92,-8 595.92,-8 601.92,-14 601.92,-20 601.92,-20 601.92,-109.95 601.92,-109.95 601.92,-115.95 595.92,-121.95 589.92,-121.95 589.92,-121.95 415.92,-121.95 415.92,-121.95 409.92,-121.95 403.92,-115.95 403.92,-109.95 403.92,-109.95 403.92,-20 403.92,-20 403.92,-14 409.92,-8 415.92,-8\"/>\n",
       "<text text-anchor=\"middle\" x=\"588.92\" y=\"-15.8\" font-family=\"Times,serif\" font-size=\"14.00\">4</text>\n",
       "</g>\n",
       "<!-- scalar (support) -->\n",
       "<g id=\"node1\" class=\"node\">\n",
       "<title>scalar (support)</title>\n",
       "<ellipse fill=\"none\" stroke=\"black\" cx=\"91.92\" cy=\"-76.48\" rx=\"91.85\" ry=\"37.45\"/>\n",
       "<text text-anchor=\"middle\" x=\"91.92\" y=\"-87.78\" font-family=\"Times,serif\" font-size=\"14.00\">scalar (support)</text>\n",
       "<text text-anchor=\"middle\" x=\"91.92\" y=\"-72.78\" font-family=\"Times,serif\" font-size=\"14.00\">~</text>\n",
       "<text text-anchor=\"middle\" x=\"91.92\" y=\"-57.78\" font-family=\"Times,serif\" font-size=\"14.00\">Normal</text>\n",
       "</g>\n",
       "<!-- vector (implicit) -->\n",
       "<g id=\"node2\" class=\"node\">\n",
       "<title>vector (implicit)</title>\n",
       "<ellipse fill=\"none\" stroke=\"black\" cx=\"294.92\" cy=\"-76.48\" rx=\"92.76\" ry=\"37.45\"/>\n",
       "<text text-anchor=\"middle\" x=\"294.92\" y=\"-87.78\" font-family=\"Times,serif\" font-size=\"14.00\">vector (implicit)</text>\n",
       "<text text-anchor=\"middle\" x=\"294.92\" y=\"-72.78\" font-family=\"Times,serif\" font-size=\"14.00\">~</text>\n",
       "<text text-anchor=\"middle\" x=\"294.92\" y=\"-57.78\" font-family=\"Times,serif\" font-size=\"14.00\">Normal</text>\n",
       "</g>\n",
       "<!-- vector (explicit) -->\n",
       "<g id=\"node3\" class=\"node\">\n",
       "<title>vector (explicit)</title>\n",
       "<ellipse fill=\"none\" stroke=\"black\" cx=\"502.92\" cy=\"-76.48\" rx=\"91.43\" ry=\"37.45\"/>\n",
       "<text text-anchor=\"middle\" x=\"502.92\" y=\"-87.78\" font-family=\"Times,serif\" font-size=\"14.00\">vector (explicit)</text>\n",
       "<text text-anchor=\"middle\" x=\"502.92\" y=\"-72.78\" font-family=\"Times,serif\" font-size=\"14.00\">~</text>\n",
       "<text text-anchor=\"middle\" x=\"502.92\" y=\"-57.78\" font-family=\"Times,serif\" font-size=\"14.00\">Normal</text>\n",
       "</g>\n",
       "</g>\n",
       "</svg>\n"
      ],
      "text/plain": [
       "<graphviz.graphs.Digraph at 0x7f2844faf070>"
      ]
     },
     "execution_count": 37,
     "metadata": {},
     "output_type": "execute_result"
    }
   ],
   "source": [
    "with pm.Model() as pmodel:\n",
    "    pm.Normal(\"scalar (support)\")\n",
    "    pm.Normal(\"vector (implicit)\", mu=[1, 2, 3])\n",
    "    pm.Normal(\"vector (explicit)\", shape=(4,))\n",
    "\n",
    "pm.model_to_graphviz(pmodel)"
   ]
  },
  {
   "cell_type": "markdown",
   "metadata": {
    "pycharm": {
     "name": "#%% md\n"
    }
   },
   "source": [
    "## Dims"
   ]
  },
  {
   "cell_type": "markdown",
   "metadata": {},
   "source": [
    "PyMC supports the concept of `dims`. With many random variables it can become confusing which dimensionality corresponds to which \"real world\" idea, e.g. number of observations, number of treated units etc. The `dims` argument is an additional human-readable label that can convey this meaning."
   ]
  },
  {
   "cell_type": "code",
   "execution_count": 38,
   "metadata": {
    "pycharm": {
     "name": "#%%\n"
    }
   },
   "outputs": [
    {
     "data": {
      "image/svg+xml": [
       "<?xml version=\"1.0\" encoding=\"UTF-8\" standalone=\"no\"?>\n",
       "<!DOCTYPE svg PUBLIC \"-//W3C//DTD SVG 1.1//EN\"\n",
       " \"http://www.w3.org/Graphics/SVG/1.1/DTD/svg11.dtd\">\n",
       "<!-- Generated by graphviz version 2.43.0 (0)\n",
       " -->\n",
       "<!-- Title: %3 Pages: 1 -->\n",
       "<svg width=\"294pt\" height=\"252pt\"\n",
       " viewBox=\"0.00 0.00 294.00 251.91\" xmlns=\"http://www.w3.org/2000/svg\" xmlns:xlink=\"http://www.w3.org/1999/xlink\">\n",
       "<g id=\"graph0\" class=\"graph\" transform=\"scale(1 1) rotate(0) translate(4 247.91)\">\n",
       "<title>%3</title>\n",
       "<polygon fill=\"white\" stroke=\"transparent\" points=\"-4,4 -4,-247.91 290,-247.91 290,4 -4,4\"/>\n",
       "<g id=\"clust1\" class=\"cluster\">\n",
       "<title>clustercolors (2)</title>\n",
       "<path fill=\"none\" stroke=\"black\" d=\"M20,-121.95C20,-121.95 110,-121.95 110,-121.95 116,-121.95 122,-127.95 122,-133.95 122,-133.95 122,-223.91 122,-223.91 122,-229.91 116,-235.91 110,-235.91 110,-235.91 20,-235.91 20,-235.91 14,-235.91 8,-229.91 8,-223.91 8,-223.91 8,-133.95 8,-133.95 8,-127.95 14,-121.95 20,-121.95\"/>\n",
       "<text text-anchor=\"middle\" x=\"80.5\" y=\"-129.75\" font-family=\"Times,serif\" font-size=\"14.00\">colors (2)</text>\n",
       "</g>\n",
       "<g id=\"clust2\" class=\"cluster\">\n",
       "<title>clustergroup (4)</title>\n",
       "<path fill=\"none\" stroke=\"black\" d=\"M142,-8C142,-8 266,-8 266,-8 272,-8 278,-14 278,-20 278,-20 278,-223.91 278,-223.91 278,-229.91 272,-235.91 266,-235.91 266,-235.91 142,-235.91 142,-235.91 136,-235.91 130,-229.91 130,-223.91 130,-223.91 130,-20 130,-20 130,-14 136,-8 142,-8\"/>\n",
       "<text text-anchor=\"middle\" x=\"236.5\" y=\"-15.8\" font-family=\"Times,serif\" font-size=\"14.00\">group (4)</text>\n",
       "</g>\n",
       "<!-- crayon -->\n",
       "<g id=\"node1\" class=\"node\">\n",
       "<title>crayon</title>\n",
       "<ellipse fill=\"none\" stroke=\"black\" cx=\"65\" cy=\"-190.43\" rx=\"49.49\" ry=\"37.45\"/>\n",
       "<text text-anchor=\"middle\" x=\"65\" y=\"-201.73\" font-family=\"Times,serif\" font-size=\"14.00\">crayon</text>\n",
       "<text text-anchor=\"middle\" x=\"65\" y=\"-186.73\" font-family=\"Times,serif\" font-size=\"14.00\">~</text>\n",
       "<text text-anchor=\"middle\" x=\"65\" y=\"-171.73\" font-family=\"Times,serif\" font-size=\"14.00\">Normal</text>\n",
       "</g>\n",
       "<!-- prior -->\n",
       "<g id=\"node2\" class=\"node\">\n",
       "<title>prior</title>\n",
       "<ellipse fill=\"none\" stroke=\"black\" cx=\"204\" cy=\"-76.48\" rx=\"49.49\" ry=\"37.45\"/>\n",
       "<text text-anchor=\"middle\" x=\"204\" y=\"-87.78\" font-family=\"Times,serif\" font-size=\"14.00\">prior</text>\n",
       "<text text-anchor=\"middle\" x=\"204\" y=\"-72.78\" font-family=\"Times,serif\" font-size=\"14.00\">~</text>\n",
       "<text text-anchor=\"middle\" x=\"204\" y=\"-57.78\" font-family=\"Times,serif\" font-size=\"14.00\">Normal</text>\n",
       "</g>\n",
       "<!-- hyperprior -->\n",
       "<g id=\"node3\" class=\"node\">\n",
       "<title>hyperprior</title>\n",
       "<ellipse fill=\"none\" stroke=\"black\" cx=\"204\" cy=\"-190.43\" rx=\"65.52\" ry=\"37.45\"/>\n",
       "<text text-anchor=\"middle\" x=\"204\" y=\"-201.73\" font-family=\"Times,serif\" font-size=\"14.00\">hyperprior</text>\n",
       "<text text-anchor=\"middle\" x=\"204\" y=\"-186.73\" font-family=\"Times,serif\" font-size=\"14.00\">~</text>\n",
       "<text text-anchor=\"middle\" x=\"204\" y=\"-171.73\" font-family=\"Times,serif\" font-size=\"14.00\">Normal</text>\n",
       "</g>\n",
       "<!-- hyperprior&#45;&gt;prior -->\n",
       "<g id=\"edge1\" class=\"edge\">\n",
       "<title>hyperprior&#45;&gt;prior</title>\n",
       "<path fill=\"none\" stroke=\"black\" d=\"M204,-152.77C204,-143.69 204,-133.83 204,-124.33\"/>\n",
       "<polygon fill=\"black\" stroke=\"black\" points=\"207.5,-124.22 204,-114.22 200.5,-124.22 207.5,-124.22\"/>\n",
       "</g>\n",
       "</g>\n",
       "</svg>\n"
      ],
      "text/plain": [
       "<graphviz.graphs.Digraph at 0x7f2844fc03a0>"
      ]
     },
     "execution_count": 38,
     "metadata": {},
     "output_type": "execute_result"
    }
   ],
   "source": [
    "with pm.Model() as pmodel:\n",
    "    pm.Normal(\"crayon\", size=2, dims=\"colors\")\n",
    "\n",
    "    hyperprior = pm.Normal(\"hyperprior\", [1, 2, 3, 4], dims=\"group\")\n",
    "    pm.Normal(\"prior\", mu=hyperprior, dims=\"group\")\n",
    "\n",
    "\n",
    "pm.model_to_graphviz(pmodel)"
   ]
  },
  {
   "cell_type": "markdown",
   "metadata": {
    "pycharm": {
     "name": "#%% md\n"
    }
   },
   "source": [
    "Where `dims` can become increasingly powerful is with the use of `coords` specified in the model itself. This gives a unique label to each `dim` entry, rendering it much more meaningful."
   ]
  },
  {
   "cell_type": "code",
   "execution_count": 39,
   "metadata": {
    "pycharm": {
     "name": "#%%\n"
    }
   },
   "outputs": [
    {
     "data": {
      "image/svg+xml": [
       "<?xml version=\"1.0\" encoding=\"UTF-8\" standalone=\"no\"?>\n",
       "<!DOCTYPE svg PUBLIC \"-//W3C//DTD SVG 1.1//EN\"\n",
       " \"http://www.w3.org/Graphics/SVG/1.1/DTD/svg11.dtd\">\n",
       "<!-- Generated by graphviz version 2.43.0 (0)\n",
       " -->\n",
       "<!-- Title: %3 Pages: 1 -->\n",
       "<svg width=\"138pt\" height=\"138pt\"\n",
       " viewBox=\"0.00 0.00 138.00 137.95\" xmlns=\"http://www.w3.org/2000/svg\" xmlns:xlink=\"http://www.w3.org/1999/xlink\">\n",
       "<g id=\"graph0\" class=\"graph\" transform=\"scale(1 1) rotate(0) translate(4 133.95)\">\n",
       "<title>%3</title>\n",
       "<polygon fill=\"white\" stroke=\"transparent\" points=\"-4,4 -4,-133.95 134,-133.95 134,4 -4,4\"/>\n",
       "<g id=\"clust1\" class=\"cluster\">\n",
       "<title>clusteryear (3)</title>\n",
       "<path fill=\"none\" stroke=\"black\" d=\"M20,-8C20,-8 110,-8 110,-8 116,-8 122,-14 122,-20 122,-20 122,-109.95 122,-109.95 122,-115.95 116,-121.95 110,-121.95 110,-121.95 20,-121.95 20,-121.95 14,-121.95 8,-115.95 8,-109.95 8,-109.95 8,-20 8,-20 8,-14 14,-8 20,-8\"/>\n",
       "<text text-anchor=\"middle\" x=\"86\" y=\"-15.8\" font-family=\"Times,serif\" font-size=\"14.00\">year (3)</text>\n",
       "</g>\n",
       "<!-- profit -->\n",
       "<g id=\"node1\" class=\"node\">\n",
       "<title>profit</title>\n",
       "<ellipse fill=\"none\" stroke=\"black\" cx=\"65\" cy=\"-76.48\" rx=\"49.49\" ry=\"37.45\"/>\n",
       "<text text-anchor=\"middle\" x=\"65\" y=\"-87.78\" font-family=\"Times,serif\" font-size=\"14.00\">profit</text>\n",
       "<text text-anchor=\"middle\" x=\"65\" y=\"-72.78\" font-family=\"Times,serif\" font-size=\"14.00\">~</text>\n",
       "<text text-anchor=\"middle\" x=\"65\" y=\"-57.78\" font-family=\"Times,serif\" font-size=\"14.00\">Normal</text>\n",
       "</g>\n",
       "</g>\n",
       "</svg>\n"
      ],
      "text/plain": [
       "<graphviz.graphs.Digraph at 0x7f2844e15930>"
      ]
     },
     "execution_count": 39,
     "metadata": {},
     "output_type": "execute_result"
    }
   ],
   "source": [
    "with pm.Model(\n",
    "    coords={\n",
    "        \"year\": [2020, 2021, 2022],\n",
    "    }\n",
    ") as pmodel:\n",
    "\n",
    "    pm.Normal(\"profit\", dims=\"year\")\n",
    "\n",
    "pm.model_to_graphviz(pmodel)"
   ]
  },
  {
   "cell_type": "markdown",
   "metadata": {
    "pycharm": {
     "name": "#%% md\n"
    }
   },
   "source": [
    "Note that the dimensionality of the distribution was actually defined by the `dims` used. We did not pass shape or define implicit batched dimensions."
   ]
  },
  {
   "cell_type": "markdown",
   "metadata": {
    "pycharm": {
     "name": "#%% md\n"
    }
   },
   "source": [
    "Let us to review the different dimensionality flavours with a Multivariate Normal example."
   ]
  },
  {
   "cell_type": "code",
   "execution_count": 40,
   "metadata": {
    "pycharm": {
     "name": "#%%\n"
    }
   },
   "outputs": [
    {
     "data": {
      "image/svg+xml": [
       "<?xml version=\"1.0\" encoding=\"UTF-8\" standalone=\"no\"?>\n",
       "<!DOCTYPE svg PUBLIC \"-//W3C//DTD SVG 1.1//EN\"\n",
       " \"http://www.w3.org/Graphics/SVG/1.1/DTD/svg11.dtd\">\n",
       "<!-- Generated by graphviz version 2.43.0 (0)\n",
       " -->\n",
       "<!-- Title: %3 Pages: 1 -->\n",
       "<svg width=\"586pt\" height=\"138pt\"\n",
       " viewBox=\"0.00 0.00 586.00 137.95\" xmlns=\"http://www.w3.org/2000/svg\" xmlns:xlink=\"http://www.w3.org/1999/xlink\">\n",
       "<g id=\"graph0\" class=\"graph\" transform=\"scale(1 1) rotate(0) translate(4 133.95)\">\n",
       "<title>%3</title>\n",
       "<polygon fill=\"white\" stroke=\"transparent\" points=\"-4,4 -4,-133.95 582,-133.95 582,4 -4,4\"/>\n",
       "<g id=\"clust1\" class=\"cluster\">\n",
       "<title>clustersupport (3)</title>\n",
       "<path fill=\"none\" stroke=\"black\" d=\"M20,-8C20,-8 142,-8 142,-8 148,-8 154,-14 154,-20 154,-20 154,-109.95 154,-109.95 154,-115.95 148,-121.95 142,-121.95 142,-121.95 20,-121.95 20,-121.95 14,-121.95 8,-115.95 8,-109.95 8,-109.95 8,-20 8,-20 8,-14 14,-8 20,-8\"/>\n",
       "<text text-anchor=\"middle\" x=\"106\" y=\"-15.8\" font-family=\"Times,serif\" font-size=\"14.00\">support (3)</text>\n",
       "</g>\n",
       "<g id=\"clust2\" class=\"cluster\">\n",
       "<title>clusterbatch (4) x support (3)</title>\n",
       "<path fill=\"none\" stroke=\"black\" d=\"M174,-8C174,-8 558,-8 558,-8 564,-8 570,-14 570,-20 570,-20 570,-109.95 570,-109.95 570,-115.95 564,-121.95 558,-121.95 558,-121.95 174,-121.95 174,-121.95 168,-121.95 162,-115.95 162,-109.95 162,-109.95 162,-20 162,-20 162,-14 168,-8 174,-8\"/>\n",
       "<text text-anchor=\"middle\" x=\"481.5\" y=\"-15.8\" font-family=\"Times,serif\" font-size=\"14.00\">batch (4) x support (3)</text>\n",
       "</g>\n",
       "<!-- vector -->\n",
       "<g id=\"node1\" class=\"node\">\n",
       "<title>vector</title>\n",
       "<ellipse fill=\"none\" stroke=\"black\" cx=\"81\" cy=\"-76.48\" rx=\"65.11\" ry=\"37.45\"/>\n",
       "<text text-anchor=\"middle\" x=\"81\" y=\"-87.78\" font-family=\"Times,serif\" font-size=\"14.00\">vector</text>\n",
       "<text text-anchor=\"middle\" x=\"81\" y=\"-72.78\" font-family=\"Times,serif\" font-size=\"14.00\">~</text>\n",
       "<text text-anchor=\"middle\" x=\"81\" y=\"-57.78\" font-family=\"Times,serif\" font-size=\"14.00\">MvNormal</text>\n",
       "</g>\n",
       "<!-- matrix (explicit) -->\n",
       "<g id=\"node2\" class=\"node\">\n",
       "<title>matrix (explicit)</title>\n",
       "<ellipse fill=\"none\" stroke=\"black\" cx=\"469\" cy=\"-76.48\" rx=\"92.76\" ry=\"37.45\"/>\n",
       "<text text-anchor=\"middle\" x=\"469\" y=\"-87.78\" font-family=\"Times,serif\" font-size=\"14.00\">matrix (explicit)</text>\n",
       "<text text-anchor=\"middle\" x=\"469\" y=\"-72.78\" font-family=\"Times,serif\" font-size=\"14.00\">~</text>\n",
       "<text text-anchor=\"middle\" x=\"469\" y=\"-57.78\" font-family=\"Times,serif\" font-size=\"14.00\">MvNormal</text>\n",
       "</g>\n",
       "<!-- matrix (implicit) -->\n",
       "<g id=\"node3\" class=\"node\">\n",
       "<title>matrix (implicit)</title>\n",
       "<ellipse fill=\"none\" stroke=\"black\" cx=\"264\" cy=\"-76.48\" rx=\"94.09\" ry=\"37.45\"/>\n",
       "<text text-anchor=\"middle\" x=\"264\" y=\"-87.78\" font-family=\"Times,serif\" font-size=\"14.00\">matrix (implicit)</text>\n",
       "<text text-anchor=\"middle\" x=\"264\" y=\"-72.78\" font-family=\"Times,serif\" font-size=\"14.00\">~</text>\n",
       "<text text-anchor=\"middle\" x=\"264\" y=\"-57.78\" font-family=\"Times,serif\" font-size=\"14.00\">MvNormal</text>\n",
       "</g>\n",
       "</g>\n",
       "</svg>\n"
      ],
      "text/plain": [
       "<graphviz.graphs.Digraph at 0x7f28450d3790>"
      ]
     },
     "execution_count": 40,
     "metadata": {},
     "output_type": "execute_result"
    }
   ],
   "source": [
    "with pm.Model(\n",
    "    coords={\n",
    "        \"batch\": [0, 1, 2, 3],\n",
    "    }\n",
    ") as pmodel:\n",
    "    pm.MvNormal(\"vector\", mu=[0, 0, 0], cov=np.eye(3), dims=(\"support\",))\n",
    "    pm.MvNormal(\"matrix (implicit)\", mu=np.zeros((4, 3)), cov=np.eye(3), dims=(\"batch\", \"support\"))\n",
    "    pm.MvNormal(\n",
    "        \"matrix (explicit)\", mu=[0, 0, 0], cov=np.eye(3), shape=(4, 3), dims=(\"batch\", \"support\")\n",
    "    )\n",
    "\n",
    "pm.model_to_graphviz(pmodel)"
   ]
  },
  {
   "cell_type": "markdown",
   "metadata": {},
   "source": [
    ":::{tip} For final model publication we suggest dims and coords as the labels will be passed to {class}'arviz.InferenceData'. This is both best practice transparency and readability for others. It also is useful in single developer workflows, for example, in cases where there is a 3 dimensional or higher distribution it'll help indiciate which dimension corresponds to which model concept. :::"
   ]
  },
  {
   "cell_type": "markdown",
   "metadata": {
    "pycharm": {
     "name": "#%% md\n"
    }
   },
   "source": [
    "## User caution and practical tips"
   ]
  },
  {
   "cell_type": "markdown",
   "metadata": {
    "pycharm": {
     "name": "#%% md\n"
    }
   },
   "source": [
    "While we provide all these tools for convenience, and while PyMC does it best to understand user intent, the result of mixed dimensionality tools may not always result in the final dimensionality intended. Sometimes the model may not indicate an error until sampling, or not indicate an issue at all. When working with dimensionality, particular more complex ones we suggest:\n",
    "\n",
    "* Using `model_to_graphviz` to visualize your model before sampling\n",
    "* Using `draw` or `sample_prior predictive` to catch errors early\n",
    "* Inspecting the returned `az.InferenceData` object to ensure all array sizes are as intended\n",
    "* Defining shapes with prime numbers when tracking down errors."
   ]
  },
  {
   "cell_type": "code",
   "execution_count": null,
   "metadata": {
    "pycharm": {
     "name": "#%%\n"
    }
   },
   "outputs": [],
   "source": []
  }
 ],
 "metadata": {
  "hide_input": false,
  "interpreter": {
   "hash": "f574fac5b7e4a41f7640949d1e1759089329dd116ff7b389caa9cf21f93d872d"
  },
  "kernelspec": {
   "display_name": "pymc",
   "language": "python",
   "name": "pymc"
  },
  "language_info": {
   "codemirror_mode": {
    "name": "ipython",
    "version": 3
   },
   "file_extension": ".py",
   "mimetype": "text/x-python",
   "name": "python",
   "nbconvert_exporter": "python",
   "pygments_lexer": "ipython3",
   "version": "3.10.4"
  }
 },
 "nbformat": 4,
 "nbformat_minor": 4
}
