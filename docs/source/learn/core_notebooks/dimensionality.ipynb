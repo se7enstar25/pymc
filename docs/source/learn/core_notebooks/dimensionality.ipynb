{
 "cells": [
  {
   "cell_type": "markdown",
   "metadata": {
    "pycharm": {
     "name": "#%% md\n"
    }
   },
   "source": [
    "(dimensionality)=\n",
    "# Distribution Dimensionality\n",
    "PyMC provides a number of ways to specify the dimensionality of its distributions. In this document we provide an overview and current best practices.\n",
    "\n",
    "## Glossary\n",
    "In this document we'll be using the term dimensionality to refer to the idea of dimensions. Each of the terms below has a specific\n",
    "semantic and computational definition in PyMC.  While we share them here they will make much more sense when viewed in the examples below.\n",
    "\n",
    "+ *Support dimensions* → The core dimensionality of a distribution\n",
    "+ *Batched dimensions* → Extra dimensions beyond the support dimensionality of a distribution\n",
    "+ *Implicit dimensions* → Dimensions that follow from the values or shapes of the distribution parameters\n",
    "+ *Explicit dimensions* → Dimensions that are explicitly defined by one or more of the following arguments:\n",
    "    + *Shape* → Number of draws from a distribution\n",
    "    + *Size* → Number of batched dimensions\n",
    "    + *Dims* → An array of dimension names\n",
    "+ *Coords* → A dictionary mapping dimension names to coordinate values\n",
    "\n",
    "\n",
    "## General Recommendations\n",
    "### When prototyping implicit dimensions are convenient\n",
    "Implicit dimensions are easy to specify and great for quickly expanding an existing distribution.\n",
    "\n",
    "### For reusable code we suggest dims\n",
    "For any more important work, or reusable work we suggest dims and coords as the labels will be passed to {class}'arviz.InferenceData'. This is both best practice transparency and readability for others. It also is useful in single developer workflows, for example, in cases where there is a 3 dimensional or higher distribution it'll help indiciate which dimension corresponds to which model concept.\n",
    "\n",
    "### Use shape if you'd like to be explicit\n",
    "Use shape if you'd like to bypass any dimensionality calculations implicit in PyMC. This will strictly specify the dimensionality to Aesara\n",
    "\n",
    "### When debugging use unique prime numbers\n",
    "By using prime numbers it will be easier to determine where how input dimensionalities are being converted to output dimensionalities.\n",
    "Once confident with result then change the dimensionalities to match your data or modeling needs."
   ]
  },
  {
   "cell_type": "code",
   "execution_count": 1,
   "metadata": {
    "pycharm": {
     "name": "#%%\n"
    }
   },
   "outputs": [],
   "source": [
    "import pymc as pm\n",
    "import numpy as np"
   ]
  },
  {
   "cell_type": "markdown",
   "metadata": {
    "pycharm": {
     "name": "#%% md\n"
    }
   },
   "source": [
    "## Univariate distribution example\n",
    "We can start with the simplest case, a single Normal distribution. We specify one outside of a PyMC Model as shown below"
   ]
  },
  {
   "cell_type": "code",
   "execution_count": 2,
   "metadata": {
    "pycharm": {
     "name": "#%%\n"
    }
   },
   "outputs": [],
   "source": [
    "normal_dist = pm.Normal.dist()"
   ]
  },
  {
   "cell_type": "markdown",
   "metadata": {
    "pycharm": {
     "name": "#%% md\n"
    }
   },
   "source": [
    "We can then use the `pm.draw` to take a draw from that same distribution"
   ]
  },
  {
   "cell_type": "code",
   "execution_count": 3,
   "metadata": {
    "pycharm": {
     "name": "#%%\n"
    }
   },
   "outputs": [
    {
     "data": {
      "text/plain": [
       "(array(-0.20878582), ())"
      ]
     },
     "execution_count": 3,
     "metadata": {},
     "output_type": "execute_result"
    }
   ],
   "source": [
    "normal_draw = pm.draw(normal_dist)\n",
    "normal_draw, normal_draw.shape"
   ]
  },
  {
   "cell_type": "markdown",
   "metadata": {
    "pycharm": {
     "name": "#%% md\n"
    }
   },
   "source": [
    "In this case we end up with a single scalar value. This is consistent with the distributions support dimensionality, as the smallest random draw dimension is a scalar which has a dimension of zero. The support dimensionality of every distribution is hard_coded as a property."
   ]
  },
  {
   "cell_type": "code",
   "execution_count": 4,
   "metadata": {
    "pycharm": {
     "name": "#%%\n"
    }
   },
   "outputs": [
    {
     "data": {
      "text/plain": [
       "0"
      ]
     },
     "execution_count": 4,
     "metadata": {},
     "output_type": "execute_result"
    }
   ],
   "source": [
    "normal_dist.owner.op.ndim_supp"
   ]
  },
  {
   "cell_type": "markdown",
   "metadata": {
    "pycharm": {
     "name": "#%% md\n"
    }
   },
   "source": [
    "### Explicit batch dimensions"
   ]
  },
  {
   "cell_type": "markdown",
   "metadata": {
    "pycharm": {
     "name": "#%% md\n"
    }
   },
   "source": [
    "If one needs more than a single draw, a natural tendency would be to create multiple copies of the same variable and stack them together."
   ]
  },
  {
   "cell_type": "code",
   "execution_count": 5,
   "metadata": {
    "pycharm": {
     "name": "#%%\n"
    }
   },
   "outputs": [
    {
     "data": {
      "text/plain": [
       "array([ 0.18874909, -1.72487846, -0.74330671])"
      ]
     },
     "execution_count": 5,
     "metadata": {},
     "output_type": "execute_result"
    }
   ],
   "source": [
    "normal_dists = pm.math.stack([pm.Normal.dist() for _ in range(3)])\n",
    "pm.draw(normal_dists)"
   ]
  },
  {
   "cell_type": "markdown",
   "metadata": {
    "pycharm": {
     "name": "#%% md\n"
    }
   },
   "source": [
    "More simply, one can create a *batch* of independent draws from the same distribution family by using the shape or size arguments."
   ]
  },
  {
   "cell_type": "code",
   "execution_count": 6,
   "metadata": {
    "pycharm": {
     "name": "#%%\n"
    }
   },
   "outputs": [
    {
     "data": {
      "text/plain": [
       "array([ 0.45616511, -1.09265567,  1.22444712])"
      ]
     },
     "execution_count": 6,
     "metadata": {},
     "output_type": "execute_result"
    }
   ],
   "source": [
    "normal_dists = pm.Normal.dist(size=3)\n",
    "pm.draw(normal_dists)"
   ]
  },
  {
   "cell_type": "markdown",
   "metadata": {
    "pycharm": {
     "name": "#%% md\n"
    }
   },
   "source": [
    "For scalar distributions, shape and size are equivalent"
   ]
  },
  {
   "cell_type": "code",
   "execution_count": 7,
   "metadata": {
    "pycharm": {
     "name": "#%%\n"
    }
   },
   "outputs": [
    {
     "data": {
      "text/plain": [
       "array([-0.61335381,  0.76041448,  0.34246865])"
      ]
     },
     "execution_count": 7,
     "metadata": {},
     "output_type": "execute_result"
    }
   ],
   "source": [
    "normal_dists = pm.Normal.dist(shape=3)\n",
    "pm.draw(normal_dists)"
   ]
  },
  {
   "cell_type": "markdown",
   "metadata": {
    "pycharm": {
     "name": "#%% md\n"
    }
   },
   "source": [
    "Not only is this more succint, but it produces much more efficient vectorized code. We rarely use the first approach in PyMC."
   ]
  },
  {
   "cell_type": "markdown",
   "metadata": {
    "pycharm": {
     "name": "#%% md\n"
    }
   },
   "source": [
    "### Implicit batch dimensions"
   ]
  },
  {
   "cell_type": "markdown",
   "metadata": {
    "pycharm": {
     "name": "#%% md\n"
    }
   },
   "source": [
    "It is also possible to create a batch of draws by passing parameters with higher dimensions, without having to specify shape or size."
   ]
  },
  {
   "cell_type": "code",
   "execution_count": 8,
   "metadata": {
    "pycharm": {
     "name": "#%%\n"
    }
   },
   "outputs": [
    {
     "data": {
      "text/plain": [
       "array([-1.56573057,  0.17834018, -0.0534052 ])"
      ]
     },
     "execution_count": 8,
     "metadata": {},
     "output_type": "execute_result"
    }
   ],
   "source": [
    "normal_dists = pm.Normal.dist(mu=np.array([0, 0, 0]), sigma=np.array([1, 1, 1]))\n",
    "pm.draw(normal_dists)"
   ]
  },
  {
   "cell_type": "markdown",
   "metadata": {
    "pycharm": {
     "name": "#%% md\n"
    }
   },
   "source": [
    "This is equivalent to the previous example with explicit shape and size, and we could have passed one of those arguments explicitly here. Because we did not, we refer to these batched dimensions as being *implicit*.\n",
    "\n",
    "Where this becomes very useful is when we want the parameters to vary across batched dimensions."
   ]
  },
  {
   "cell_type": "code",
   "execution_count": 9,
   "metadata": {
    "pycharm": {
     "name": "#%%\n"
    }
   },
   "outputs": [
    {
     "data": {
      "text/plain": [
       "array([ 1.00005088, 10.00001614, 99.99992541])"
      ]
     },
     "execution_count": 9,
     "metadata": {},
     "output_type": "execute_result"
    }
   ],
   "source": [
    "pm.draw(pm.Normal.dist(mu=[1, 10, 100], sigma=0.0001))"
   ]
  },
  {
   "cell_type": "markdown",
   "metadata": {
    "pycharm": {
     "name": "#%% md\n"
    }
   },
   "source": [
    "When the parameters don't have the same shapes, they are broacasted, in a similar way to how NumPy works. In this case `sigma` was broadcasted to match the shape of `mu`."
   ]
  },
  {
   "cell_type": "code",
   "execution_count": 10,
   "metadata": {
    "pycharm": {
     "name": "#%%\n"
    }
   },
   "outputs": [
    {
     "data": {
      "text/plain": [
       "[array([  1,  10, 100]), array([0.0001, 0.0001, 0.0001])]"
      ]
     },
     "execution_count": 10,
     "metadata": {},
     "output_type": "execute_result"
    }
   ],
   "source": [
    "np.broadcast_arrays([1, 10, 100], 0.0001)"
   ]
  },
  {
   "cell_type": "markdown",
   "metadata": {
    "pycharm": {
     "name": "#%% md\n"
    }
   },
   "source": [
    "## Multivariate distribution example"
   ]
  },
  {
   "cell_type": "markdown",
   "metadata": {
    "pycharm": {
     "name": "#%% md\n"
    }
   },
   "source": [
    "Some distributions by definition return more than one value when evaluated. This may be a vector of values or a matrix or an arbitrary multidimensional tensor. An example is the Multivariate Normal, which always returns a vector (an array with one dimension)."
   ]
  },
  {
   "cell_type": "code",
   "execution_count": 11,
   "metadata": {
    "pycharm": {
     "name": "#%%\n"
    }
   },
   "outputs": [
    {
     "data": {
      "text/plain": [
       "(array([0.59439084, 0.20156665, 1.10092247]), (3,))"
      ]
     },
     "execution_count": 11,
     "metadata": {},
     "output_type": "execute_result"
    }
   ],
   "source": [
    "mvnormal_dist = pm.MvNormal.dist(mu=np.ones(3), cov=np.eye(3))\n",
    "mvnormal_draw = pm.draw(mvnormal_dist)\n",
    "mvnormal_draw, mvnormal_draw.shape"
   ]
  },
  {
   "cell_type": "markdown",
   "metadata": {
    "pycharm": {
     "name": "#%% md\n"
    }
   },
   "source": [
    "As with any distribution, the support dimensionality is specified as a fixed property"
   ]
  },
  {
   "cell_type": "code",
   "execution_count": 12,
   "metadata": {
    "pycharm": {
     "name": "#%%\n"
    }
   },
   "outputs": [
    {
     "data": {
      "text/plain": [
       "1"
      ]
     },
     "execution_count": 12,
     "metadata": {},
     "output_type": "execute_result"
    }
   ],
   "source": [
    "mvnormal_dist.owner.op.ndim_supp"
   ]
  },
  {
   "cell_type": "markdown",
   "metadata": {
    "pycharm": {
     "name": "#%% md\n"
    }
   },
   "source": [
    "Even if you specify a MvNormal with a single dimension, you get back a vector!"
   ]
  },
  {
   "cell_type": "code",
   "execution_count": 13,
   "metadata": {
    "pycharm": {
     "name": "#%%\n"
    }
   },
   "outputs": [
    {
     "data": {
      "text/plain": [
       "(array([1.46335572]), (1,))"
      ]
     },
     "execution_count": 13,
     "metadata": {},
     "output_type": "execute_result"
    }
   ],
   "source": [
    "smallest_mvnormal_dist = pm.MvNormal.dist(mu=[1], cov=[[1]])\n",
    "smallest_mvnormal_draw = pm.draw(smallest_mvnormal_dist)\n",
    "smallest_mvnormal_draw, smallest_mvnormal_draw.shape"
   ]
  },
  {
   "cell_type": "markdown",
   "metadata": {
    "pycharm": {
     "name": "#%% md\n"
    }
   },
   "source": [
    "### Implicit support dimensions"
   ]
  },
  {
   "cell_type": "markdown",
   "metadata": {
    "pycharm": {
     "name": "#%% md\n"
    }
   },
   "source": [
    "In the MvNormal examples we just saw, the support dimension was actually implicit. Nowhere did we specify we wanted a vector of 3 or 1 draws. This was inferred from the shape of `mu` and `cov`. As such, we refer to it as being an *implicit support dimension*. We could be explicit by using shape, **but not size**."
   ]
  },
  {
   "cell_type": "code",
   "execution_count": 14,
   "metadata": {
    "pycharm": {
     "name": "#%%\n"
    }
   },
   "outputs": [
    {
     "data": {
      "text/plain": [
       "array([3])"
      ]
     },
     "execution_count": 14,
     "metadata": {},
     "output_type": "execute_result"
    }
   ],
   "source": [
    "explicit_mvnormal = pm.MvNormal.dist(mu=np.ones(3), cov=np.eye(3), shape=(3,))\n",
    "explicit_mvnormal.shape.eval()"
   ]
  },
  {
   "cell_type": "code",
   "execution_count": 15,
   "metadata": {
    "pycharm": {
     "name": "#%%\n"
    }
   },
   "outputs": [
    {
     "data": {
      "text/plain": [
       "array([3, 3])"
      ]
     },
     "execution_count": 15,
     "metadata": {},
     "output_type": "execute_result"
    }
   ],
   "source": [
    "not_the_same = pm.MvNormal.dist(mu=np.ones(3), cov=np.eye(3), size=(3,))\n",
    "not_the_same.shape.eval()"
   ]
  },
  {
   "cell_type": "markdown",
   "metadata": {
    "pycharm": {
     "name": "#%% md\n"
    }
   },
   "source": [
    "Size refers to the number of independent batched distributions whereas shape refers to the total number of draws. This is a subtle but important distinction. It is perhaps more apparent when we talk about batched dimensions for multivariate distributions next."
   ]
  },
  {
   "cell_type": "markdown",
   "metadata": {
    "pycharm": {
     "name": "#%% md\n"
    }
   },
   "source": [
    "### Explicit batch dimensions"
   ]
  },
  {
   "cell_type": "markdown",
   "metadata": {
    "pycharm": {
     "name": "#%% md\n"
    }
   },
   "source": [
    "As with univariate distributions, we can add explicit batched dimensions. However, as we just mentioned size and shape now have different meanings. We will use another vector distribution to illustrate this: the Multinomial."
   ]
  },
  {
   "cell_type": "code",
   "execution_count": 16,
   "metadata": {
    "pycharm": {
     "name": "#%%\n"
    }
   },
   "outputs": [
    {
     "data": {
      "text/plain": [
       "array([[0, 2, 3],\n",
       "       [0, 3, 2],\n",
       "       [0, 2, 3],\n",
       "       [0, 3, 2],\n",
       "       [2, 3, 0]])"
      ]
     },
     "execution_count": 16,
     "metadata": {},
     "output_type": "execute_result"
    }
   ],
   "source": [
    "pm.draw(pm.Multinomial.dist(n=5, p=[0.1, 0.3, 0.6], shape=(5, 3)))"
   ]
  },
  {
   "cell_type": "code",
   "execution_count": 17,
   "metadata": {
    "pycharm": {
     "name": "#%%\n"
    }
   },
   "outputs": [
    {
     "data": {
      "text/plain": [
       "array([[0, 1, 4],\n",
       "       [1, 4, 0],\n",
       "       [0, 3, 2],\n",
       "       [2, 1, 2],\n",
       "       [1, 2, 2]])"
      ]
     },
     "execution_count": 17,
     "metadata": {},
     "output_type": "execute_result"
    }
   ],
   "source": [
    "pm.draw(pm.Multinomial.dist(n=5, p=[0.1, 0.3, 0.6], size=(5,)))"
   ]
  },
  {
   "cell_type": "markdown",
   "metadata": {
    "pycharm": {
     "name": "#%% md\n"
    }
   },
   "source": [
    "A size of five reflects the fact that we are sampling a matrix of from 5 independent Multinomial distributions. Each of these Multinomial distributions defines a vector of 3 values that are **not** independent of each other. In this case once we know the first two values of each vector we can infer the third one without ambiguity. Shape, in contrast, simply refers to the dimensions of all the draws combined."
   ]
  },
  {
   "cell_type": "markdown",
   "metadata": {
    "pycharm": {
     "name": "#%% md\n"
    }
   },
   "source": [
    "### Implicit batch dimensions"
   ]
  },
  {
   "cell_type": "markdown",
   "metadata": {
    "pycharm": {
     "name": "#%% md\n"
    }
   },
   "source": [
    "As with univariate distributions, we can use different parameters for each batched dimension"
   ]
  },
  {
   "cell_type": "code",
   "execution_count": 18,
   "metadata": {
    "pycharm": {
     "name": "#%%\n"
    }
   },
   "outputs": [
    {
     "data": {
      "text/plain": [
       "array([[0, 2, 3],\n",
       "       [1, 5, 4]])"
      ]
     },
     "execution_count": 18,
     "metadata": {},
     "output_type": "execute_result"
    }
   ],
   "source": [
    "multinomial_dist = pm.Multinomial.dist(n=[5, 10], p=[0.1, 0.3, 0.6])\n",
    "pm.draw(multinomial_dist)"
   ]
  },
  {
   "cell_type": "markdown",
   "metadata": {
    "pycharm": {
     "name": "#%% md\n"
    }
   },
   "source": [
    "Which is equivalent to the more verbose"
   ]
  },
  {
   "cell_type": "code",
   "execution_count": 19,
   "metadata": {
    "pycharm": {
     "name": "#%%\n"
    }
   },
   "outputs": [
    {
     "data": {
      "text/plain": [
       "array([[0, 2, 3],\n",
       "       [0, 3, 7]])"
      ]
     },
     "execution_count": 19,
     "metadata": {},
     "output_type": "execute_result"
    }
   ],
   "source": [
    "pm.draw(pm.Multinomial.dist(n=[5, 10], p=[[0.1, 0.3, 0.6], [0.1, 0.3, 0.6]]))"
   ]
  },
  {
   "cell_type": "markdown",
   "metadata": {
    "pycharm": {
     "name": "#%% md\n"
    }
   },
   "source": [
    "If you are familiar with NumPy broadcasting rules you may be curious of how does PyMC make this work. Naive broadcasting wouldn't work here"
   ]
  },
  {
   "cell_type": "code",
   "execution_count": 20,
   "metadata": {
    "pycharm": {
     "name": "#%%\n"
    }
   },
   "outputs": [
    {
     "name": "stdout",
     "output_type": "stream",
     "text": [
      "shape mismatch: objects cannot be broadcast to a single shape\n"
     ]
    }
   ],
   "source": [
    "try:\n",
    "    np.broadcast_arrays([5, 10], [0.1, 0.3, 0.6])\n",
    "except ValueError as exc:\n",
    "    print(exc)"
   ]
  },
  {
   "cell_type": "markdown",
   "metadata": {
    "pycharm": {
     "name": "#%% md\n"
    }
   },
   "source": [
    "Instead, PyMC takes into consideration the number of dimensions that each parameter has in the core case. In the Multinomial distribution, `n` is a scalar and `p` is a vector. So if we have a vector of two `n`, we should actually broadcast the vector of `p` into a `matrix` with two such vectors, and pair each `n` with each broadcasted row of `p`. This works exactly like `np.vectorize` would."
   ]
  },
  {
   "cell_type": "code",
   "execution_count": 21,
   "metadata": {
    "pycharm": {
     "name": "#%%\n"
    }
   },
   "outputs": [
    {
     "name": "stdout",
     "output_type": "stream",
     "text": [
      ">> 5 [0.1 0.3 0.6]\n",
      ">> 10 [0.1 0.3 0.6]\n"
     ]
    },
    {
     "data": {
      "text/plain": [
       "array([[2, 1, 2],\n",
       "       [0, 5, 5]])"
      ]
     },
     "execution_count": 21,
     "metadata": {},
     "output_type": "execute_result"
    }
   ],
   "source": [
    "def core_multinomial(n, p):\n",
    "    print(\">>\", n, p)\n",
    "    return pm.draw(pm.Multinomial.dist(n, p))\n",
    "\n",
    "\n",
    "vectorized_multinomial = np.vectorize(core_multinomial, signature=\"(),(p)->(p)\")\n",
    "vectorized_multinomial([5, 10], [0.1, 0.3, 0.6])"
   ]
  },
  {
   "cell_type": "markdown",
   "metadata": {
    "pycharm": {
     "name": "#%% md\n"
    }
   },
   "source": [
    "The core dimensionality of each distribution parameter is also hard-coded as a property of each distribution"
   ]
  },
  {
   "cell_type": "code",
   "execution_count": 22,
   "metadata": {
    "pycharm": {
     "name": "#%%\n"
    }
   },
   "outputs": [
    {
     "data": {
      "text/plain": [
       "(0, 1)"
      ]
     },
     "execution_count": 22,
     "metadata": {},
     "output_type": "execute_result"
    }
   ],
   "source": [
    "multinomial_dist.owner.op.ndims_params"
   ]
  },
  {
   "cell_type": "markdown",
   "metadata": {
    "pycharm": {
     "name": "#%% md\n"
    }
   },
   "source": [
    "### Combining implicit and explicit dimensions"
   ]
  },
  {
   "cell_type": "markdown",
   "metadata": {
    "pycharm": {
     "name": "#%% md\n"
    }
   },
   "source": [
    "You can and should combine implicit dimensions from multidimensional parameters with explicit size or shape information, which is easier to reason about."
   ]
  },
  {
   "cell_type": "code",
   "execution_count": 23,
   "metadata": {
    "pycharm": {
     "name": "#%%\n"
    }
   },
   "outputs": [
    {
     "data": {
      "text/plain": [
       "array([[1, 1, 3],\n",
       "       [1, 1, 8]])"
      ]
     },
     "execution_count": 23,
     "metadata": {},
     "output_type": "execute_result"
    }
   ],
   "source": [
    "pm.draw(pm.Multinomial.dist(n=[5, 10], p=[0.1, 0.3, 0.6], shape=(2, 3)))"
   ]
  },
  {
   "cell_type": "code",
   "execution_count": 24,
   "metadata": {
    "pycharm": {
     "name": "#%%\n"
    }
   },
   "outputs": [
    {
     "data": {
      "text/plain": [
       "array([[0, 2, 3],\n",
       "       [3, 4, 3]])"
      ]
     },
     "execution_count": 24,
     "metadata": {},
     "output_type": "execute_result"
    }
   ],
   "source": [
    "pm.draw(pm.Multinomial.dist(n=[5, 10], p=[0.1, 0.3, 0.6], size=(2,)))"
   ]
  },
  {
   "cell_type": "markdown",
   "metadata": {
    "pycharm": {
     "name": "#%% md\n"
    }
   },
   "source": [
    "## Inspecting dimensionality with a model graph\n",
    "More often that not distributions are used inside a PyMC model, and as such there are tools that facilitate reasoning about distributions shapes in that context.\n",
    "\n"
   ]
  },
  {
   "cell_type": "code",
   "execution_count": 25,
   "metadata": {
    "pycharm": {
     "name": "#%%\n"
    }
   },
   "outputs": [
    {
     "data": {
      "text/plain": [
       "{'x': (3,), 'sigma_log__': (), 'sigma': (), 'y': (3,)}"
      ]
     },
     "execution_count": 25,
     "metadata": {},
     "output_type": "execute_result"
    }
   ],
   "source": [
    "with pm.Model() as pmodel:\n",
    "    mu = pm.Normal(\"x\", mu=0, size=(3))\n",
    "    sigma = pm.HalfNormal(\"sigma\")\n",
    "    y = pm.Normal(\"y\", mu=mu, sigma=sigma)\n",
    "\n",
    "pmodel.eval_rv_shapes()"
   ]
  },
  {
   "cell_type": "markdown",
   "metadata": {
    "pycharm": {
     "name": "#%% md\n"
    }
   },
   "source": [
    "An even more powerful tool to understand and debug dimensionality in PyMC is the `pm.model_to_graphviz` functionality. Rather than inspecting array outputs we instead can read the Graphviz output to understand the dimensionality."
   ]
  },
  {
   "cell_type": "code",
   "execution_count": 26,
   "metadata": {
    "pycharm": {
     "name": "#%%\n"
    }
   },
   "outputs": [
    {
     "data": {
      "image/svg+xml": [
       "<?xml version=\"1.0\" encoding=\"UTF-8\" standalone=\"no\"?>\n",
       "<!DOCTYPE svg PUBLIC \"-//W3C//DTD SVG 1.1//EN\"\n",
       " \"http://www.w3.org/Graphics/SVG/1.1/DTD/svg11.dtd\">\n",
       "<!-- Generated by graphviz version 2.43.0 (0)\n",
       " -->\n",
       "<!-- Title: %3 Pages: 1 -->\n",
       "<svg width=\"282pt\" height=\"249pt\"\n",
       " viewBox=\"0.00 0.00 281.71 248.91\" xmlns=\"http://www.w3.org/2000/svg\" xmlns:xlink=\"http://www.w3.org/1999/xlink\">\n",
       "<g id=\"graph0\" class=\"graph\" transform=\"scale(1 1) rotate(0) translate(4 244.91)\">\n",
       "<title>%3</title>\n",
       "<polygon fill=\"white\" stroke=\"transparent\" points=\"-4,4 -4,-244.91 277.71,-244.91 277.71,4 -4,4\"/>\n",
       "<g id=\"clust1\" class=\"cluster\">\n",
       "<title>cluster3</title>\n",
       "<path fill=\"none\" stroke=\"black\" d=\"M20,-8C20,-8 110,-8 110,-8 116,-8 122,-14 122,-20 122,-20 122,-220.91 122,-220.91 122,-226.91 116,-232.91 110,-232.91 110,-232.91 20,-232.91 20,-232.91 14,-232.91 8,-226.91 8,-220.91 8,-220.91 8,-20 8,-20 8,-14 14,-8 20,-8\"/>\n",
       "<text text-anchor=\"middle\" x=\"109\" y=\"-15.8\" font-family=\"Times,serif\" font-size=\"14.00\">3</text>\n",
       "</g>\n",
       "<!-- x -->\n",
       "<g id=\"node1\" class=\"node\">\n",
       "<title>x</title>\n",
       "<ellipse fill=\"none\" stroke=\"black\" cx=\"65\" cy=\"-187.43\" rx=\"49.49\" ry=\"37.45\"/>\n",
       "<text text-anchor=\"middle\" x=\"65\" y=\"-198.73\" font-family=\"Times,serif\" font-size=\"14.00\">x</text>\n",
       "<text text-anchor=\"middle\" x=\"65\" y=\"-183.73\" font-family=\"Times,serif\" font-size=\"14.00\">~</text>\n",
       "<text text-anchor=\"middle\" x=\"65\" y=\"-168.73\" font-family=\"Times,serif\" font-size=\"14.00\">Normal</text>\n",
       "</g>\n",
       "<!-- y -->\n",
       "<g id=\"node2\" class=\"node\">\n",
       "<title>y</title>\n",
       "<ellipse fill=\"none\" stroke=\"black\" cx=\"65\" cy=\"-76.48\" rx=\"49.49\" ry=\"37.45\"/>\n",
       "<text text-anchor=\"middle\" x=\"65\" y=\"-87.78\" font-family=\"Times,serif\" font-size=\"14.00\">y</text>\n",
       "<text text-anchor=\"middle\" x=\"65\" y=\"-72.78\" font-family=\"Times,serif\" font-size=\"14.00\">~</text>\n",
       "<text text-anchor=\"middle\" x=\"65\" y=\"-57.78\" font-family=\"Times,serif\" font-size=\"14.00\">Normal</text>\n",
       "</g>\n",
       "<!-- x&#45;&gt;y -->\n",
       "<g id=\"edge1\" class=\"edge\">\n",
       "<title>x&#45;&gt;y</title>\n",
       "<path fill=\"none\" stroke=\"black\" d=\"M65,-149.85C65,-141.67 65,-132.89 65,-124.37\"/>\n",
       "<polygon fill=\"black\" stroke=\"black\" points=\"68.5,-124.15 65,-114.15 61.5,-124.15 68.5,-124.15\"/>\n",
       "</g>\n",
       "<!-- sigma -->\n",
       "<g id=\"node3\" class=\"node\">\n",
       "<title>sigma</title>\n",
       "<ellipse fill=\"none\" stroke=\"black\" cx=\"203\" cy=\"-187.43\" rx=\"70.92\" ry=\"37.45\"/>\n",
       "<text text-anchor=\"middle\" x=\"203\" y=\"-198.73\" font-family=\"Times,serif\" font-size=\"14.00\">sigma</text>\n",
       "<text text-anchor=\"middle\" x=\"203\" y=\"-183.73\" font-family=\"Times,serif\" font-size=\"14.00\">~</text>\n",
       "<text text-anchor=\"middle\" x=\"203\" y=\"-168.73\" font-family=\"Times,serif\" font-size=\"14.00\">HalfNormal</text>\n",
       "</g>\n",
       "<!-- sigma&#45;&gt;y -->\n",
       "<g id=\"edge2\" class=\"edge\">\n",
       "<title>sigma&#45;&gt;y</title>\n",
       "<path fill=\"none\" stroke=\"black\" d=\"M164.19,-155.79C146.36,-141.71 125.17,-124.98 106.96,-110.61\"/>\n",
       "<polygon fill=\"black\" stroke=\"black\" points=\"108.85,-107.63 98.83,-104.19 104.51,-113.13 108.85,-107.63\"/>\n",
       "</g>\n",
       "</g>\n",
       "</svg>\n"
      ],
      "text/plain": [
       "<graphviz.dot.Digraph at 0x7fb2cf2c7370>"
      ]
     },
     "execution_count": 26,
     "metadata": {},
     "output_type": "execute_result"
    }
   ],
   "source": [
    "pm.model_to_graphviz(pmodel)"
   ]
  },
  {
   "cell_type": "markdown",
   "metadata": {
    "pycharm": {
     "name": "#%% md\n"
    }
   },
   "source": [
    "In the example above the number on the bottom left of each box (or plate) indicates the dimensionality of the distributions within. If a distribution is outside of any box with a number, it has a scalar shape.\n",
    "\n",
    "Let's use this tool to review implicit and explicit dimensions:"
   ]
  },
  {
   "cell_type": "code",
   "execution_count": 27,
   "metadata": {
    "pycharm": {
     "name": "#%%\n"
    }
   },
   "outputs": [
    {
     "data": {
      "image/svg+xml": [
       "<?xml version=\"1.0\" encoding=\"UTF-8\" standalone=\"no\"?>\n",
       "<!DOCTYPE svg PUBLIC \"-//W3C//DTD SVG 1.1//EN\"\n",
       " \"http://www.w3.org/Graphics/SVG/1.1/DTD/svg11.dtd\">\n",
       "<!-- Generated by graphviz version 2.43.0 (0)\n",
       " -->\n",
       "<!-- Title: %3 Pages: 1 -->\n",
       "<svg width=\"690pt\" height=\"138pt\"\n",
       " viewBox=\"0.00 0.00 690.50 137.95\" xmlns=\"http://www.w3.org/2000/svg\" xmlns:xlink=\"http://www.w3.org/1999/xlink\">\n",
       "<g id=\"graph0\" class=\"graph\" transform=\"scale(1 1) rotate(0) translate(4 133.95)\">\n",
       "<title>%3</title>\n",
       "<polygon fill=\"white\" stroke=\"transparent\" points=\"-4,4 -4,-133.95 686.5,-133.95 686.5,4 -4,4\"/>\n",
       "<g id=\"clust1\" class=\"cluster\">\n",
       "<title>cluster3</title>\n",
       "<path fill=\"none\" stroke=\"black\" d=\"M120.5,-8C120.5,-8 298.5,-8 298.5,-8 304.5,-8 310.5,-14 310.5,-20 310.5,-20 310.5,-109.95 310.5,-109.95 310.5,-115.95 304.5,-121.95 298.5,-121.95 298.5,-121.95 120.5,-121.95 120.5,-121.95 114.5,-121.95 108.5,-115.95 108.5,-109.95 108.5,-109.95 108.5,-20 108.5,-20 108.5,-14 114.5,-8 120.5,-8\"/>\n",
       "<text text-anchor=\"middle\" x=\"297.5\" y=\"-15.8\" font-family=\"Times,serif\" font-size=\"14.00\">3</text>\n",
       "</g>\n",
       "<g id=\"clust2\" class=\"cluster\">\n",
       "<title>cluster4</title>\n",
       "<path fill=\"none\" stroke=\"black\" d=\"M330.5,-8C330.5,-8 490.5,-8 490.5,-8 496.5,-8 502.5,-14 502.5,-20 502.5,-20 502.5,-109.95 502.5,-109.95 502.5,-115.95 496.5,-121.95 490.5,-121.95 490.5,-121.95 330.5,-121.95 330.5,-121.95 324.5,-121.95 318.5,-115.95 318.5,-109.95 318.5,-109.95 318.5,-20 318.5,-20 318.5,-14 324.5,-8 330.5,-8\"/>\n",
       "<text text-anchor=\"middle\" x=\"489.5\" y=\"-15.8\" font-family=\"Times,serif\" font-size=\"14.00\">4</text>\n",
       "</g>\n",
       "<g id=\"clust3\" class=\"cluster\">\n",
       "<title>cluster5</title>\n",
       "<path fill=\"none\" stroke=\"black\" d=\"M522.5,-8C522.5,-8 662.5,-8 662.5,-8 668.5,-8 674.5,-14 674.5,-20 674.5,-20 674.5,-109.95 674.5,-109.95 674.5,-115.95 668.5,-121.95 662.5,-121.95 662.5,-121.95 522.5,-121.95 522.5,-121.95 516.5,-121.95 510.5,-115.95 510.5,-109.95 510.5,-109.95 510.5,-20 510.5,-20 510.5,-14 516.5,-8 522.5,-8\"/>\n",
       "<text text-anchor=\"middle\" x=\"661.5\" y=\"-15.8\" font-family=\"Times,serif\" font-size=\"14.00\">5</text>\n",
       "</g>\n",
       "<!-- scalar -->\n",
       "<g id=\"node1\" class=\"node\">\n",
       "<title>scalar</title>\n",
       "<ellipse fill=\"none\" stroke=\"black\" cx=\"49.5\" cy=\"-76.48\" rx=\"49.49\" ry=\"37.45\"/>\n",
       "<text text-anchor=\"middle\" x=\"49.5\" y=\"-87.78\" font-family=\"Times,serif\" font-size=\"14.00\">scalar</text>\n",
       "<text text-anchor=\"middle\" x=\"49.5\" y=\"-72.78\" font-family=\"Times,serif\" font-size=\"14.00\">~</text>\n",
       "<text text-anchor=\"middle\" x=\"49.5\" y=\"-57.78\" font-family=\"Times,serif\" font-size=\"14.00\">Normal</text>\n",
       "</g>\n",
       "<!-- vector (implicit) -->\n",
       "<g id=\"node2\" class=\"node\">\n",
       "<title>vector (implicit)</title>\n",
       "<ellipse fill=\"none\" stroke=\"black\" cx=\"209.5\" cy=\"-76.48\" rx=\"92.76\" ry=\"37.45\"/>\n",
       "<text text-anchor=\"middle\" x=\"209.5\" y=\"-87.78\" font-family=\"Times,serif\" font-size=\"14.00\">vector (implicit)</text>\n",
       "<text text-anchor=\"middle\" x=\"209.5\" y=\"-72.78\" font-family=\"Times,serif\" font-size=\"14.00\">~</text>\n",
       "<text text-anchor=\"middle\" x=\"209.5\" y=\"-57.78\" font-family=\"Times,serif\" font-size=\"14.00\">Normal</text>\n",
       "</g>\n",
       "<!-- vector (shape) -->\n",
       "<g id=\"node3\" class=\"node\">\n",
       "<title>vector (shape)</title>\n",
       "<ellipse fill=\"none\" stroke=\"black\" cx=\"410.5\" cy=\"-76.48\" rx=\"84.29\" ry=\"37.45\"/>\n",
       "<text text-anchor=\"middle\" x=\"410.5\" y=\"-87.78\" font-family=\"Times,serif\" font-size=\"14.00\">vector (shape)</text>\n",
       "<text text-anchor=\"middle\" x=\"410.5\" y=\"-72.78\" font-family=\"Times,serif\" font-size=\"14.00\">~</text>\n",
       "<text text-anchor=\"middle\" x=\"410.5\" y=\"-57.78\" font-family=\"Times,serif\" font-size=\"14.00\">Normal</text>\n",
       "</g>\n",
       "<!-- vector (size) -->\n",
       "<g id=\"node4\" class=\"node\">\n",
       "<title>vector (size)</title>\n",
       "<ellipse fill=\"none\" stroke=\"black\" cx=\"592.5\" cy=\"-76.48\" rx=\"73.58\" ry=\"37.45\"/>\n",
       "<text text-anchor=\"middle\" x=\"592.5\" y=\"-87.78\" font-family=\"Times,serif\" font-size=\"14.00\">vector (size)</text>\n",
       "<text text-anchor=\"middle\" x=\"592.5\" y=\"-72.78\" font-family=\"Times,serif\" font-size=\"14.00\">~</text>\n",
       "<text text-anchor=\"middle\" x=\"592.5\" y=\"-57.78\" font-family=\"Times,serif\" font-size=\"14.00\">Normal</text>\n",
       "</g>\n",
       "</g>\n",
       "</svg>\n"
      ],
      "text/plain": [
       "<graphviz.dot.Digraph at 0x7fb2cf287040>"
      ]
     },
     "execution_count": 27,
     "metadata": {},
     "output_type": "execute_result"
    }
   ],
   "source": [
    "with pm.Model() as pmodel:\n",
    "    pm.Normal(\"scalar\")  # shape=()\n",
    "    pm.Normal(\"vector (implicit)\", mu=[1, 2, 3])\n",
    "    pm.Normal(\"vector (shape)\", shape=(4,))\n",
    "    pm.Normal(\"vector (size)\", size=(5,))\n",
    "\n",
    "pm.model_to_graphviz(pmodel)"
   ]
  },
  {
   "cell_type": "markdown",
   "metadata": {
    "pycharm": {
     "name": "#%% md\n"
    }
   },
   "source": [
    "## Dims\n",
    "A new feature of PyMC is `dims` support. With many random variables it can become confusing which dimensionality corresponds to which \"real world\" idea, e.g. number of observations, number of treated units etc. The dims argument is an additional label to help."
   ]
  },
  {
   "cell_type": "code",
   "execution_count": 28,
   "metadata": {
    "pycharm": {
     "name": "#%%\n"
    }
   },
   "outputs": [
    {
     "data": {
      "image/svg+xml": [
       "<?xml version=\"1.0\" encoding=\"UTF-8\" standalone=\"no\"?>\n",
       "<!DOCTYPE svg PUBLIC \"-//W3C//DTD SVG 1.1//EN\"\n",
       " \"http://www.w3.org/Graphics/SVG/1.1/DTD/svg11.dtd\">\n",
       "<!-- Generated by graphviz version 2.43.0 (0)\n",
       " -->\n",
       "<!-- Title: %3 Pages: 1 -->\n",
       "<svg width=\"294pt\" height=\"252pt\"\n",
       " viewBox=\"0.00 0.00 294.00 251.91\" xmlns=\"http://www.w3.org/2000/svg\" xmlns:xlink=\"http://www.w3.org/1999/xlink\">\n",
       "<g id=\"graph0\" class=\"graph\" transform=\"scale(1 1) rotate(0) translate(4 247.91)\">\n",
       "<title>%3</title>\n",
       "<polygon fill=\"white\" stroke=\"transparent\" points=\"-4,4 -4,-247.91 290,-247.91 290,4 -4,4\"/>\n",
       "<g id=\"clust1\" class=\"cluster\">\n",
       "<title>clustercolors (2)</title>\n",
       "<path fill=\"none\" stroke=\"black\" d=\"M20,-121.95C20,-121.95 110,-121.95 110,-121.95 116,-121.95 122,-127.95 122,-133.95 122,-133.95 122,-223.91 122,-223.91 122,-229.91 116,-235.91 110,-235.91 110,-235.91 20,-235.91 20,-235.91 14,-235.91 8,-229.91 8,-223.91 8,-223.91 8,-133.95 8,-133.95 8,-127.95 14,-121.95 20,-121.95\"/>\n",
       "<text text-anchor=\"middle\" x=\"80.5\" y=\"-129.75\" font-family=\"Times,serif\" font-size=\"14.00\">colors (2)</text>\n",
       "</g>\n",
       "<g id=\"clust2\" class=\"cluster\">\n",
       "<title>clustergroup (4)</title>\n",
       "<path fill=\"none\" stroke=\"black\" d=\"M142,-8C142,-8 266,-8 266,-8 272,-8 278,-14 278,-20 278,-20 278,-223.91 278,-223.91 278,-229.91 272,-235.91 266,-235.91 266,-235.91 142,-235.91 142,-235.91 136,-235.91 130,-229.91 130,-223.91 130,-223.91 130,-20 130,-20 130,-14 136,-8 142,-8\"/>\n",
       "<text text-anchor=\"middle\" x=\"236.5\" y=\"-15.8\" font-family=\"Times,serif\" font-size=\"14.00\">group (4)</text>\n",
       "</g>\n",
       "<!-- crayon -->\n",
       "<g id=\"node1\" class=\"node\">\n",
       "<title>crayon</title>\n",
       "<ellipse fill=\"none\" stroke=\"black\" cx=\"65\" cy=\"-190.43\" rx=\"49.49\" ry=\"37.45\"/>\n",
       "<text text-anchor=\"middle\" x=\"65\" y=\"-201.73\" font-family=\"Times,serif\" font-size=\"14.00\">crayon</text>\n",
       "<text text-anchor=\"middle\" x=\"65\" y=\"-186.73\" font-family=\"Times,serif\" font-size=\"14.00\">~</text>\n",
       "<text text-anchor=\"middle\" x=\"65\" y=\"-171.73\" font-family=\"Times,serif\" font-size=\"14.00\">Normal</text>\n",
       "</g>\n",
       "<!-- hyperprior -->\n",
       "<g id=\"node2\" class=\"node\">\n",
       "<title>hyperprior</title>\n",
       "<ellipse fill=\"none\" stroke=\"black\" cx=\"204\" cy=\"-190.43\" rx=\"65.52\" ry=\"37.45\"/>\n",
       "<text text-anchor=\"middle\" x=\"204\" y=\"-201.73\" font-family=\"Times,serif\" font-size=\"14.00\">hyperprior</text>\n",
       "<text text-anchor=\"middle\" x=\"204\" y=\"-186.73\" font-family=\"Times,serif\" font-size=\"14.00\">~</text>\n",
       "<text text-anchor=\"middle\" x=\"204\" y=\"-171.73\" font-family=\"Times,serif\" font-size=\"14.00\">Normal</text>\n",
       "</g>\n",
       "<!-- prior -->\n",
       "<g id=\"node3\" class=\"node\">\n",
       "<title>prior</title>\n",
       "<ellipse fill=\"none\" stroke=\"black\" cx=\"204\" cy=\"-76.48\" rx=\"49.49\" ry=\"37.45\"/>\n",
       "<text text-anchor=\"middle\" x=\"204\" y=\"-87.78\" font-family=\"Times,serif\" font-size=\"14.00\">prior</text>\n",
       "<text text-anchor=\"middle\" x=\"204\" y=\"-72.78\" font-family=\"Times,serif\" font-size=\"14.00\">~</text>\n",
       "<text text-anchor=\"middle\" x=\"204\" y=\"-57.78\" font-family=\"Times,serif\" font-size=\"14.00\">Normal</text>\n",
       "</g>\n",
       "<!-- hyperprior&#45;&gt;prior -->\n",
       "<g id=\"edge1\" class=\"edge\">\n",
       "<title>hyperprior&#45;&gt;prior</title>\n",
       "<path fill=\"none\" stroke=\"black\" d=\"M204,-152.77C204,-143.69 204,-133.83 204,-124.33\"/>\n",
       "<polygon fill=\"black\" stroke=\"black\" points=\"207.5,-124.22 204,-114.22 200.5,-124.22 207.5,-124.22\"/>\n",
       "</g>\n",
       "</g>\n",
       "</svg>\n"
      ],
      "text/plain": [
       "<graphviz.dot.Digraph at 0x7fb2cf4d4c70>"
      ]
     },
     "execution_count": 28,
     "metadata": {},
     "output_type": "execute_result"
    }
   ],
   "source": [
    "with pm.Model() as pmodel:\n",
    "    pm.Normal(\"crayon\", size=2, dims=\"colors\")\n",
    "\n",
    "    pm.Normal(\"hyperprior\", [1, 2, 3, 4], dims=\"group\")\n",
    "    pm.Normal(\"prior\", dims=\"group\")\n",
    "\n",
    "\n",
    "pm.model_to_graphviz(pmodel)"
   ]
  },
  {
   "cell_type": "markdown",
   "metadata": {
    "pycharm": {
     "name": "#%% md\n"
    }
   },
   "source": [
    "Where dims can become increasingly powerful is with the use of `coords` specified in the model itself. With this it becomes easy to track. As an added bonus the coords and dims will also be present in the returned {class}'arviz.InferenceData' simplifying the entire workflow."
   ]
  },
  {
   "cell_type": "code",
   "execution_count": 29,
   "metadata": {
    "pycharm": {
     "name": "#%%\n"
    }
   },
   "outputs": [
    {
     "data": {
      "image/svg+xml": [
       "<?xml version=\"1.0\" encoding=\"UTF-8\" standalone=\"no\"?>\n",
       "<!DOCTYPE svg PUBLIC \"-//W3C//DTD SVG 1.1//EN\"\n",
       " \"http://www.w3.org/Graphics/SVG/1.1/DTD/svg11.dtd\">\n",
       "<!-- Generated by graphviz version 2.43.0 (0)\n",
       " -->\n",
       "<!-- Title: %3 Pages: 1 -->\n",
       "<svg width=\"138pt\" height=\"138pt\"\n",
       " viewBox=\"0.00 0.00 138.00 137.95\" xmlns=\"http://www.w3.org/2000/svg\" xmlns:xlink=\"http://www.w3.org/1999/xlink\">\n",
       "<g id=\"graph0\" class=\"graph\" transform=\"scale(1 1) rotate(0) translate(4 133.95)\">\n",
       "<title>%3</title>\n",
       "<polygon fill=\"white\" stroke=\"transparent\" points=\"-4,4 -4,-133.95 134,-133.95 134,4 -4,4\"/>\n",
       "<g id=\"clust1\" class=\"cluster\">\n",
       "<title>clusteryear (3)</title>\n",
       "<path fill=\"none\" stroke=\"black\" d=\"M20,-8C20,-8 110,-8 110,-8 116,-8 122,-14 122,-20 122,-20 122,-109.95 122,-109.95 122,-115.95 116,-121.95 110,-121.95 110,-121.95 20,-121.95 20,-121.95 14,-121.95 8,-115.95 8,-109.95 8,-109.95 8,-20 8,-20 8,-14 14,-8 20,-8\"/>\n",
       "<text text-anchor=\"middle\" x=\"86\" y=\"-15.8\" font-family=\"Times,serif\" font-size=\"14.00\">year (3)</text>\n",
       "</g>\n",
       "<!-- profit -->\n",
       "<g id=\"node1\" class=\"node\">\n",
       "<title>profit</title>\n",
       "<ellipse fill=\"none\" stroke=\"black\" cx=\"65\" cy=\"-76.48\" rx=\"49.49\" ry=\"37.45\"/>\n",
       "<text text-anchor=\"middle\" x=\"65\" y=\"-87.78\" font-family=\"Times,serif\" font-size=\"14.00\">profit</text>\n",
       "<text text-anchor=\"middle\" x=\"65\" y=\"-72.78\" font-family=\"Times,serif\" font-size=\"14.00\">~</text>\n",
       "<text text-anchor=\"middle\" x=\"65\" y=\"-57.78\" font-family=\"Times,serif\" font-size=\"14.00\">Normal</text>\n",
       "</g>\n",
       "</g>\n",
       "</svg>\n"
      ],
      "text/plain": [
       "<graphviz.dot.Digraph at 0x7fb2cf5c93a0>"
      ]
     },
     "execution_count": 29,
     "metadata": {},
     "output_type": "execute_result"
    }
   ],
   "source": [
    "with pm.Model(\n",
    "    coords={\n",
    "        \"year\": [2020, 2021, 2022],\n",
    "    }\n",
    ") as pmodel:\n",
    "\n",
    "    pm.Normal(\"profit\", dims=\"year\")\n",
    "\n",
    "pm.model_to_graphviz(pmodel)"
   ]
  },
  {
   "cell_type": "markdown",
   "metadata": {
    "pycharm": {
     "name": "#%% md\n"
    }
   },
   "source": [
    "Note that the dimensionality of the distribution was actually defined by the `dims` used. We did not pass shape or size!"
   ]
  },
  {
   "cell_type": "markdown",
   "metadata": {
    "pycharm": {
     "name": "#%% md\n"
    }
   },
   "source": [
    "We can use all our dimensionality tools to help us reason about Multivariate distributions as well."
   ]
  },
  {
   "cell_type": "code",
   "execution_count": 30,
   "metadata": {
    "pycharm": {
     "name": "#%%\n"
    }
   },
   "outputs": [
    {
     "data": {
      "image/svg+xml": [
       "<?xml version=\"1.0\" encoding=\"UTF-8\" standalone=\"no\"?>\n",
       "<!DOCTYPE svg PUBLIC \"-//W3C//DTD SVG 1.1//EN\"\n",
       " \"http://www.w3.org/Graphics/SVG/1.1/DTD/svg11.dtd\">\n",
       "<!-- Generated by graphviz version 2.43.0 (0)\n",
       " -->\n",
       "<!-- Title: %3 Pages: 1 -->\n",
       "<svg width=\"874pt\" height=\"138pt\"\n",
       " viewBox=\"0.00 0.00 874.00 137.95\" xmlns=\"http://www.w3.org/2000/svg\" xmlns:xlink=\"http://www.w3.org/1999/xlink\">\n",
       "<g id=\"graph0\" class=\"graph\" transform=\"scale(1 1) rotate(0) translate(4 133.95)\">\n",
       "<title>%3</title>\n",
       "<polygon fill=\"white\" stroke=\"transparent\" points=\"-4,4 -4,-133.95 870,-133.95 870,4 -4,4\"/>\n",
       "<g id=\"clust1\" class=\"cluster\">\n",
       "<title>clustersupport (3)</title>\n",
       "<path fill=\"none\" stroke=\"black\" d=\"M20,-8C20,-8 290,-8 290,-8 296,-8 302,-14 302,-20 302,-20 302,-109.95 302,-109.95 302,-115.95 296,-121.95 290,-121.95 290,-121.95 20,-121.95 20,-121.95 14,-121.95 8,-115.95 8,-109.95 8,-109.95 8,-20 8,-20 8,-14 14,-8 20,-8\"/>\n",
       "<text text-anchor=\"middle\" x=\"254\" y=\"-15.8\" font-family=\"Times,serif\" font-size=\"14.00\">support (3)</text>\n",
       "</g>\n",
       "<g id=\"clust2\" class=\"cluster\">\n",
       "<title>clusterbatch (4) x support (3)</title>\n",
       "<path fill=\"none\" stroke=\"black\" d=\"M322,-8C322,-8 846,-8 846,-8 852,-8 858,-14 858,-20 858,-20 858,-109.95 858,-109.95 858,-115.95 852,-121.95 846,-121.95 846,-121.95 322,-121.95 322,-121.95 316,-121.95 310,-115.95 310,-109.95 310,-109.95 310,-20 310,-20 310,-14 316,-8 322,-8\"/>\n",
       "<text text-anchor=\"middle\" x=\"769.5\" y=\"-15.8\" font-family=\"Times,serif\" font-size=\"14.00\">batch (4) x support (3)</text>\n",
       "</g>\n",
       "<!-- implicit -->\n",
       "<g id=\"node1\" class=\"node\">\n",
       "<title>implicit</title>\n",
       "<ellipse fill=\"none\" stroke=\"black\" cx=\"229\" cy=\"-76.48\" rx=\"65.11\" ry=\"37.45\"/>\n",
       "<text text-anchor=\"middle\" x=\"229\" y=\"-87.78\" font-family=\"Times,serif\" font-size=\"14.00\">implicit</text>\n",
       "<text text-anchor=\"middle\" x=\"229\" y=\"-72.78\" font-family=\"Times,serif\" font-size=\"14.00\">~</text>\n",
       "<text text-anchor=\"middle\" x=\"229\" y=\"-57.78\" font-family=\"Times,serif\" font-size=\"14.00\">MvNormal</text>\n",
       "</g>\n",
       "<!-- explicit -->\n",
       "<g id=\"node2\" class=\"node\">\n",
       "<title>explicit</title>\n",
       "<ellipse fill=\"none\" stroke=\"black\" cx=\"81\" cy=\"-76.48\" rx=\"65.11\" ry=\"37.45\"/>\n",
       "<text text-anchor=\"middle\" x=\"81\" y=\"-87.78\" font-family=\"Times,serif\" font-size=\"14.00\">explicit</text>\n",
       "<text text-anchor=\"middle\" x=\"81\" y=\"-72.78\" font-family=\"Times,serif\" font-size=\"14.00\">~</text>\n",
       "<text text-anchor=\"middle\" x=\"81\" y=\"-57.78\" font-family=\"Times,serif\" font-size=\"14.00\">MvNormal</text>\n",
       "</g>\n",
       "<!-- batched size -->\n",
       "<g id=\"node3\" class=\"node\">\n",
       "<title>batched size</title>\n",
       "<ellipse fill=\"none\" stroke=\"black\" cx=\"775\" cy=\"-76.48\" rx=\"74.91\" ry=\"37.45\"/>\n",
       "<text text-anchor=\"middle\" x=\"775\" y=\"-87.78\" font-family=\"Times,serif\" font-size=\"14.00\">batched size</text>\n",
       "<text text-anchor=\"middle\" x=\"775\" y=\"-72.78\" font-family=\"Times,serif\" font-size=\"14.00\">~</text>\n",
       "<text text-anchor=\"middle\" x=\"775\" y=\"-57.78\" font-family=\"Times,serif\" font-size=\"14.00\">MvNormal</text>\n",
       "</g>\n",
       "<!-- batched coords -->\n",
       "<g id=\"node4\" class=\"node\">\n",
       "<title>batched coords</title>\n",
       "<ellipse fill=\"none\" stroke=\"black\" cx=\"594\" cy=\"-76.48\" rx=\"88.28\" ry=\"37.45\"/>\n",
       "<text text-anchor=\"middle\" x=\"594\" y=\"-87.78\" font-family=\"Times,serif\" font-size=\"14.00\">batched coords</text>\n",
       "<text text-anchor=\"middle\" x=\"594\" y=\"-72.78\" font-family=\"Times,serif\" font-size=\"14.00\">~</text>\n",
       "<text text-anchor=\"middle\" x=\"594\" y=\"-57.78\" font-family=\"Times,serif\" font-size=\"14.00\">MvNormal</text>\n",
       "</g>\n",
       "<!-- batched shape -->\n",
       "<g id=\"node5\" class=\"node\">\n",
       "<title>batched shape</title>\n",
       "<ellipse fill=\"none\" stroke=\"black\" cx=\"403\" cy=\"-76.48\" rx=\"84.71\" ry=\"37.45\"/>\n",
       "<text text-anchor=\"middle\" x=\"403\" y=\"-87.78\" font-family=\"Times,serif\" font-size=\"14.00\">batched shape</text>\n",
       "<text text-anchor=\"middle\" x=\"403\" y=\"-72.78\" font-family=\"Times,serif\" font-size=\"14.00\">~</text>\n",
       "<text text-anchor=\"middle\" x=\"403\" y=\"-57.78\" font-family=\"Times,serif\" font-size=\"14.00\">MvNormal</text>\n",
       "</g>\n",
       "</g>\n",
       "</svg>\n"
      ],
      "text/plain": [
       "<graphviz.dot.Digraph at 0x7fb2cf2ca6d0>"
      ]
     },
     "execution_count": 30,
     "metadata": {},
     "output_type": "execute_result"
    }
   ],
   "source": [
    "with pm.Model(\n",
    "    coords={\n",
    "        \"batch\": [2019, 2020, 2021, 2022],\n",
    "    }\n",
    ") as pmodel:\n",
    "    pm.MvNormal(\"implicit\", mu=[0, 0, 0], cov=np.eye(3), dims=(\"support\",))\n",
    "    pm.MvNormal(\"explicit\", mu=[0, 0, 0], cov=np.eye(3), shape=(3,), dims=(\"support\",))\n",
    "\n",
    "    pm.MvNormal(\"batched size\", mu=[0, 0, 0], cov=np.eye(3), size=4, dims=(\"batch\", \"support\"))\n",
    "    pm.MvNormal(\n",
    "        \"batched shape\", mu=[0, 0, 0], cov=np.eye(3), shape=(4, 3), dims=(\"batch\", \"support\")\n",
    "    )\n",
    "    pm.MvNormal(\"batched coords\", mu=[0, 0, 0], cov=np.eye(3), dims=(\"batch\", \"support\"))\n",
    "\n",
    "pm.model_to_graphviz(pmodel)"
   ]
  },
  {
   "cell_type": "markdown",
   "metadata": {
    "pycharm": {
     "name": "#%% md\n"
    }
   },
   "source": [
    "## Ellipsis"
   ]
  },
  {
   "cell_type": "code",
   "execution_count": 31,
   "metadata": {
    "pycharm": {
     "name": "#%%\n"
    }
   },
   "outputs": [],
   "source": [
    "# TODO"
   ]
  },
  {
   "cell_type": "markdown",
   "metadata": {
    "pycharm": {
     "name": "#%% md\n"
    }
   },
   "source": [
    "## User caution and practical tips"
   ]
  },
  {
   "cell_type": "markdown",
   "metadata": {
    "pycharm": {
     "name": "#%% md\n"
    }
   },
   "source": [
    "While we provide all these tools for convenience, and while PyMC does it best to understand user intent, the result of mixed dimensionality tools may not always result in the final dimensionality intended. Sometimes the model may not indicate an error until sampling, or not indicate an issue at all. When working with dimensionality, particular more complex ones we suggest\n",
    "\n",
    "* Using GraphViz to visualize your model before sampling\n",
    "* Using `pm.draw` or `pm.sample_prior predictive` to catch errors early\n",
    "* Inspecting the returned `az.InferenceData` object to ensure all array sizes are as intended"
   ]
  },
  {
   "cell_type": "code",
   "execution_count": null,
   "metadata": {
    "pycharm": {
     "name": "#%%\n"
    }
   },
   "outputs": [],
   "source": []
  }
 ],
 "metadata": {
  "hide_input": false,
  "interpreter": {
   "hash": "f574fac5b7e4a41f7640949d1e1759089329dd116ff7b389caa9cf21f93d872d"
  },
  "kernelspec": {
   "display_name": "Python 3",
   "language": "python",
   "name": "python3"
  },
  "language_info": {
   "codemirror_mode": {
    "name": "ipython",
    "version": 3
   },
   "file_extension": ".py",
   "mimetype": "text/x-python",
   "name": "python",
   "nbconvert_exporter": "python",
   "pygments_lexer": "ipython3",
   "version": "3.8.10"
  }
 },
 "nbformat": 4,
 "nbformat_minor": 4
}
