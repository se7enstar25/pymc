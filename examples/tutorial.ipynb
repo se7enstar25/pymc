{
 "metadata": {
  "name": "tutorial"
 },
 "nbformat": 3,
 "nbformat_minor": 0,
 "worksheets": [
  {
   "cells": [
    {
     "cell_type": "code",
     "collapsed": false,
     "input": [
      "from matplotlib.pylab import *\n",
      "from pymc import *\n",
      "import numpy as np \n",
      "from numpy.random import normal, beta"
     ],
     "language": "python",
     "metadata": {},
     "outputs": [],
     "prompt_number": 1
    },
    {
     "cell_type": "markdown",
     "metadata": {},
     "source": [
      "Model\n",
      "-----\n",
      "Consider the following true generative model:\n",
      "    \n",
      "$$ x_{true} \\sim \\textrm{Normal}(2,1) $$\n",
      "$$ y_{true} \\sim \\textrm{Normal}(\\textrm{exp}(x_{true}),1)$$\n",
      "$$ z_{data} \\sim \\textrm{Normal}(x_{true} + y_{true},0.75)$$\n",
      "\n",
      "Where $x_{true}$ is a scalar, $y_{true}$ is a vector of length 2, and $z_{data}$ is a $2\\times 20$ matrix.\n",
      "\n",
      "We can simulate this using Numpy:"
     ]
    },
    {
     "cell_type": "code",
     "collapsed": false,
     "input": [
      "ndims = 2\n",
      "nobs = 20\n",
      "\n",
      "xtrue = normal(scale = 2., size = 1)\n",
      "ytrue = normal(loc = np.exp(xtrue), scale = 1, size = (ndims,1))\n",
      "zdata = normal(loc = xtrue + ytrue, scale = .75, size = (ndims, nobs))"
     ],
     "language": "python",
     "metadata": {},
     "outputs": [],
     "prompt_number": 2
    },
    {
     "cell_type": "markdown",
     "metadata": {},
     "source": [
      "`zdata` is observed but `xtrue` and `ytrue` are not. Thus x and y are unknown, and we want to come up with posterior distributions for them. "
     ]
    },
    {
     "cell_type": "markdown",
     "metadata": {},
     "source": [
      "Build Model\n",
      "-----------\n",
      "\n",
      "Now we want to do inference assuming the following model:\n",
      "\n",
      "$$ x \\sim \\textrm{Normal}(0,1) $$\n",
      "$$ y \\sim \\textrm{Normal}(\\textrm{exp}(x),2)$$\n",
      "$$ z \\sim \\textrm{Normal}(x + y,0.75)$$\n",
      "\n",
      "The aim here is to get posteriors over $x$ and $y$ given the data we have about $z$ (`zdata`).\n",
      "\n",
      "We create a new `Model` objects, and do operations within its context. The `with` lets PyMC know this model is the current model of interest. \n",
      "\n",
      "We construct new random variables with the constructor for its prior distribution such as `Normal` while within a model context (inside the `with`). When you make a random variable it is automatically added to the model. The constructor returns a Theano variable.\n",
      "\n",
      "Using the constructor may specify the name of the random variable, the parameters of a random variable's prior distribution, as well as the shape of the random variable. We can specify that a random variable is observed by specifying the data that was observed."
     ]
    },
    {
     "cell_type": "code",
     "collapsed": false,
     "input": [
      "with Model() as model:\n",
      "    x = Normal('x', mu = 0., tau = 1)\n",
      "    y = Normal('y', mu = exp(x), tau = 2.**-2, shape = (ndims,1)) # here, shape is telling us it's a vector rather than a scalar.\n",
      "    z = Normal('z', mu = x + y, tau = .75**-2, observed = zdata) # shape is inferred from zdata"
     ],
     "language": "python",
     "metadata": {},
     "outputs": [],
     "prompt_number": 3
    },
    {
     "cell_type": "markdown",
     "metadata": {},
     "source": [
      "A parenthetical note on the parameters for the normal. Variance is encoded as `tau`, indicating precision, which is simply inverse variance (so $\\tau=\\sigma^{-2}$ ). This is used because the gamma function is the conjugate prior for precision, and must be inverted to get variance. Encoding in terms of precision saves the inversion step in cases where variance is actually modeled using gamma as a prior."
     ]
    },
    {
     "cell_type": "markdown",
     "metadata": {},
     "source": [
      "Fit Model\n",
      "---------\n",
      "We need a starting point for our sampling. The `find_MAP` function finds the maximum a posteriori point (MAP), which is often a good choice for starting point. `find_MAP` uses an optimization algorithm (`scipy.optimize.fmin_l_bfgs_b`, or [BFGS](http://en.wikipedia.org/wiki/BFGS_method), by default) to find the local maximum of the log posterior.\n",
      "\n",
      "Note that this `with` construction is used again. Functions like `find_MAP` and `HamiltonianMC` need to have a model in their context. `with` activates the context of a particular model within its block."
     ]
    },
    {
     "cell_type": "code",
     "collapsed": false,
     "input": [
      "with model:\n",
      "    start = find_MAP()"
     ],
     "language": "python",
     "metadata": {},
     "outputs": [],
     "prompt_number": 4
    },
    {
     "cell_type": "markdown",
     "metadata": {},
     "source": [
      "Points in parameter space are represented by dictionaries with parameter names as they keys and the value of the parameters as the values."
     ]
    },
    {
     "cell_type": "code",
     "collapsed": false,
     "input": [
      "print \"MAP found:\"\n",
      "print \"x:\", start['x']\n",
      "print \"y:\", start['y']\n",
      "\n",
      "print \"Compare with true values:\"\n",
      "print \"ytrue\", ytrue\n",
      "print \"xtrue\", xtrue"
     ],
     "language": "python",
     "metadata": {},
     "outputs": [
      {
       "output_type": "stream",
       "stream": "stdout",
       "text": [
        "MAP found:\n",
        "x: 1.57452749435\n",
        "y: [[ 4.60323167]\n",
        " [ 6.13426454]]\n",
        "Compare with true values:\n",
        "ytrue [[ 4.6654834 ]\n",
        " [ 6.38962596]]\n",
        "xtrue [ 1.45770572]\n"
       ]
      }
     ],
     "prompt_number": 22
    },
    {
     "cell_type": "markdown",
     "metadata": {},
     "source": [
      "We will use Hamiltonian Monte Carlo (HMC) to sample from the posterior as implemented by the `HamiltonianMC` step method class. \n",
      "\n",
      "HMC requires an (inverse) covariance matrix to scale its proposal points. So first we pick one. It is helpful if it approximates the true (inverse) covariance matrix of the posterior. For distributions which are somewhat normal-like, the hessian matrix (matrix of 2nd derivatives of the log posterior) close to the MAP will approximate the inverse covariance matrix of the posterior.\n",
      "\n",
      "The `approx_hess(start)` function works similarly to the find_MAP function and returns the hessian at a given point."
     ]
    },
    {
     "cell_type": "code",
     "collapsed": false,
     "input": [
      "with model:\n",
      "    h = approx_hess(start)"
     ],
     "language": "python",
     "metadata": {},
     "outputs": [],
     "prompt_number": 6
    },
    {
     "cell_type": "markdown",
     "metadata": {},
     "source": [
      "Now we build our step method. The `HamiltonianMC` constructor takes a set of variables it should update and a scaling matrix."
     ]
    },
    {
     "cell_type": "code",
     "collapsed": false,
     "input": [
      "with model:\n",
      "    step = HamiltonianMC(model.vars, h)"
     ],
     "language": "python",
     "metadata": {},
     "outputs": [],
     "prompt_number": 7
    },
    {
     "cell_type": "markdown",
     "metadata": {},
     "source": [
      "The `sample` function takes a number of steps to sample, a step method, a starting point. It returns a trace object which contains our samples."
     ]
    },
    {
     "cell_type": "code",
     "collapsed": false,
     "input": [
      "with model: \n",
      "    trace = sample(3000, step, start)"
     ],
     "language": "python",
     "metadata": {},
     "outputs": [
      {
       "output_type": "stream",
       "stream": "stdout",
       "text": [
        "\r",
        " [-                 4%                  ] 146 of 3000 complete in 0.5 sec"
       ]
      },
      {
       "output_type": "stream",
       "stream": "stdout",
       "text": [
        "\r",
        " [---               9%                  ] 296 of 3000 complete in 1.0 sec"
       ]
      },
      {
       "output_type": "stream",
       "stream": "stdout",
       "text": [
        "\r",
        " [-----            15%                  ] 450 of 3000 complete in 1.5 sec"
       ]
      },
      {
       "output_type": "stream",
       "stream": "stdout",
       "text": [
        "\r",
        " [-------          20%                  ] 600 of 3000 complete in 2.0 sec"
       ]
      },
      {
       "output_type": "stream",
       "stream": "stdout",
       "text": [
        "\r",
        " [---------        24%                  ] 742 of 3000 complete in 2.5 sec"
       ]
      },
      {
       "output_type": "stream",
       "stream": "stdout",
       "text": [
        "\r",
        " [-----------      29%                  ] 888 of 3000 complete in 3.0 sec"
       ]
      },
      {
       "output_type": "stream",
       "stream": "stdout",
       "text": [
        "\r",
        " [-------------    34%                  ] 1033 of 3000 complete in 3.5 sec"
       ]
      },
      {
       "output_type": "stream",
       "stream": "stdout",
       "text": [
        "\r",
        " [--------------   39%                  ] 1175 of 3000 complete in 4.0 sec"
       ]
      },
      {
       "output_type": "stream",
       "stream": "stdout",
       "text": [
        "\r",
        " [---------------- 43%                  ] 1311 of 3000 complete in 4.5 sec"
       ]
      },
      {
       "output_type": "stream",
       "stream": "stdout",
       "text": [
        "\r",
        " [-----------------48%                  ] 1453 of 3000 complete in 5.0 sec"
       ]
      },
      {
       "output_type": "stream",
       "stream": "stdout",
       "text": [
        "\r",
        " [-----------------52%                  ] 1581 of 3000 complete in 5.5 sec"
       ]
      },
      {
       "output_type": "stream",
       "stream": "stdout",
       "text": [
        "\r",
        " [-----------------57%-                 ] 1727 of 3000 complete in 6.0 sec"
       ]
      },
      {
       "output_type": "stream",
       "stream": "stdout",
       "text": [
        "\r",
        " [-----------------62%---               ] 1877 of 3000 complete in 6.5 sec"
       ]
      },
      {
       "output_type": "stream",
       "stream": "stdout",
       "text": [
        "\r",
        " [-----------------67%-----             ] 2029 of 3000 complete in 7.0 sec"
       ]
      },
      {
       "output_type": "stream",
       "stream": "stdout",
       "text": [
        "\r",
        " [-----------------72%-------           ] 2182 of 3000 complete in 7.5 sec"
       ]
      },
      {
       "output_type": "stream",
       "stream": "stdout",
       "text": [
        "\r",
        " [-----------------77%---------         ] 2334 of 3000 complete in 8.0 sec"
       ]
      },
      {
       "output_type": "stream",
       "stream": "stdout",
       "text": [
        "\r",
        " [-----------------82%-----------       ] 2487 of 3000 complete in 8.5 sec"
       ]
      },
      {
       "output_type": "stream",
       "stream": "stdout",
       "text": [
        "\r",
        " [-----------------87%-------------     ] 2639 of 3000 complete in 9.0 sec"
       ]
      },
      {
       "output_type": "stream",
       "stream": "stdout",
       "text": [
        "\r",
        " [-----------------92%---------------   ] 2787 of 3000 complete in 9.5 sec"
       ]
      },
      {
       "output_type": "stream",
       "stream": "stdout",
       "text": [
        "\r",
        " [-----------------96%----------------  ] 2897 of 3000 complete in 10.0 sec"
       ]
      },
      {
       "output_type": "stream",
       "stream": "stdout",
       "text": [
        "\r",
        " [-----------------100%-----------------] 3001 of 3000 complete in 10.4 sec"
       ]
      }
     ],
     "prompt_number": 8
    },
    {
     "cell_type": "markdown",
     "metadata": {},
     "source": [
      "To use more than one sampler, pass a list of step methods to `sample`. \n",
      "\n",
      "The trace object can be indexed by the variables in the model, returning an array with the first index being the sample index\n",
      "and the other indexes the shape of the parameter. Thus for this example:"
     ]
    },
    {
     "cell_type": "code",
     "collapsed": false,
     "input": [
      "trace[y].shape == (3000, 2,1)"
     ],
     "language": "python",
     "metadata": {},
     "outputs": [
      {
       "output_type": "pyout",
       "prompt_number": 15,
       "text": [
        "True"
       ]
      }
     ],
     "prompt_number": 15
    },
    {
     "cell_type": "markdown",
     "metadata": {},
     "source": [
      "`traceplot` is a summary plotting function for a trace."
     ]
    },
    {
     "cell_type": "code",
     "collapsed": false,
     "input": [
      "traceplot(trace);"
     ],
     "language": "python",
     "metadata": {},
     "outputs": [
      {
       "output_type": "display_data",
       "png": "[encoded data removed]"
      }
     ],
     "prompt_number": 14
    },
    {
     "cell_type": "markdown",
     "metadata": {},
     "source": [
      "## PyMC Internals\n",
      "\n",
      "### Model \n",
      "\n",
      "The `Model` class has very simple internals: just a list of unobserved variables (`Model.vars`) and a list of factors which go into computing the posterior density (`Model.factors`) (see model.py for more).\n",
      "\n",
      "A Python \"`with model:`\" block has `model` as the current model. Many functions, like `find_MAP` and `sample`, must be in such a block to work correctly by default. They look in the current context for a model to use. You may also explicitly specify the model for them to use. This allows us to treat the current model as an implicit parameter to these functions. \n",
      "\n",
      "### Distribution Classes\n",
      "\n",
      "`Normal` and other distributions are actually `Distribution` subclasses. The constructors have different behavior depending on whether they are called with a name argument or not (string argument in 1st slot). This allows PyMC to have intuitive model specification syntax and still distinguish between random variables and distributions.\n",
      "\n",
      "When a `Distribution` constructor is called:\n",
      "\n",
      "* Without a name argument, it simply constructs a distribution object and returns it. It won't construct a random variable. This object has properties like `logp` (density function) and `expectation`.\n",
      "* With a name argument, it constructs a random variable using the distrubtion object as the prior distribution and inserts this random variable into the current model. Then the constructor returns the random variable. \n"
     ]
    },
    {
     "cell_type": "code",
     "collapsed": false,
     "input": [
      "help(model)"
     ],
     "language": "python",
     "metadata": {},
     "outputs": [
      {
       "output_type": "stream",
       "stream": "stdout",
       "text": [
        "Help on Model in module pymc.model object:\n",
        "\n",
        "class Model(Context)\n",
        " |  Base class for encapsulation of the variables and \n",
        " |  likelihood factors of a model.\n",
        " |  \n",
        " |  Method resolution order:\n",
        " |      Model\n",
        " |      Context\n",
        " |      __builtin__.object\n",
        " |  \n",
        " |  Methods defined here:\n",
        " |  \n",
        " |  AddPotential(model, potential)\n",
        " |  \n",
        " |  Data(model, data, dist)\n",
        " |  \n",
        " |  TransformedVar(model, name, dist, trans)\n",
        " |  \n",
        " |  Var(model, name, dist)\n",
        " |  \n",
        " |  __init__(self)\n",
        " |  \n",
        " |  d2logpc(model, vars=None)\n",
        " |      Compiled log probability density hessian function\n",
        " |  \n",
        " |  dlogpc(model, vars=None)\n",
        " |      Compiled log probability density gradient function\n",
        " |  \n",
        " |  ----------------------------------------------------------------------\n",
        " |  Data descriptors defined here:\n",
        " |  \n",
        " |  cont_vars\n",
        " |      All the continuous variables in the model\n",
        " |  \n",
        " |  logp\n",
        " |      log-probability of the model\n",
        " |          \n",
        " |      Parameters\n",
        " |      ----------\n",
        " |          \n",
        " |      model : Model  \n",
        " |      \n",
        " |      Returns\n",
        " |      -------\n",
        " |      \n",
        " |      logp : Theano scalar\n",
        " |  \n",
        " |  logpc\n",
        " |      Compiled log probability density function\n",
        " |  \n",
        " |  test_point\n",
        " |      Test point used to check that the model doesn't generate errors\n",
        " |  \n",
        " |  ----------------------------------------------------------------------\n",
        " |  Data and other attributes defined here:\n",
        " |  \n",
        " |  contexts = []\n",
        " |  \n",
        " |  ----------------------------------------------------------------------\n",
        " |  Methods inherited from Context:\n",
        " |  \n",
        " |  __enter__(self)\n",
        " |  \n",
        " |  __exit__(self, typ, value, traceback)\n",
        " |  \n",
        " |  ----------------------------------------------------------------------\n",
        " |  Class methods inherited from Context:\n",
        " |  \n",
        " |  get_context(cls) from __builtin__.type\n",
        " |  \n",
        " |  get_contexts(cls) from __builtin__.type\n",
        " |  \n",
        " |  ----------------------------------------------------------------------\n",
        " |  Data descriptors inherited from Context:\n",
        " |  \n",
        " |  __dict__\n",
        " |      dictionary for instance variables (if defined)\n",
        " |  \n",
        " |  __weakref__\n",
        " |      list of weak references to the object (if defined)\n",
        "\n"
       ]
      }
     ],
     "prompt_number": 23
    },
    {
     "cell_type": "code",
     "collapsed": false,
     "input": [],
     "language": "python",
     "metadata": {},
     "outputs": []
    }
   ],
   "metadata": {}
  }
 ]
}