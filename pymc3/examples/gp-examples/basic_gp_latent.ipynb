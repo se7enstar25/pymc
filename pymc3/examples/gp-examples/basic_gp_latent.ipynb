{
 "cells": [
  {
   "cell_type": "markdown",
   "metadata": {},
   "source": [
    "# Basic GP, Latent, Normal likelihood"
   ]
  },
  {
   "cell_type": "code",
   "execution_count": 24,
   "metadata": {
    "ExecuteTime": {
     "end_time": "2016-12-02T12:57:59.998058",
     "start_time": "2016-12-02T12:57:59.128998"
    },
    "collapsed": false
   },
   "outputs": [
    {
     "name": "stderr",
     "output_type": "stream",
     "text": [
      "/usr/local/lib/python2.7/dist-packages/ipykernel/__main__.py:23: RuntimeWarning: covariance is not positive-semidefinite.\n"
     ]
    }
   ],
   "source": [
    "%matplotlib inline\n",
    "import numpy as np\n",
    "import theano\n",
    "import theano.tensor as tt\n",
    "import sys\n",
    "sys.path.insert(0, \"../../..\")\n",
    "import pymc3 as pm\n",
    "np.random.seed(505)\n",
    "\n",
    "# define gp, true parameter values\n",
    "with pm.Model() as model:\n",
    "    l = 0.15\n",
    "    tau = 2.0 \n",
    "    cov = tau * pm.gp.cov.RBF(1, l)\n",
    "\n",
    "n = 30 \n",
    "X = np.sort(np.random.rand(n))[:,None]\n",
    "K = theano.function([], cov.K(X, X))()\n",
    "\n",
    "# generate fake data from GP with white noise (with variance sigma2)\n",
    "sigma2 = 0.1 \n",
    "y = np.random.multivariate_normal(np.zeros(n), K + sigma2 * np.eye(n))\n",
    "f_init = np.random.multivariate_normal(np.zeros(n), K)"
   ]
  },
  {
   "cell_type": "code",
   "execution_count": 25,
   "metadata": {
    "ExecuteTime": {
     "end_time": "2016-12-02T12:58:00.377493",
     "start_time": "2016-12-02T12:58:00.050886"
    },
    "collapsed": false
   },
   "outputs": [
    {
     "data": {
      "text/plain": [
       "[<matplotlib.lines.Line2D at 0x7f2b7ef4eb50>]"
      ]
     },
     "execution_count": 25,
     "metadata": {},
     "output_type": "execute_result"
    },
    {
     "data": {
      "image/png": "[encoded data removed]",
      "text/plain": [
       "<matplotlib.figure.Figure at 0x7f2b7f1345d0>"
      ]
     },
     "metadata": {},
     "output_type": "display_data"
    }
   ],
   "source": [
    "plt.plot(X, y, 'o')"
   ]
  },
  {
   "cell_type": "code",
   "execution_count": 26,
   "metadata": {
    "ExecuteTime": {
     "end_time": "2016-12-02T12:58:04.716363",
     "start_time": "2016-12-02T12:58:04.370331"
    },
    "collapsed": false
   },
   "outputs": [],
   "source": [
    "# infer gp parameter values\n",
    "with pm.Model() as model:\n",
    "    l = pm.HalfCauchy('l', 5, testval=0.15)\n",
    "    sigma2 = pm.HalfCauchy('sigma2', 5, testval=0.1)\n",
    "    tau = pm.HalfCauchy('tau', 5, testval=2)\n",
    "\n",
    "    f_cov = tau * pm.gp.cov.RBF(1, l)\n",
    "    f = pm.gp.GP('f', mu=0.0, cov=f_cov.K(X,X) + 1e-5 * tt.eye(n), shape=n, testval=f_init)\n",
    "   \n",
    "    n_cov = sigma2 * tt.eye(n)\n",
    "    y_obs = pm.gp.GP('y_obs', mu=f, cov=n_cov, observed=y)"
   ]
  },
  {
   "cell_type": "code",
   "execution_count": null,
   "metadata": {
    "ExecuteTime": {
     "start_time": "2016-12-02T20:58:05.346Z"
    },
    "collapsed": false
   },
   "outputs": [
    {
     "name": "stderr",
     "output_type": "stream",
     "text": [
      " 44%|████▎     | 87/200 [01:01<01:22,  1.36it/s]"
     ]
    }
   ],
   "source": [
    "with model:\n",
    "    step1 = pm.HamiltonianMC(f, step_scale=0.002, path_length=1, scaling=np.ones(n))\n",
    "    step2 = pm.Slice([l, sigma2, tau])\n",
    "    trace = pm.sample(200, init='map', step=[step1, step2])"
   ]
  },
  {
   "cell_type": "code",
   "execution_count": null,
   "metadata": {
    "ExecuteTime": {
     "start_time": "2016-12-02T20:58:06.237Z"
    },
    "collapsed": false
   },
   "outputs": [],
   "source": [
    "plt.plot(X.flatten(), trace[\"f\"].T, \"midnightblue\", alpha=0.1);\n",
    "plt.plot(X,y, 'ko', mec=\"white\")"
   ]
  },
  {
   "cell_type": "code",
   "execution_count": null,
   "metadata": {
    "ExecuteTime": {
     "start_time": "2016-12-02T20:58:07.332Z"
    },
    "collapsed": false
   },
   "outputs": [],
   "source": [
    "pm.traceplot(trace, varnames=['l', 'tau', 'sigma2']);"
   ]
  },
  {
   "cell_type": "code",
   "execution_count": null,
   "metadata": {
    "collapsed": true
   },
   "outputs": [],
   "source": []
  }
 ],
 "metadata": {
  "kernelspec": {
   "display_name": "Python 2",
   "language": "python",
   "name": "python2"
  },
  "language_info": {
   "codemirror_mode": {
    "name": "ipython",
    "version": 2
   },
   "file_extension": ".py",
   "mimetype": "text/x-python",
   "name": "python",
   "nbconvert_exporter": "python",
   "pygments_lexer": "ipython2",
   "version": "2.7.12"
  }
 },
 "nbformat": 4,
 "nbformat_minor": 1
}
