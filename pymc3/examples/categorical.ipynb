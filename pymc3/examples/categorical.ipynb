{
 "cells": [
  {
   "cell_type": "code",
   "execution_count": 1,
   "metadata": {
    "collapsed": false
   },
   "outputs": [
    {
     "name": "stdout",
     "output_type": "stream",
     "text": [
      "Populating the interactive namespace from numpy and matplotlib\n"
     ]
    }
   ],
   "source": [
    "%pylab inline \n",
    "from pymc3 import * "
   ]
  },
  {
   "cell_type": "code",
   "execution_count": 19,
   "metadata": {
    "collapsed": false
   },
   "outputs": [
    {
     "name": "stdout",
     "output_type": "stream",
     "text": [
      "[ 0.5   0.25  0.25]\n",
      "[ 0.5   0.25  0.25]\n",
      "{'p_simplex': array([ 0.,  0.])}\n",
      "{'p_simplex': array([-113.89917758,  -62.69917758])}\n",
      " [-----------------100%-----------------] 5000 of 5000 complete in 4.3 sec"
     ]
    },
    {
     "data": {
      "image/png": "[encoded data removed]",
      "text/plain": [
       "<matplotlib.figure.Figure at 0x186210ec>"
      ]
     },
     "metadata": {},
     "output_type": "display_data"
    }
   ],
   "source": [
    "with Model() as model:\n",
    "    \n",
    "    a = np.array([.1,.1,.1])\n",
    "    \n",
    "    p = Dirichlet('p', a, shape=3)\n",
    "    #c = Categorical('c', p, observed=[0,0,1,1,0,2])\n",
    "\n",
    "    start = find_MAP()\n",
    "    print model.test_point\n",
    "    print (start)\n",
    "    step = NUTS(model.vars)\n",
    "    trace = sample(5000, step)\n",
    "    \n",
    "a = traceplot(trace)"
   ]
  },
  {
   "cell_type": "code",
   "execution_count": 7,
   "metadata": {
    "collapsed": false
   },
   "outputs": [
    {
     "data": {
      "text/plain": [
       "{'p': array([ 0.,  0.,  1.]),\n",
       " 'p_simplex': array([ -3.87234445e+23,  -1.38063818e+22])}"
      ]
     },
     "execution_count": 7,
     "metadata": {},
     "output_type": "execute_result"
    }
   ],
   "source": [
    "trace[-1]"
   ]
  },
  {
   "cell_type": "code",
   "execution_count": null,
   "metadata": {
    "collapsed": false
   },
   "outputs": [],
   "source": [
    "\n",
    "\n",
    "with Model() as model:\n",
    "    k=3\n",
    "    \n",
    "    a = np.ones(k)*.5\n",
    "    \n",
    "    p = Dirichlet('p', a, shape=k, testval='mean')\n",
    "    #c = Categorical('c', p, observed=[0,0,1,1,0,2])\n",
    "\n",
    "    start = find_MAP()\n",
    "    step = NUTS(model.vars, scaling=guess_scaling(start)*10)\n",
    "    trace = sample(5000, step, start=start)\n",
    "    \n",
    "a = traceplot(trace)"
   ]
  },
  {
   "cell_type": "code",
   "execution_count": null,
   "metadata": {
    "collapsed": false
   },
   "outputs": [],
   "source": [
    "guess_scaling(trace[-1], model=model)"
   ]
  },
  {
   "cell_type": "code",
   "execution_count": null,
   "metadata": {
    "collapsed": false
   },
   "outputs": [],
   "source": [
    "step.Hbar"
   ]
  },
  {
   "cell_type": "code",
   "execution_count": null,
   "metadata": {
    "collapsed": false
   },
   "outputs": [],
   "source": [
    "start"
   ]
  },
  {
   "cell_type": "code",
   "execution_count": null,
   "metadata": {
    "collapsed": false
   },
   "outputs": [],
   "source": [
    "np.exp(-.097)"
   ]
  },
  {
   "cell_type": "code",
   "execution_count": null,
   "metadata": {
    "collapsed": false
   },
   "outputs": [],
   "source": [
    "with model:\n",
    "    dlp = model.dlogp()\n",
    "    \n",
    "dlp(model.test_point)"
   ]
  },
  {
   "cell_type": "code",
   "execution_count": null,
   "metadata": {
    "collapsed": false
   },
   "outputs": [],
   "source": [
    "model.test_point"
   ]
  },
  {
   "cell_type": "code",
   "execution_count": null,
   "metadata": {
    "collapsed": false
   },
   "outputs": [],
   "source": [
    "find_hessian(model.test_point, model=model)"
   ]
  },
  {
   "cell_type": "code",
   "execution_count": null,
   "metadata": {
    "collapsed": false
   },
   "outputs": [],
   "source": [
    "model.test_point"
   ]
  },
  {
   "cell_type": "code",
   "execution_count": 13,
   "metadata": {
    "collapsed": true
   },
   "outputs": [],
   "source": [
    "\n",
    "def conditional_pdf(variable, index=None, start=None, model=None):\n",
    "    model = modelcontext(model)\n",
    "    if start is None: \n",
    "        start = model.test_point\n",
    "    variable, = inputvars(variable)\n",
    "    replace = {model[varname] : theano.tensor.as_tensor_variable(value) for varname, value in start.items() }\n",
    "    x = theano.tensor.scalar('x0', dtype=variable.dtype)\n",
    "    x.tag.test_value = start[str(variable)][index]\n",
    "    replace[variable] = theano.tensor.set_subtensor(replace[variable][index], x)\n",
    "    \n",
    "    print (replace)\n",
    "\n",
    "    logpt = theano.clone(model.logpt, replace, strict=False)\n",
    "    print inputvars(logpt)\n",
    "    return theano.function([x], logpt)\n",
    "\n",
    "\n"
   ]
  },
  {
   "cell_type": "code",
   "execution_count": 16,
   "metadata": {
    "collapsed": false
   },
   "outputs": [
    {
     "name": "stdout",
     "output_type": "stream",
     "text": [
      "{p_simplex: IncSubtensor{Set;int64}.0}\n",
      "[x0]\n"
     ]
    }
   ],
   "source": [
    "with model:\n",
    "    f = conditional_pdf(p, 1, start=start)"
   ]
  },
  {
   "cell_type": "code",
   "execution_count": 18,
   "metadata": {
    "collapsed": false
   },
   "outputs": [
    {
     "data": {
      "text/plain": [
       "{'p_simplex': array([-113.89917758,  -62.69917758])}"
      ]
     },
     "execution_count": 18,
     "metadata": {},
     "output_type": "execute_result"
    }
   ],
   "source": [
    "start"
   ]
  },
  {
   "cell_type": "code",
   "execution_count": 17,
   "metadata": {
    "collapsed": false
   },
   "outputs": [
    {
     "data": {
      "text/plain": [
       "[<matplotlib.lines.Line2D at 0x192992cc>]"
      ]
     },
     "execution_count": 17,
     "metadata": {},
     "output_type": "execute_result"
    },
    {
     "data": {
      "image/png": "[encoded data removed]",
      "text/plain": [
       "<matplotlib.figure.Figure at 0x164971ac>"
      ]
     },
     "metadata": {},
     "output_type": "display_data"
    }
   ],
   "source": [
    "x = np.linspace(-10,10)\n",
    "y = [f(v) for v in x]\n",
    "plot(x,y)"
   ]
  },
  {
   "cell_type": "code",
   "execution_count": null,
   "metadata": {
    "collapsed": false
   },
   "outputs": [],
   "source": [
    "def logistic(x):\n",
    "    return 1.0/(1+np.exp(-x))\n",
    "logistic(np.array([0.08588418, -0.74669407]))"
   ]
  },
  {
   "cell_type": "code",
   "execution_count": 5,
   "metadata": {
    "collapsed": false
   },
   "outputs": [
    {
     "data": {
      "text/plain": [
       "array([  2,   6,  24, 120])"
      ]
     },
     "execution_count": 5,
     "metadata": {},
     "output_type": "execute_result"
    }
   ],
   "source": [
    "theano.tensor.extra_ops.cumprod([2,3,4,5]).tag.test_value"
   ]
  },
  {
   "cell_type": "code",
   "execution_count": null,
   "metadata": {
    "collapsed": true
   },
   "outputs": [],
   "source": []
  }
 ],
 "metadata": {
  "kernelspec": {
   "display_name": "Python 2",
   "language": "python",
   "name": "python2"
  },
  "language_info": {
   "codemirror_mode": {
    "name": "ipython",
    "version": 2
   },
   "file_extension": ".py",
   "mimetype": "text/x-python",
   "name": "python",
   "nbconvert_exporter": "python",
   "pygments_lexer": "ipython2",
   "version": "2.7.3"
  }
 },
 "nbformat": 4,
 "nbformat_minor": 0
}
