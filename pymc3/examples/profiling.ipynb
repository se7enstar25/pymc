{
 "cells": [
  {
   "cell_type": "markdown",
   "metadata": {},
   "source": [
    "#Profiling\n",
    "Sometimes computing the likelihood is not as fast as we would like. Theano provides handy profiling tools, which pymc3 provides a wrapper `model.profile` which returns a `ProfileStats` object. Here we'll profile the likelihood and gradient for the stochastic volatility example.\n",
    "\n",
    "First we build the model."
   ]
  },
  {
   "cell_type": "code",
   "execution_count": 1,
   "metadata": {
    "collapsed": false
   },
   "outputs": [
    {
     "name": "stderr",
     "output_type": "stream",
     "text": [
      ":0: FutureWarning: IPython widgets are experimental and may change in the future.\n"
     ]
    }
   ],
   "source": [
    "import numpy as np\n",
    "from pymc3 import *\n",
    "from pymc3.distributions.timeseries import *\n",
    "\n",
    "n = 400\n",
    "returns = np.genfromtxt(get_data_file('pymc3.examples', \"data/SP500.csv\"))[-n:]\n",
    "\n",
    "model = Model()\n",
    "with model:\n",
    "    sigma, log_sigma = model.TransformedVar(\n",
    "        'sigma', Exponential.dist(1. / .02, testval=.1),\n",
    "        logtransform)\n",
    "\n",
    "    nu = Exponential('nu', 1. / 10)\n",
    "\n",
    "    s = GaussianRandomWalk('s', sigma ** -2, shape=n)\n",
    "\n",
    "    r = T('r', nu, lam=exp(-2 * s), observed=returns)\n",
    "    \n"
   ]
  },
  {
   "cell_type": "markdown",
   "metadata": {},
   "source": [
    "Then call profile and summarize it."
   ]
  },
  {
   "cell_type": "code",
   "execution_count": 2,
   "metadata": {
    "collapsed": false
   },
   "outputs": [
    {
     "name": "stderr",
     "output_type": "stream",
     "text": [
      "Function profiling\n",
      "==================\n",
      "  Message: /home/john/Documents/workspace/pymc3/pymc3/model.py:194\n",
      "  Time in 1000 calls to Function.__call__: 1.506145e-01s\n",
      "  Time in Function.fn.__call__: 1.124353e-01s (74.651%)\n",
      "  Time in thunks: 9.804273e-02s (65.095%)\n",
      "  Total compile time: 5.747011e-01s\n",
      "    Number of Apply nodes: 18\n",
      "    Theano Optimizer time: 5.239811e-01s\n",
      "       Theano validate time: 5.190372e-03s\n",
      "    Theano Linker time (includes C, CUDA code generation/compiling): 2.100492e-02s\n",
      "       Import time 2.770901e-03s\n",
      "\n",
      "Time in all call to theano.grad() 0.000000e+00s\n",
      "Class\n",
      "---\n",
      "<% time> <sum %> <apply time> <time per call> <type> <#call> <#apply> <Class name>\n",
      "  93.7%    93.7%       0.092s       8.35e-06s     C    11000      11   theano.tensor.elemwise.Elemwise\n",
      "   2.3%    96.0%       0.002s       1.12e-06s     C     2000       2   theano.tensor.elemwise.Sum\n",
      "   2.1%    98.1%       0.002s       6.81e-07s     C     3000       3   theano.tensor.elemwise.DimShuffle\n",
      "   1.9%   100.0%       0.002s       9.50e-07s     C     2000       2   theano.tensor.subtensor.Subtensor\n",
      "   ... (remaining 0 Classes account for   0.00%(0.00s) of the runtime)\n",
      "\n",
      "Ops\n",
      "---\n",
      "<% time> <sum %> <apply time> <time per call> <type> <#call> <#apply> <Op name>\n",
      "  82.4%    82.4%       0.081s       8.08e-05s     C     1000        1   Elemwise{Composite{Switch((GT(Composite{exp((i0 * i1))}(i0, i1), i2) * i3 * GT(inv(sqrt(Composite{exp((i0 * i1))}(i0, i1))), i2)), (((i4 + (i5 * log(((i6 * Composite{exp((i0 * i1))}(i0, i1)) / i7)))) - i8) - (i5 * i9 * log1p(((Composite{exp((i0 * i1))}(i0, i1) * i10) / i7)))), i11)}}\n",
      "   3.5%    85.9%       0.003s       3.45e-06s     C     1000        1   Elemwise{Composite{Switch(i0, (i1 * ((i2 * i3 * sqr((i4 - i5))) + i6)), i7)}}\n",
      "   2.3%    88.2%       0.002s       1.12e-06s     C     2000        2   Sum{acc_dtype=float64}\n",
      "   2.1%    90.3%       0.002s       6.81e-07s     C     3000        3   InplaceDimShuffle{x}\n",
      "   1.8%    92.0%       0.002s       8.74e-07s     C     2000        2   Elemwise{Composite{scalar_gammaln((i0 * i1))}}\n",
      "   1.1%    93.2%       0.001s       1.08e-06s     C     1000        1   Subtensor{int64::}\n",
      "   1.0%    94.2%       0.001s       9.80e-07s     C     1000        1   Elemwise{exp,no_inplace}\n",
      "   1.0%    95.1%       0.001s       9.36e-07s     C     1000        1   Elemwise{Composite{log((i0 * i1))}}\n",
      "   0.9%    96.0%       0.001s       9.23e-07s     C     1000        1   Elemwise{Composite{(Switch(GT(i0, i1), (i2 - (i3 * i0)), i4) + i5 + Switch(i6, (i7 - (i8 * i9)), i4) + i10 + i11)}}[(0, 0)]\n",
      "   0.9%    96.9%       0.001s       8.56e-07s     C     1000        1   Elemwise{Composite{(GT(i0, i1) * GT(inv(sqrt(i0)), i1))}}\n",
      "   0.8%    97.8%       0.001s       8.18e-07s     C     1000        1   Subtensor{:int64:}\n",
      "   0.8%    98.5%       0.001s       7.52e-07s     C     1000        1   Elemwise{add,no_inplace}\n",
      "   0.8%    99.3%       0.001s       7.42e-07s     C     1000        1   Elemwise{gt,no_inplace}\n",
      "   0.7%   100.0%       0.001s       7.06e-07s     C     1000        1   Elemwise{Composite{inv(sqr(i0))}}\n",
      "   ... (remaining 0 Ops account for   0.00%(0.00s) of the runtime)\n",
      "\n",
      "Apply\n",
      "------\n",
      "<% time> <sum %> <apply time> <time per call> <#call> <id> <Apply name>\n",
      "  82.4%    82.4%       0.081s       8.08e-05s   1000    13   Elemwise{Composite{Switch((GT(Composite{exp((i0 * i1))}(i0, i1), i2) * i3 * GT(inv(sqrt(Composite{exp((i0 * i1))}(i0, i1))), i2)), (((i4 + (i5 * log(((i6 * Composite{exp((i0 * i1))}(i0, i1)) / i7)))) - i8) - (i5 * i9 * log1p(((Composite{exp((i0 * i1))}(i0, i1) * i10) / i7)))), i11)}}(TensorConstant{(1,) of -2.0}, s, TensorConstant{(1,) of 0}, InplaceDimShuffle{x}.0, Elemwise{Composite{scalar_gammaln((i0 * i1))}}.0, TensorConstant{(1,) of 0.5}, Tenso\n",
      "   3.5%    85.9%       0.003s       3.45e-06s   1000    14   Elemwise{Composite{Switch(i0, (i1 * ((i2 * i3 * sqr((i4 - i5))) + i6)), i7)}}(Elemwise{Composite{(GT(i0, i1) * GT(inv(sqrt(i0)), i1))}}.0, TensorConstant{(1,) of 0.5}, TensorConstant{(1,) of -1.0}, Elemwise{Composite{inv(sqr(i0))}}.0, Subtensor{int64::}.0, Subtensor{:int64:}.0, Elemwise{Composite{log((i0 * i1))}}.0, TensorConstant{(1,) of -inf})\n",
      "   1.2%    87.1%       0.001s       1.20e-06s   1000    16   Sum{acc_dtype=float64}(Elemwise{Composite{Switch(i0, (i1 * ((i2 * i3 * sqr((i4 - i5))) + i6)), i7)}}.0)\n",
      "   1.1%    88.2%       0.001s       1.08e-06s   1000     4   Subtensor{int64::}(s, Constant{1})\n",
      "   1.1%    89.3%       0.001s       1.07e-06s   1000    10   Elemwise{Composite{scalar_gammaln((i0 * i1))}}(TensorConstant{(1,) of 0.5}, Elemwise{add,no_inplace}.0)\n",
      "   1.1%    90.4%       0.001s       1.04e-06s   1000    15   Sum{acc_dtype=float64}(Elemwise{Composite{Switch((GT(Composite{exp((i0 * i1))}(i0, i1), i2) * i3 * GT(inv(sqrt(Composite{exp((i0 * i1))}(i0, i1))), i2)), (((i4 + (i5 * log(((i6 * Composite{exp((i0 * i1))}(i0, i1)) / i7)))) - i8) - (i5 * i9 * log1p(((Composite{exp((i0 * i1))}(i0, i1) * i10) / i7)))), i11)}}.0)\n",
      "   1.0%    91.4%       0.001s       9.80e-07s   1000     0   Elemwise{exp,no_inplace}(log_sigma)\n",
      "   1.0%    92.3%       0.001s       9.36e-07s   1000    11   Elemwise{Composite{log((i0 * i1))}}(TensorConstant{(1,) of 0...9154943092}, Elemwise{Composite{inv(sqr(i0))}}.0)\n",
      "   0.9%    93.3%       0.001s       9.23e-07s   1000    17   Elemwise{Composite{(Switch(GT(i0, i1), (i2 - (i3 * i0)), i4) + i5 + Switch(i6, (i7 - (i8 * i9)), i4) + i10 + i11)}}[(0, 0)](sigma, TensorConstant{0}, TensorConstant{3.91202306747}, TensorConstant{50.0}, TensorConstant{-inf}, log_sigma, Elemwise{gt,no_inplace}.0, TensorConstant{-2.30258509299}, TensorConstant{0.1}, nu, Sum{acc_dtype=float64}.0, Sum{acc_dtype=float64}.0)\n",
      "   0.9%    94.1%       0.001s       8.57e-07s   1000     8   InplaceDimShuffle{x}(Elemwise{gt,no_inplace}.0)\n",
      "   0.9%    95.0%       0.001s       8.56e-07s   1000    12   Elemwise{Composite{(GT(i0, i1) * GT(inv(sqrt(i0)), i1))}}(Elemwise{Composite{inv(sqr(i0))}}.0, TensorConstant{(1,) of 0})\n",
      "   0.8%    95.9%       0.001s       8.18e-07s   1000     3   Subtensor{:int64:}(s, Constant{-1})\n",
      "   0.8%    96.6%       0.001s       7.52e-07s   1000     6   Elemwise{add,no_inplace}(TensorConstant{(1,) of 1.0}, InplaceDimShuffle{x}.0)\n",
      "   0.8%    97.4%       0.001s       7.42e-07s   1000     2   Elemwise{gt,no_inplace}(nu, TensorConstant{0})\n",
      "   0.7%    98.1%       0.001s       7.06e-07s   1000     9   Elemwise{Composite{inv(sqr(i0))}}(InplaceDimShuffle{x}.0)\n",
      "   0.7%    98.8%       0.001s       6.83e-07s   1000     5   InplaceDimShuffle{x}(sigma)\n",
      "   0.7%    99.5%       0.001s       6.79e-07s   1000     7   Elemwise{Composite{scalar_gammaln((i0 * i1))}}(TensorConstant{(1,) of 0.5}, InplaceDimShuffle{x}.0)\n",
      "   0.5%   100.0%       0.001s       5.01e-07s   1000     1   InplaceDimShuffle{x}(nu)\n",
      "   ... (remaining 0 Apply instances account for 0.00%(0.00s) of the runtime)\n",
      "\n"
     ]
    }
   ],
   "source": [
    "model.profile(model.logpt).summary()\n"
   ]
  },
  {
   "cell_type": "code",
   "execution_count": 3,
   "metadata": {
    "collapsed": false
   },
   "outputs": [
    {
     "name": "stderr",
     "output_type": "stream",
     "text": [
      "Function profiling\n",
      "==================\n",
      "  Message: /home/john/Documents/workspace/pymc3/pymc3/model.py:194\n",
      "  Time in 1000 calls to Function.__call__: 2.530243e-01s\n",
      "  Time in Function.fn.__call__: 2.023389e-01s (79.968%)\n",
      "  Time in thunks: 1.640260e-01s (64.826%)\n",
      "  Total compile time: 1.579683e+00s\n",
      "    Number of Apply nodes: 45\n",
      "    Theano Optimizer time: 1.478235e+00s\n",
      "       Theano validate time: 2.640319e-02s\n",
      "    Theano Linker time (includes C, CUDA code generation/compiling): 4.506111e-02s\n",
      "       Import time 5.736113e-03s\n",
      "\n",
      "Time in all call to theano.grad() 8.991649e-01s\n",
      "Class\n",
      "---\n",
      "<% time> <sum %> <apply time> <time per call> <type> <#call> <#apply> <Class name>\n",
      "  76.3%    76.3%       0.125s       5.21e-06s     C    24000      24   theano.tensor.elemwise.Elemwise\n",
      "   7.1%    83.4%       0.012s       5.83e-06s     C     2000       2   theano.tensor.subtensor.IncSubtensor\n",
      "   5.4%    88.8%       0.009s       1.28e-06s     C     7000       7   theano.tensor.elemwise.Sum\n",
      "   3.6%    92.4%       0.006s       5.86e-06s     C     1000       1   theano.tensor.basic.Join\n",
      "   2.5%    94.8%       0.004s       4.02e-06s     C     1000       1   theano.tensor.basic.Alloc\n",
      "   1.8%    96.7%       0.003s       7.57e-07s     C     4000       4   theano.tensor.elemwise.DimShuffle\n",
      "   1.6%    98.3%       0.003s       1.31e-06s     C     2000       2   theano.tensor.subtensor.Subtensor\n",
      "   1.3%    99.6%       0.002s       7.02e-07s     C     3000       3   theano.tensor.basic.Flatten\n",
      "   0.4%   100.0%       0.001s       7.34e-07s     C     1000       1   theano.compile.ops.Shape_i\n",
      "   ... (remaining 0 Classes account for   0.00%(0.00s) of the runtime)\n",
      "\n",
      "Ops\n",
      "---\n",
      "<% time> <sum %> <apply time> <time per call> <type> <#call> <#apply> <Op name>\n",
      "  27.0%    27.0%       0.044s       4.43e-05s     C     1000        1   Elemwise{Composite{exp((i0 * i1))}}\n",
      "  15.3%    42.3%       0.025s       2.51e-05s     C     1000        1   Elemwise{Composite{Switch(i0, (-log1p((i1 / i2))), i3)}}\n",
      "   5.7%    48.0%       0.009s       2.34e-06s     C     4000        4   Elemwise{Switch}\n",
      "   5.5%    53.5%       0.009s       2.24e-06s     C     4000        4   Elemwise{mul,no_inplace}\n",
      "   5.4%    58.9%       0.009s       1.28e-06s     C     7000        7   Sum{acc_dtype=float64}\n",
      "   4.8%    63.7%       0.008s       7.92e-06s     C     1000        1   IncSubtensor{InplaceInc;int64::}\n",
      "   4.4%    68.2%       0.007s       7.25e-06s     C     1000        1   Elemwise{Composite{Switch(i0, ((i1 * i2 * i3 * i4) / i5), i6)}}\n",
      "   3.7%    71.9%       0.006s       6.15e-06s     C     1000        1   Elemwise{Composite{(i0 * (Switch(i1, i2, i3) + Switch(i1, ((i4 * i5 * i6 * i7) / i8), i3)))}}[(0, 7)]\n",
      "   3.6%    75.5%       0.006s       5.86e-06s     C     1000        1   Join\n",
      "   3.1%    78.6%       0.005s       5.14e-06s     C     1000        1   Elemwise{Composite{(GT(i0, i1) * i2 * GT(inv(sqrt(i0)), i1))}}\n",
      "   2.5%    81.1%       0.004s       4.02e-06s     C     1000        1   Alloc\n",
      "   2.3%    83.3%       0.004s       3.74e-06s     C     1000        1   IncSubtensor{InplaceInc;:int64:}\n",
      "   1.8%    85.2%       0.003s       7.57e-07s     C     4000        4   InplaceDimShuffle{x}\n",
      "   1.8%    87.0%       0.003s       2.97e-06s     C     1000        1   Elemwise{sub,no_inplace}\n",
      "   1.6%    88.6%       0.003s       2.62e-06s     C     1000        1   Elemwise{Composite{(Switch(i0, i1, i2) + (i3 * i4 * scalar_psi((i3 * i5))) + (i6 * (i7 / sqr(i8))) + (i3 * i9 * scalar_psi((i3 * i8))) + (i3 * i10) + (i11 / i8))}}[(0, 4)]\n",
      "   1.6%    90.2%       0.003s       2.57e-06s     C     1000        1   Elemwise{Composite{(i0 + Switch(GT(i1, i2), (i3 * i1), i2) + (i4 * (((i5 * i6) / i7) - i8) * inv(Composite{(sqr(i0) * i0)}(i1)) * i1))}}[(0, 1)]\n",
      "   1.5%    91.7%       0.003s       2.53e-06s     C     1000        1   Elemwise{Composite{Switch(i0, (i1 * sqr(i2)), i3)}}[(0, 2)]\n",
      "   1.3%    93.0%       0.002s       7.02e-07s     C     3000        3   Flatten{1}\n",
      "   1.0%    94.0%       0.002s       1.61e-06s     C     1000        1   Elemwise{exp,no_inplace}\n",
      "   0.9%    94.9%       0.002s       1.52e-06s     C     1000        1   Elemwise{Add}[(0, 1)]\n",
      "   ... (remaining 8 Ops account for   5.11%(0.01s) of the runtime)\n",
      "\n",
      "Apply\n",
      "------\n",
      "<% time> <sum %> <apply time> <time per call> <#call> <id> <Apply name>\n",
      "  27.0%    27.0%       0.044s       4.43e-05s   1000     5   Elemwise{Composite{exp((i0 * i1))}}(TensorConstant{(1,) of -2.0}, s)\n",
      "  15.3%    42.3%       0.025s       2.51e-05s   1000    18   Elemwise{Composite{Switch(i0, (-log1p((i1 / i2))), i3)}}(Elemwise{Composite{(GT(i0, i1) * i2 * GT(inv(sqrt(i0)), i1))}}.0, Elemwise{mul,no_inplace}.0, InplaceDimShuffle{x}.0, TensorConstant{(1,) of 0})\n",
      "   4.8%    47.1%       0.008s       7.92e-06s   1000    36   IncSubtensor{InplaceInc;int64::}(Elemwise{Composite{(i0 * (Switch(i1, i2, i3) + Switch(i1, ((i4 * i5 * i6 * i7) / i8), i3)))}}[(0, 7)].0, Elemwise{mul,no_inplace}.0, Constant{1})\n",
      "   4.4%    51.5%       0.007s       7.25e-06s   1000    28   Elemwise{Composite{Switch(i0, ((i1 * i2 * i3 * i4) / i5), i6)}}(Elemwise{Composite{(GT(i0, i1) * i2 * GT(inv(sqrt(i0)), i1))}}.0, TensorConstant{(1,) of 0.5}, InplaceDimShuffle{x}.0, Elemwise{Composite{exp((i0 * i1))}}.0, TensorConstant{[  4.05769..48400e-06]}, Elemwise{Add}[(0, 1)].0, TensorConstant{(1,) of 0})\n",
      "   3.7%    55.3%       0.006s       6.15e-06s   1000    32   Elemwise{Composite{(i0 * (Switch(i1, i2, i3) + Switch(i1, ((i4 * i5 * i6 * i7) / i8), i3)))}}[(0, 7)](TensorConstant{(1,) of -2.0}, Elemwise{Composite{(GT(i0, i1) * i2 * GT(inv(sqrt(i0)), i1))}}.0, TensorConstant{(1,) of 0.5}, TensorConstant{(1,) of 0}, TensorConstant{(1,) of -0.5}, InplaceDimShuffle{x}.0, TensorConstant{[  4.05769..48400e-06]}, Elemwise{Composite{exp((i0 * i1))}}.0, Elemwise{Add}[(0, 1)].0)\n",
      "   3.6%    58.9%       0.006s       5.86e-06s   1000    44   Join(TensorConstant{0}, Flatten{1}.0, Flatten{1}.0, Flatten{1}.0)\n",
      "   3.1%    62.0%       0.005s       5.14e-06s   1000    16   Elemwise{Composite{(GT(i0, i1) * i2 * GT(inv(sqrt(i0)), i1))}}(Elemwise{Composite{exp((i0 * i1))}}.0, TensorConstant{(1,) of 0}, InplaceDimShuffle{x}.0)\n",
      "   2.5%    64.4%       0.004s       4.02e-06s   1000    31   Alloc(Elemwise{Switch}.0, Elemwise{Composite{(i0 - Switch(LT(i1, i0), i1, i0))}}[(0, 0)].0)\n",
      "   2.3%    66.7%       0.004s       3.74e-06s   1000    39   IncSubtensor{InplaceInc;:int64:}(IncSubtensor{InplaceInc;int64::}.0, Elemwise{mul,no_inplace}.0, Constant{-1})\n",
      "   1.9%    68.6%       0.003s       3.05e-06s   1000    20   Elemwise{switch,no_inplace}(Elemwise{Composite{(GT(i0, i1) * i2 * GT(inv(sqrt(i0)), i1))}}.0, Elemwise{mul,no_inplace}.0, TensorConstant{(1,) of 0})\n",
      "   1.8%    70.4%       0.003s       2.99e-06s   1000    30   Elemwise{mul,no_inplace}(TensorConstant{(1,) of -1.0}, Elemwise{Switch}.0, InplaceDimShuffle{x}.0, Elemwise{sub,no_inplace}.0)\n",
      "   1.8%    72.2%       0.003s       2.97e-06s   1000     9   Elemwise{sub,no_inplace}(Subtensor{int64::}.0, Subtensor{:int64:}.0)\n",
      "   1.7%    73.9%       0.003s       2.83e-06s   1000    19   Elemwise{switch,no_inplace}(Elemwise{Composite{(GT(i0, i1) * i2 * GT(inv(sqrt(i0)), i1))}}.0, TensorConstant{(1,) of -1.0}, TensorConstant{(1,) of 0})\n",
      "   1.6%    75.5%       0.003s       2.62e-06s   1000    38   Elemwise{Composite{(Switch(i0, i1, i2) + (i3 * i4 * scalar_psi((i3 * i5))) + (i6 * (i7 / sqr(i8))) + (i3 * i9 * scalar_psi((i3 * i8))) + (i3 * i10) + (i11 / i8))}}[(0, 4)](Elemwise{gt,no_inplace}.0, TensorConstant{-0.1}, TensorConstant{0}, TensorConstant{0.5}, Sum{acc_dtype=float64}.0, Elemwise{add,no_inplace}.0, TensorConstant{3.14159265359}, Sum{acc_dtype=float64}.0, nu, Sum{acc_dtype=float64}.0, Sum{acc_dtype=float64}.0, Sum{acc_dtype=float64}.0)\n",
      "   1.6%    77.1%       0.003s       2.57e-06s   1000    29   Elemwise{mul,no_inplace}(Elemwise{Switch}.0, InplaceDimShuffle{x}.0, Elemwise{sub,no_inplace}.0)\n",
      "   1.6%    78.7%       0.003s       2.57e-06s   1000    40   Elemwise{Composite{(i0 + Switch(GT(i1, i2), (i3 * i1), i2) + (i4 * (((i5 * i6) / i7) - i8) * inv(Composite{(sqr(i0) * i0)}(i1)) * i1))}}[(0, 1)](TensorConstant{1.0}, sigma, TensorConstant{0}, TensorConstant{-50.0}, TensorConstant{-2.0}, TensorConstant{0.5}, Sum{acc_dtype=float64}.0, Elemwise{Composite{inv(sqr(i0))}}.0, Sum{acc_dtype=float64}.0)\n",
      "   1.5%    80.2%       0.003s       2.53e-06s   1000    33   Elemwise{Composite{Switch(i0, (i1 * sqr(i2)), i3)}}[(0, 2)](Elemwise{Composite{(GT(i0, i1) * GT(inv(sqrt(i0)), i1))}}.0, TensorConstant{(1,) of 0.5}, Elemwise{sub,no_inplace}.0, TensorConstant{(1,) of 0})\n",
      "   1.4%    81.6%       0.002s       2.34e-06s   1000    12   Elemwise{mul,no_inplace}(Elemwise{Composite{exp((i0 * i1))}}.0, TensorConstant{[  4.05769..48400e-06]})\n",
      "   1.4%    83.0%       0.002s       2.27e-06s   1000    21   Elemwise{Switch}(Elemwise{Composite{(GT(i0, i1) * i2 * GT(inv(sqrt(i0)), i1))}}.0, TensorConstant{(1,) of 1.0}, TensorConstant{(1,) of 0.0})\n",
      "   1.0%    84.0%       0.002s       1.68e-06s   1000    27   Sum{acc_dtype=float64}(Elemwise{Switch}.0)\n",
      "   ... (remaining 25 Apply instances account for 15.96%(0.03s) of the runtime)\n",
      "\n"
     ]
    }
   ],
   "source": [
    "model.profile(gradient(model.logpt, model.vars)).summary()"
   ]
  },
  {
   "cell_type": "code",
   "execution_count": null,
   "metadata": {
    "collapsed": true
   },
   "outputs": [],
   "source": []
  }
 ],
 "metadata": {
  "kernelspec": {
   "display_name": "Python 2",
   "language": "python",
   "name": "python2"
  },
  "language_info": {
   "codemirror_mode": {
    "name": "ipython",
    "version": 2
   },
   "file_extension": ".py",
   "mimetype": "text/x-python",
   "name": "python",
   "nbconvert_exporter": "python",
   "pygments_lexer": "ipython2",
   "version": "2.7.3"
  }
 },
 "nbformat": 4,
 "nbformat_minor": 0
}
